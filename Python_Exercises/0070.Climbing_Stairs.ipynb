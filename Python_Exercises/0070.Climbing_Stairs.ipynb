{
 "cells": [
  {
   "cell_type": "markdown",
   "metadata": {},
   "source": [
    "<div><p>You are climbing a staircase. It takes <code>n</code> steps to reach the top.</p>\n",
    "\n",
    "<p>Each time you can either climb <code>1</code> or <code>2</code> steps. In how many distinct ways can you climb to the top?</p>\n",
    "\n",
    "<p>&nbsp;</p>\n",
    "<p><strong>Example 1:</strong></p>\n",
    "\n",
    "<pre><strong>Input:</strong> n = 2\n",
    "<strong>Output:</strong> 2\n",
    "<strong>Explanation:</strong> There are two ways to climb to the top.\n",
    "1. 1 step + 1 step\n",
    "2. 2 steps\n",
    "</pre>\n",
    "\n",
    "<p><strong>Example 2:</strong></p>\n",
    "\n",
    "<pre><strong>Input:</strong> n = 3\n",
    "<strong>Output:</strong> 3\n",
    "<strong>Explanation:</strong> There are three ways to climb to the top.\n",
    "1. 1 step + 1 step + 1 step\n",
    "2. 1 step + 2 steps\n",
    "3. 2 steps + 1 step\n",
    "</pre>\n",
    "\n",
    "<p>&nbsp;</p>\n",
    "<p><strong>Constraints:</strong></p>\n",
    "\n",
    "<ul>\n",
    "\t<li><code>1 &lt;= n &lt;= 45</code></li>\n",
    "</ul>\n",
    "</div>"
   ]
  },
  {
   "cell_type": "code",
   "execution_count": null,
   "metadata": {},
   "outputs": [],
   "source": []
  },
  {
   "cell_type": "code",
   "execution_count": null,
   "metadata": {},
   "outputs": [],
   "source": []
  },
  {
   "cell_type": "code",
   "execution_count": 1,
   "metadata": {},
   "outputs": [],
   "source": [
    "import math   "
   ]
  },
  {
   "cell_type": "code",
   "execution_count": 38,
   "metadata": {},
   "outputs": [],
   "source": [
    "def climbStairs( n):\n",
    "    def fak(ones,twos):\n",
    "        return math.factorial(ones+twos)/math.factorial(ones)/math.factorial(twos)\n",
    "    twos=0\n",
    "    result=0\n",
    "    for i in range (n,-1,-2):\n",
    "        ones =i\n",
    "        #print(\"n**\",ones,\"twos**\",twos)\n",
    "        result+=fak(ones,twos)\n",
    "        twos+=1\n",
    "    return int(result)"
   ]
  },
  {
   "cell_type": "code",
   "execution_count": 39,
   "metadata": {},
   "outputs": [
    {
     "data": {
      "text/plain": [
       "5"
      ]
     },
     "execution_count": 39,
     "metadata": {},
     "output_type": "execute_result"
    }
   ],
   "source": [
    "climbStairs(4)"
   ]
  },
  {
   "cell_type": "code",
   "execution_count": null,
   "metadata": {},
   "outputs": [],
   "source": [
    "# Top down - TLE # ı wish ı can do:=\n",
    "\n",
    "def climbStairs1(self, n):\n",
    "    if n == 1:\n",
    "        return 1\n",
    "    if n == 2:\n",
    "        return 2\n",
    "    return climbStairs1(n-1)+climbStairs1(n-2)\n",
    " \n",
    "# Bottom up, O(n) space\n",
    "def climbStairs2( n):\n",
    "    if n == 1:\n",
    "        return 1\n",
    "    res = [0 for i in xrange(n)]\n",
    "    res[0], res[1] = 1, 2\n",
    "    for i in xrange(2, n):\n",
    "        res[i] = res[i-1] + res[i-2]\n",
    "    return res[-1]\n",
    "\n",
    "# Bottom up, constant space\n",
    "def climbStairs3( n):\n",
    "    if n == 1:\n",
    "        return 1\n",
    "    a, b = 1, 2\n",
    "    for i in xrange(2, n):\n",
    "        tmp = b\n",
    "        b = a+b\n",
    "        a = tmp\n",
    "    return b\n",
    "    \n",
    "# Top down + memorization (list)\n",
    "def climbStairs4(self, n):\n",
    "    if n == 1:\n",
    "        return 1\n",
    "    dic = [-1 for i in xrange(n)]\n",
    "    dic[0], dic[1] = 1, 2\n",
    "    return self.helper(n-1, dic)\n",
    "    \n",
    "def helper(self, n, dic):\n",
    "    if dic[n] < 0:\n",
    "        dic[n] = self.helper(n-1, dic)+self.helper(n-2, dic)\n",
    "    return dic[n]\n",
    "    \n",
    "# Top down + memorization (dictionary)  \n",
    "def __init__(self):\n",
    "    self.dic = {1:1, 2:2}\n",
    "    \n",
    "def climbStairs(self, n):\n",
    "    if n not in self.dic:\n",
    "        self.dic[n] = self.climbStairs(n-1) + self.climbStairs(n-2)\n",
    "    return self.dic[n]"
   ]
  }
 ],
 "metadata": {
  "kernelspec": {
   "display_name": "Python 3",
   "language": "python",
   "name": "python3"
  },
  "language_info": {
   "codemirror_mode": {
    "name": "ipython",
    "version": 3
   },
   "file_extension": ".py",
   "mimetype": "text/x-python",
   "name": "python",
   "nbconvert_exporter": "python",
   "pygments_lexer": "ipython3",
   "version": "3.8.3"
  }
 },
 "nbformat": 4,
 "nbformat_minor": 4
}
