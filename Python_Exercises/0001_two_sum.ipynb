{
 "cells": [
  {
   "cell_type": "markdown",
   "metadata": {},
   "source": [
    "<div><p>Given an array of integers <code>nums</code>&nbsp;and an integer <code>target</code>, return <em>indices of the two numbers such that they add up to <code>target</code></em>.</p>\n",
    "\n",
    "<p>You may assume that each input would have <strong><em>exactly</em> one solution</strong>, and you may not use the <em>same</em> element twice.</p>\n",
    "\n",
    "<p>You can return the answer in any order.</p>\n",
    "\n",
    "<p>&nbsp;</p>\n",
    "<p><strong>Example 1:</strong></p>\n",
    "\n",
    "<pre><strong>Input:</strong> nums = [2,7,11,15], target = 9\n",
    "<strong>Output:</strong> [0,1]\n",
    "<strong>Output:</strong> Because nums[0] + nums[1] == 9, we return [0, 1].\n",
    "</pre>\n",
    "\n",
    "<p><strong>Example 2:</strong></p>\n",
    "\n",
    "<pre><strong>Input:</strong> nums = [3,2,4], target = 6\n",
    "<strong>Output:</strong> [1,2]\n",
    "</pre>\n",
    "\n",
    "<p><strong>Example 3:</strong></p>\n",
    "\n",
    "<pre><strong>Input:</strong> nums = [3,3], target = 6\n",
    "<strong>Output:</strong> [0,1]\n",
    "</pre>\n",
    "\n",
    "<p>&nbsp;</p>\n",
    "<p><strong>Constraints:</strong></p>\n",
    "\n",
    "<ul>\n",
    "\t<li><code>2 &lt;= nums.length &lt;= 10<sup>3</sup></code></li>\n",
    "\t<li><code>-10<sup>9</sup> &lt;= nums[i] &lt;= 10<sup>9</sup></code></li>\n",
    "\t<li><code>-10<sup>9</sup> &lt;= target &lt;= 10<sup>9</sup></code></li>\n",
    "\t<li><strong>Only one valid answer exists.</strong></li>\n",
    "</ul>\n",
    "</div>"
   ]
  },
  {
   "cell_type": "code",
   "execution_count": 11,
   "metadata": {},
   "outputs": [],
   "source": [
    "#my_solution\n",
    "def twosum(nums,target):\n",
    "    for i in range (len (nums)):\n",
    "        for j in range(len (nums)):\n",
    "            if i!=j  and nums[i]+nums[j] == target:\n",
    "                return [i,j]\n"
   ]
  },
  {
   "cell_type": "code",
   "execution_count": 21,
   "metadata": {},
   "outputs": [
    {
     "data": {
      "text/plain": [
       "[0, 1]"
      ]
     },
     "execution_count": 21,
     "metadata": {},
     "output_type": "execute_result"
    }
   ],
   "source": [
    "twosum([3,3],6)"
   ]
  },
  {
   "cell_type": "code",
   "execution_count": 19,
   "metadata": {},
   "outputs": [],
   "source": [
    "# this is leetcode (ıshayn code and so clever:))\n",
    "def twosum2(nums,target):\n",
    "    myHash = {}\n",
    "    for index, value in enumerate(nums):\n",
    "        if target - value in myHash:\n",
    "            return [myHash[target-value], index]\n",
    "        myHash[value] = index\n"
   ]
  },
  {
   "cell_type": "code",
   "execution_count": 20,
   "metadata": {},
   "outputs": [
    {
     "data": {
      "text/plain": [
       "[0, 1]"
      ]
     },
     "execution_count": 20,
     "metadata": {},
     "output_type": "execute_result"
    }
   ],
   "source": [
    "twosum2([2,7,11,15],9)"
   ]
  },
  {
   "cell_type": "code",
   "execution_count": 31,
   "metadata": {},
   "outputs": [],
   "source": [
    "# this is same sumtwo2() function\n",
    "def twoSum3(nums, target):\n",
    "    dictionary = dict()\n",
    "    pos = 0\n",
    "    while pos < len(nums):\n",
    "        if (target - nums[pos]) not in dictionary:\n",
    "            dictionary[nums[pos]] = pos\n",
    "            pos += 1\n",
    "        else:\n",
    "            return [dictionary[target - nums[pos]], pos]"
   ]
  },
  {
   "cell_type": "code",
   "execution_count": 32,
   "metadata": {},
   "outputs": [
    {
     "data": {
      "text/plain": [
       "[0, 1]"
      ]
     },
     "execution_count": 32,
     "metadata": {},
     "output_type": "execute_result"
    }
   ],
   "source": [
    "twoSum3([2,7,11,15],9)"
   ]
  },
  {
   "cell_type": "code",
   "execution_count": null,
   "metadata": {},
   "outputs": [],
   "source": [
    "# this is best answer and simplest answer too:))\n",
    "def twoSum4( nums, target) :\n",
    "    i = 0\n",
    "    while i < len(nums) - 1:\n",
    "        for j in range(i + 1, len(nums)):\n",
    "            if nums[i] + nums[j] == target:\n",
    "                return [i, j]\n",
    "        i += 1"
   ]
  }
 ],
 "metadata": {
  "kernelspec": {
   "display_name": "Python 3",
   "language": "python",
   "name": "python3"
  },
  "language_info": {
   "codemirror_mode": {
    "name": "ipython",
    "version": 3
   },
   "file_extension": ".py",
   "mimetype": "text/x-python",
   "name": "python",
   "nbconvert_exporter": "python",
   "pygments_lexer": "ipython3",
   "version": "3.8.3"
  }
 },
 "nbformat": 4,
 "nbformat_minor": 4
}
