{
 "cells": [
  {
   "cell_type": "code",
   "execution_count": 159,
   "metadata": {},
   "outputs": [],
   "source": [
    "strs=[\"flower\",\"flow\",\"flight\"]"
   ]
  },
  {
   "cell_type": "code",
   "execution_count": 160,
   "metadata": {},
   "outputs": [],
   "source": [
    "def longestCommonPrefix( strs) :\n",
    "    if strs == [] or len(min(strs,key=len))==0:\n",
    "        return \"\"\n",
    "    first = 0\n",
    "    while (len(min(strs,key=len))>first) and  ([strs[0][first]]* len(strs)== [i[first] for i in strs])  :\n",
    "        first+=1\n",
    "    if first > 0:\n",
    "        return strs[0][:first]\n",
    "    else: return \"\"\n",
    "        "
   ]
  },
  {
   "cell_type": "code",
   "execution_count": 161,
   "metadata": {},
   "outputs": [
    {
     "data": {
      "text/plain": [
       "'fl'"
      ]
     },
     "execution_count": 161,
     "metadata": {},
     "output_type": "execute_result"
    }
   ],
   "source": [
    "longestCommonPrefix(strs)"
   ]
  },
  {
   "cell_type": "code",
   "execution_count": 154,
   "metadata": {},
   "outputs": [],
   "source": [
    "# this is grl_pwr solutions and I love this solution not mine:))\n",
    "def longestCommonPrefix2( strs):\n",
    "    prefix=\"\"\n",
    "    for x in zip(*strs):\n",
    "        if len(set(x)) == 1:\n",
    "            prefix+=x[0]\n",
    "        else:\n",
    "            break\n",
    "    return prefix "
   ]
  },
  {
   "cell_type": "code",
   "execution_count": 162,
   "metadata": {},
   "outputs": [
    {
     "data": {
      "text/plain": [
       "'fl'"
      ]
     },
     "execution_count": 162,
     "metadata": {},
     "output_type": "execute_result"
    }
   ],
   "source": [
    "longestCommonPrefix2(strs)"
   ]
  },
  {
   "cell_type": "code",
   "execution_count": 166,
   "metadata": {},
   "outputs": [],
   "source": [
    "def longestCommonPrefix3( strs):\n",
    "    if len(strs)==0:return \"\"\n",
    "    long=strs[0]\n",
    "    strs=strs[1:]\n",
    "    for i in strs:\n",
    "        while i.find(long)!=0:\n",
    "            long=long[0:len(long)-1]\n",
    "\n",
    "    return(long)"
   ]
  },
  {
   "cell_type": "code",
   "execution_count": 167,
   "metadata": {},
   "outputs": [
    {
     "data": {
      "text/plain": [
       "'fl'"
      ]
     },
     "execution_count": 167,
     "metadata": {},
     "output_type": "execute_result"
    }
   ],
   "source": [
    "longestCommonPrefix3(strs)"
   ]
  },
  {
   "cell_type": "code",
   "execution_count": null,
   "metadata": {},
   "outputs": [],
   "source": []
  }
 ],
 "metadata": {
  "kernelspec": {
   "display_name": "Python 3",
   "language": "python",
   "name": "python3"
  },
  "language_info": {
   "codemirror_mode": {
    "name": "ipython",
    "version": 3
   },
   "file_extension": ".py",
   "mimetype": "text/x-python",
   "name": "python",
   "nbconvert_exporter": "python",
   "pygments_lexer": "ipython3",
   "version": "3.8.3"
  }
 },
 "nbformat": 4,
 "nbformat_minor": 4
}
