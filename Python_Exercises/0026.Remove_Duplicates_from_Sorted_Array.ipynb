{
 "cells": [
  {
   "cell_type": "code",
   "execution_count": 25,
   "metadata": {},
   "outputs": [],
   "source": [
    "def removeDuplicates(nums):\n",
    "    i=1\n",
    "    if len(nums)<2:\n",
    "        return print(f\"{len (nums)},\",  \"nums = \", nums)\n",
    "    else:\n",
    "        while  i !=len( nums):\n",
    "            if nums[i-1] == nums[i]:\n",
    "                del nums [i]\n",
    "                i-=1\n",
    "            i+=1\n",
    "        return print(f\"{len (nums)},\",  \"nums = \", nums)  "
   ]
  },
  {
   "cell_type": "code",
   "execution_count": 26,
   "metadata": {},
   "outputs": [
    {
     "name": "stdout",
     "output_type": "stream",
     "text": [
      "3, nums =  [1, 2, 3]\n"
     ]
    }
   ],
   "source": [
    "removeDuplicates([1,1,1,2,2,2,3,3])"
   ]
  },
  {
   "cell_type": "code",
   "execution_count": 23,
   "metadata": {},
   "outputs": [],
   "source": [
    "def removeDuplicates2(nums):\n",
    "    nums[:]=list(sorted(set(nums)))\n",
    "    return print(f\"{len (nums)},\",  \"nums = \", nums)"
   ]
  },
  {
   "cell_type": "code",
   "execution_count": 34,
   "metadata": {},
   "outputs": [
    {
     "name": "stdout",
     "output_type": "stream",
     "text": [
      "3, nums =  [1, 2, 3]\n"
     ]
    }
   ],
   "source": [
    "removeDuplicates2([1,1,1,2,2,2,3,3])"
   ]
  },
  {
   "cell_type": "code",
   "execution_count": null,
   "metadata": {},
   "outputs": [],
   "source": []
  }
 ],
 "metadata": {
  "kernelspec": {
   "display_name": "Python 3",
   "language": "python",
   "name": "python3"
  },
  "language_info": {
   "codemirror_mode": {
    "name": "ipython",
    "version": 3
   },
   "file_extension": ".py",
   "mimetype": "text/x-python",
   "name": "python",
   "nbconvert_exporter": "python",
   "pygments_lexer": "ipython3",
   "version": "3.8.3"
  }
 },
 "nbformat": 4,
 "nbformat_minor": 4
}
