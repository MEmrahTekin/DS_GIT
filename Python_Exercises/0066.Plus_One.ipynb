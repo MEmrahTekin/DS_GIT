{
 "cells": [
  {
   "cell_type": "code",
   "execution_count": 10,
   "metadata": {},
   "outputs": [],
   "source": [
    " def plusOne(digits) :\n",
    "        if sum (digits) == 9*len(digits):\n",
    "            return [1] + [0]*len(digits)\n",
    "        else: \n",
    "            i = len(digits)-1\n",
    "            while digits[i] == 9:\n",
    "                i-=1\n",
    "            digits[i]+=1\n",
    "            digits[i+1:]=[0]*(len(digits)-i-1)\n",
    "            return digits\n",
    "        digits[-1]+=1\n",
    "        return digits"
   ]
  },
  {
   "cell_type": "code",
   "execution_count": 18,
   "metadata": {},
   "outputs": [
    {
     "data": {
      "text/plain": [
       "[1, 0, 0, 0, 0, 0]"
      ]
     },
     "execution_count": 18,
     "metadata": {},
     "output_type": "execute_result"
    }
   ],
   "source": [
    "plusOne([9,9,9,9,9])"
   ]
  },
  {
   "cell_type": "code",
   "execution_count": 20,
   "metadata": {},
   "outputs": [],
   "source": [
    "def plusOne2(digits):\n",
    "    n=len(digits)\n",
    "    flag=0\n",
    "    n=n-1\n",
    "    while n>=0:\n",
    "        if digits[n]<9:\n",
    "            digits[n]=digits[n]+1\n",
    "            flag=1\n",
    "            return digits\n",
    "        else:\n",
    "            digits[n]=0\n",
    "        n=n-1\n",
    "    if flag==0:\n",
    "        digits.insert(0,1)\n",
    "        return digits\n",
    "    "
   ]
  },
  {
   "cell_type": "code",
   "execution_count": 21,
   "metadata": {},
   "outputs": [
    {
     "data": {
      "text/plain": [
       "[1, 0, 0, 0]"
      ]
     },
     "execution_count": 21,
     "metadata": {},
     "output_type": "execute_result"
    }
   ],
   "source": [
    "plusOne2([9,9,9])"
   ]
  },
  {
   "cell_type": "code",
   "execution_count": 26,
   "metadata": {},
   "outputs": [],
   "source": [
    "def plusOne3(digits):\n",
    "    strn=\"\"\n",
    "    for i in digits:\n",
    "        strn+=str(i)\n",
    "    strn=str(int(strn)+1)\n",
    "    liste= list(strn)\n",
    "    for i in range(len(liste)):\n",
    "        liste[i] = int(liste[i])\n",
    "    return liste"
   ]
  },
  {
   "cell_type": "code",
   "execution_count": 27,
   "metadata": {},
   "outputs": [
    {
     "data": {
      "text/plain": [
       "[9, 9, 9]"
      ]
     },
     "execution_count": 27,
     "metadata": {},
     "output_type": "execute_result"
    }
   ],
   "source": [
    "plusOne3([9,9,8])"
   ]
  },
  {
   "cell_type": "code",
   "execution_count": null,
   "metadata": {},
   "outputs": [],
   "source": []
  }
 ],
 "metadata": {
  "kernelspec": {
   "display_name": "Python 3",
   "language": "python",
   "name": "python3"
  },
  "language_info": {
   "codemirror_mode": {
    "name": "ipython",
    "version": 3
   },
   "file_extension": ".py",
   "mimetype": "text/x-python",
   "name": "python",
   "nbconvert_exporter": "python",
   "pygments_lexer": "ipython3",
   "version": "3.8.3"
  }
 },
 "nbformat": 4,
 "nbformat_minor": 4
}
