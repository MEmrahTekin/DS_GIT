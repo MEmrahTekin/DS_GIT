{
 "cells": [
  {
   "cell_type": "markdown",
   "metadata": {},
   "source": [
    "<div><p>Given two binary strings <code>a</code> and <code>b</code>, return <em>their sum as a binary string</em>.</p>\n",
    "\n",
    "<p>&nbsp;</p>\n",
    "<p><strong>Example 1:</strong></p>\n",
    "<pre><strong>Input:</strong> a = \"11\", b = \"1\"\n",
    "<strong>Output:</strong> \"100\"\n",
    "</pre><p><strong>Example 2:</strong></p>\n",
    "<pre><strong>Input:</strong> a = \"1010\", b = \"1011\"\n",
    "<strong>Output:</strong> \"10101\"\n",
    "</pre>\n",
    "<p>&nbsp;</p>\n",
    "<p><strong>Constraints:</strong></p>\n",
    "\n",
    "<ul>\n",
    "\t<li><code>1 &lt;= a.length, b.length &lt;= 10<sup>4</sup></code></li>\n",
    "\t<li><code>a</code> and <code>b</code> consist&nbsp;only of <code>'0'</code> or <code>'1'</code> characters.</li>\n",
    "\t<li>Each string does not contain leading zeros except for the zero itself.</li>\n",
    "</ul>\n",
    "</div>"
   ]
  },
  {
   "cell_type": "code",
   "execution_count": 77,
   "metadata": {},
   "outputs": [],
   "source": [
    "def addBinary(a, b) :\n",
    "    return bin(int(a, base=2)+int(b, base=2))[2:]"
   ]
  },
  {
   "cell_type": "code",
   "execution_count": 78,
   "metadata": {},
   "outputs": [
    {
     "data": {
      "text/plain": [
       "'100'"
      ]
     },
     "execution_count": 78,
     "metadata": {},
     "output_type": "execute_result"
    }
   ],
   "source": [
    "addBinary(\"11\",\"1\")"
   ]
  },
  {
   "cell_type": "code",
   "execution_count": 75,
   "metadata": {},
   "outputs": [],
   "source": [
    "def addBinary2(a, b) :\n",
    "    dicti ={\"000\":[\"0\",\"0\"],\"001\":[\"0\",\"1\"],\"010\":[\"0\",\"1\"],\"011\":[\"1\",\"0\"],\"100\":[\"0\",\"1\"],\"101\":[\"1\",\"0\"],\"110\":[\"1\",\"0\"],\"111\":[\"1\",\"1\"]}\n",
    "    mini=min(a,b,key = len)\n",
    "    maxi=max(b,a, key = len) # In case a and b have same length, they should be written in a different order.\n",
    "    mini=\"0\"*(len(maxi)-len(mini))+mini\n",
    "    flag = \"0\"\n",
    "    result=\"\"\n",
    "    for i in range(1,len (maxi)+1):\n",
    "        flag,res = dicti[flag+maxi[-i]+mini[-i]] \n",
    "        result =res+result\n",
    "    if flag == \"1\":\n",
    "        result = \"1\"+result\n",
    "    return result\n",
    "    \n",
    "    "
   ]
  },
  {
   "cell_type": "code",
   "execution_count": 76,
   "metadata": {},
   "outputs": [
    {
     "data": {
      "text/plain": [
       "'10101'"
      ]
     },
     "execution_count": 76,
     "metadata": {},
     "output_type": "execute_result"
    }
   ],
   "source": [
    "addBinary2(\"1010\",\"1011\")"
   ]
  }
 ],
 "metadata": {
  "kernelspec": {
   "display_name": "Python 3",
   "language": "python",
   "name": "python3"
  },
  "language_info": {
   "codemirror_mode": {
    "name": "ipython",
    "version": 3
   },
   "file_extension": ".py",
   "mimetype": "text/x-python",
   "name": "python",
   "nbconvert_exporter": "python",
   "pygments_lexer": "ipython3",
   "version": "3.8.3"
  }
 },
 "nbformat": 4,
 "nbformat_minor": 4
}
