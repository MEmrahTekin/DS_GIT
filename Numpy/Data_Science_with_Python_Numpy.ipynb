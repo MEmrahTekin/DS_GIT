{
  "nbformat": 4,
  "nbformat_minor": 0,
  "metadata": {
    "kernelspec": {
      "display_name": "Python 3",
      "language": "python",
      "name": "python3"
    },
    "language_info": {
      "codemirror_mode": {
        "name": "ipython",
        "version": 3
      },
      "file_extension": ".py",
      "mimetype": "text/x-python",
      "name": "python",
      "nbconvert_exporter": "python",
      "pygments_lexer": "ipython3",
      "version": "3.6.9"
    },
    "colab": {
      "name": "Data Science with Python- Numpy.ipynb",
      "provenance": [],
      "collapsed_sections": []
    }
  },
  "cells": [
    {
      "cell_type": "markdown",
      "metadata": {
        "id": "WfThrjF1kF3F"
      },
      "source": [
        "## Example"
      ]
    },
    {
      "cell_type": "code",
      "metadata": {
        "id": "yPGYqczmkF3J"
      },
      "source": [
        "varA=list(range(10))\n",
        "varB=list(range(10,20))\n",
        "varC=list(range(20,30))"
      ],
      "execution_count": 1,
      "outputs": []
    },
    {
      "cell_type": "code",
      "metadata": {
        "colab": {
          "base_uri": "https://localhost:8080/"
        },
        "id": "wW5rfv5YkF3K",
        "outputId": "51ce0358-b83d-472f-9d1a-9b84b18244c5"
      },
      "source": [
        "print (varA)\n",
        "print (varB)\n",
        "print (varC)"
      ],
      "execution_count": 2,
      "outputs": [
        {
          "output_type": "stream",
          "text": [
            "[0, 1, 2, 3, 4, 5, 6, 7, 8, 9]\n",
            "[10, 11, 12, 13, 14, 15, 16, 17, 18, 19]\n",
            "[20, 21, 22, 23, 24, 25, 26, 27, 28, 29]\n"
          ],
          "name": "stdout"
        }
      ]
    },
    {
      "cell_type": "code",
      "metadata": {
        "id": "2qZF1pQakF3L"
      },
      "source": [
        "dataInALl=[varA,varB,varC]"
      ],
      "execution_count": 3,
      "outputs": []
    },
    {
      "cell_type": "code",
      "metadata": {
        "colab": {
          "base_uri": "https://localhost:8080/"
        },
        "id": "bwjKy5AdkF3L",
        "outputId": "6480bb0f-fadf-4e20-ed40-c308ec36b415"
      },
      "source": [
        "dataInALl"
      ],
      "execution_count": 4,
      "outputs": [
        {
          "output_type": "execute_result",
          "data": {
            "text/plain": [
              "[[0, 1, 2, 3, 4, 5, 6, 7, 8, 9],\n",
              " [10, 11, 12, 13, 14, 15, 16, 17, 18, 19],\n",
              " [20, 21, 22, 23, 24, 25, 26, 27, 28, 29]]"
            ]
          },
          "metadata": {
            "tags": []
          },
          "execution_count": 4
        }
      ]
    },
    {
      "cell_type": "code",
      "metadata": {
        "colab": {
          "base_uri": "https://localhost:8080/"
        },
        "id": "KaXT67_QkF3L",
        "outputId": "9d76f054-f822-4fd7-a2c8-5cb3438ab62b"
      },
      "source": [
        "[sum(i) for i in dataInALl]"
      ],
      "execution_count": 5,
      "outputs": [
        {
          "output_type": "execute_result",
          "data": {
            "text/plain": [
              "[45, 145, 245]"
            ]
          },
          "metadata": {
            "tags": []
          },
          "execution_count": 5
        }
      ]
    },
    {
      "cell_type": "markdown",
      "metadata": {
        "id": "HZKB7YzOkF3L"
      },
      "source": [
        "## Why we dont use the List for numerical data analysis?"
      ]
    },
    {
      "cell_type": "markdown",
      "metadata": {
        "id": "H69Elyi8kF3M"
      },
      "source": [
        "Python is a slow language and struggles more on complex mathematical operations."
      ]
    },
    {
      "cell_type": "markdown",
      "metadata": {
        "id": "QWc9aIVpkF3M"
      },
      "source": [
        "The values are object and are not the number type or any specific data types, they are pointer to the acutal number in the memory. "
      ]
    },
    {
      "cell_type": "markdown",
      "metadata": {
        "id": "It4r4fXfkF3M"
      },
      "source": [
        "NumPy’s main object is the homogeneous multidimensional array. It is a table of elements (usually numbers), all of the same type, indexed by a tuple of non-negative integers. In NumPy dimensions are called axes.\n",
        "\n",
        "\n",
        "A numpy array is a single object for all the collection of the array with all numbers. they are much more efficeint on storing and also are faster during computations.\n",
        "\n",
        "source: https://numpy.org/devdocs/user/quickstart.html"
      ]
    },
    {
      "cell_type": "markdown",
      "metadata": {
        "id": "wVedNZT_kF3M"
      },
      "source": [
        "the core fundamental data type for numpy is an array."
      ]
    },
    {
      "cell_type": "code",
      "metadata": {
        "colab": {
          "base_uri": "https://localhost:8080/"
        },
        "id": "l2rLyDxwkF3M",
        "outputId": "b6787d52-dd93-44f7-86df-92c2189d8252"
      },
      "source": [
        "!pip install numpy"
      ],
      "execution_count": 6,
      "outputs": [
        {
          "output_type": "stream",
          "text": [
            "Requirement already satisfied: numpy in /usr/local/lib/python3.7/dist-packages (1.19.5)\n"
          ],
          "name": "stdout"
        }
      ]
    },
    {
      "cell_type": "code",
      "metadata": {
        "id": "ndBJ83D5kF3N"
      },
      "source": [
        "import numpy as np"
      ],
      "execution_count": 7,
      "outputs": []
    },
    {
      "cell_type": "code",
      "metadata": {
        "colab": {
          "base_uri": "https://localhost:8080/"
        },
        "id": "_xm8KwDRkF3N",
        "outputId": "1d4bc751-a288-4b67-c81d-71982325ac0e"
      },
      "source": [
        "dataInALl"
      ],
      "execution_count": 8,
      "outputs": [
        {
          "output_type": "execute_result",
          "data": {
            "text/plain": [
              "[[0, 1, 2, 3, 4, 5, 6, 7, 8, 9],\n",
              " [10, 11, 12, 13, 14, 15, 16, 17, 18, 19],\n",
              " [20, 21, 22, 23, 24, 25, 26, 27, 28, 29]]"
            ]
          },
          "metadata": {
            "tags": []
          },
          "execution_count": 8
        }
      ]
    },
    {
      "cell_type": "code",
      "metadata": {
        "colab": {
          "base_uri": "https://localhost:8080/"
        },
        "id": "0EmLlCyckF3N",
        "outputId": "be659438-b55b-4ca5-e085-b6d683c02638"
      },
      "source": [
        "sampeData=np.array(dataInALl)\n",
        "sampeData"
      ],
      "execution_count": 9,
      "outputs": [
        {
          "output_type": "execute_result",
          "data": {
            "text/plain": [
              "array([[ 0,  1,  2,  3,  4,  5,  6,  7,  8,  9],\n",
              "       [10, 11, 12, 13, 14, 15, 16, 17, 18, 19],\n",
              "       [20, 21, 22, 23, 24, 25, 26, 27, 28, 29]])"
            ]
          },
          "metadata": {
            "tags": []
          },
          "execution_count": 9
        }
      ]
    },
    {
      "cell_type": "code",
      "metadata": {
        "colab": {
          "base_uri": "https://localhost:8080/"
        },
        "id": "cmBPDscNkF3N",
        "outputId": "c998fbf2-5c0e-48a0-a301-3b4ccd7125c5"
      },
      "source": [
        "print ('size        ',sampeData.size)\n",
        "print ('dimension   ',sampeData.ndim)\n",
        "print ('shape       ',sampeData.shape)\n",
        "print ('dtype       ',sampeData.dtype)\n",
        "print ('flags       ',sampeData.flags)  #C contiguous the rows are stored as contiguous blocks of memory. #Fortran contiguous since the columns are in contiguous blocks of memory:\n",
        "print ('strides     ',sampeData.strides) "
      ],
      "execution_count": 10,
      "outputs": [
        {
          "output_type": "stream",
          "text": [
            "size         30\n",
            "dimension    2\n",
            "shape        (3, 10)\n",
            "dtype        int64\n",
            "flags          C_CONTIGUOUS : True\n",
            "  F_CONTIGUOUS : False\n",
            "  OWNDATA : True\n",
            "  WRITEABLE : True\n",
            "  ALIGNED : True\n",
            "  WRITEBACKIFCOPY : False\n",
            "  UPDATEIFCOPY : False\n",
            "\n",
            "strides      (80, 8)\n"
          ],
          "name": "stdout"
        }
      ]
    },
    {
      "cell_type": "code",
      "metadata": {
        "id": "fj9HJSQUkF3N"
      },
      "source": [
        "sampeData2=np.array([[.4,.5,.6],[.4,.5,.6]])"
      ],
      "execution_count": 11,
      "outputs": []
    },
    {
      "cell_type": "code",
      "metadata": {
        "colab": {
          "base_uri": "https://localhost:8080/"
        },
        "id": "Ktpyqf9KkF3N",
        "outputId": "25218f5c-6219-4c73-851f-3d71c2e85f4a"
      },
      "source": [
        "print ('size        ',sampeData2.size)\n",
        "print ('dimension   ',sampeData2.ndim)\n",
        "print ('shape       ',sampeData2.shape)\n",
        "print ('dtype       ',sampeData2.dtype)\n",
        "print ('flags       ',sampeData2.flags)\n",
        "print ('strides     ',sampeData2.strides)"
      ],
      "execution_count": 12,
      "outputs": [
        {
          "output_type": "stream",
          "text": [
            "size         6\n",
            "dimension    2\n",
            "shape        (2, 3)\n",
            "dtype        float64\n",
            "flags          C_CONTIGUOUS : True\n",
            "  F_CONTIGUOUS : False\n",
            "  OWNDATA : True\n",
            "  WRITEABLE : True\n",
            "  ALIGNED : True\n",
            "  WRITEBACKIFCOPY : False\n",
            "  UPDATEIFCOPY : False\n",
            "\n",
            "strides      (24, 8)\n"
          ],
          "name": "stdout"
        }
      ]
    },
    {
      "cell_type": "markdown",
      "metadata": {
        "id": "hFxjFay3kF3O"
      },
      "source": [
        "Ram does not have concept of row and column\n",
        "\n",
        "strides:  24 bytes jump/skip to reach in row below and 8 bytes to jump in the side column"
      ]
    },
    {
      "cell_type": "markdown",
      "metadata": {
        "id": "LM6nSNpvkF3O"
      },
      "source": [
        "## Transpose"
      ]
    },
    {
      "cell_type": "code",
      "metadata": {
        "id": "jh-87KrZkF3O",
        "colab": {
          "base_uri": "https://localhost:8080/"
        },
        "outputId": "b4f78e9f-f66e-40fa-d0df-c6728c3c53ea"
      },
      "source": [
        "sampeData.T"
      ],
      "execution_count": 13,
      "outputs": [
        {
          "output_type": "execute_result",
          "data": {
            "text/plain": [
              "array([[ 0, 10, 20],\n",
              "       [ 1, 11, 21],\n",
              "       [ 2, 12, 22],\n",
              "       [ 3, 13, 23],\n",
              "       [ 4, 14, 24],\n",
              "       [ 5, 15, 25],\n",
              "       [ 6, 16, 26],\n",
              "       [ 7, 17, 27],\n",
              "       [ 8, 18, 28],\n",
              "       [ 9, 19, 29]])"
            ]
          },
          "metadata": {
            "tags": []
          },
          "execution_count": 13
        }
      ]
    },
    {
      "cell_type": "code",
      "metadata": {
        "id": "fM42B54dkF3O",
        "colab": {
          "base_uri": "https://localhost:8080/"
        },
        "outputId": "dd8a90a0-4eb6-4850-c282-f4b39fcf0fa4"
      },
      "source": [
        "sampeData.flags"
      ],
      "execution_count": 14,
      "outputs": [
        {
          "output_type": "execute_result",
          "data": {
            "text/plain": [
              "  C_CONTIGUOUS : True\n",
              "  F_CONTIGUOUS : False\n",
              "  OWNDATA : True\n",
              "  WRITEABLE : True\n",
              "  ALIGNED : True\n",
              "  WRITEBACKIFCOPY : False\n",
              "  UPDATEIFCOPY : False"
            ]
          },
          "metadata": {
            "tags": []
          },
          "execution_count": 14
        }
      ]
    },
    {
      "cell_type": "code",
      "metadata": {
        "colab": {
          "base_uri": "https://localhost:8080/"
        },
        "id": "SKPC_Z7_oaGs",
        "outputId": "03fb7bb0-3866-4d6d-98bd-eef7a59265b2"
      },
      "source": [
        "sampeData"
      ],
      "execution_count": 15,
      "outputs": [
        {
          "output_type": "execute_result",
          "data": {
            "text/plain": [
              "array([[ 0,  1,  2,  3,  4,  5,  6,  7,  8,  9],\n",
              "       [10, 11, 12, 13, 14, 15, 16, 17, 18, 19],\n",
              "       [20, 21, 22, 23, 24, 25, 26, 27, 28, 29]])"
            ]
          },
          "metadata": {
            "tags": []
          },
          "execution_count": 15
        }
      ]
    },
    {
      "cell_type": "code",
      "metadata": {
        "id": "z_6Sbn7ZkF3O",
        "colab": {
          "base_uri": "https://localhost:8080/"
        },
        "outputId": "9d59f33d-0ccf-45bb-dd10-049a025fb55a"
      },
      "source": [
        "sampeData.strides"
      ],
      "execution_count": 16,
      "outputs": [
        {
          "output_type": "execute_result",
          "data": {
            "text/plain": [
              "(80, 8)"
            ]
          },
          "metadata": {
            "tags": []
          },
          "execution_count": 16
        }
      ]
    },
    {
      "cell_type": "code",
      "metadata": {
        "id": "m7QQePpbkF3O",
        "colab": {
          "base_uri": "https://localhost:8080/"
        },
        "outputId": "37c30256-af66-4b83-96da-a3234aac9d43"
      },
      "source": [
        "sampeData.transpose().strides"
      ],
      "execution_count": 17,
      "outputs": [
        {
          "output_type": "execute_result",
          "data": {
            "text/plain": [
              "(8, 80)"
            ]
          },
          "metadata": {
            "tags": []
          },
          "execution_count": 17
        }
      ]
    },
    {
      "cell_type": "markdown",
      "metadata": {
        "id": "vyS_RB-9kF3P"
      },
      "source": [
        "Meaning the transpose is not a new copy they  are looking at the same place, and if you need a transpose just change your stride and no more copying the data or duplicating"
      ]
    },
    {
      "cell_type": "markdown",
      "metadata": {
        "id": "PNK3Zu3okF3P"
      },
      "source": [
        "##  Slicing in Numpy"
      ]
    },
    {
      "cell_type": "code",
      "metadata": {
        "id": "P2iWUzylkF3P",
        "colab": {
          "base_uri": "https://localhost:8080/"
        },
        "outputId": "838ac6e1-cd3d-4507-dab8-fe9c247a0b69"
      },
      "source": [
        "sampeData"
      ],
      "execution_count": 18,
      "outputs": [
        {
          "output_type": "execute_result",
          "data": {
            "text/plain": [
              "array([[ 0,  1,  2,  3,  4,  5,  6,  7,  8,  9],\n",
              "       [10, 11, 12, 13, 14, 15, 16, 17, 18, 19],\n",
              "       [20, 21, 22, 23, 24, 25, 26, 27, 28, 29]])"
            ]
          },
          "metadata": {
            "tags": []
          },
          "execution_count": 18
        }
      ]
    },
    {
      "cell_type": "code",
      "metadata": {
        "id": "aADmaJ6RkF3P",
        "colab": {
          "base_uri": "https://localhost:8080/"
        },
        "outputId": "01e856f5-0411-4266-be69-bad1d1096701"
      },
      "source": [
        "sampeData[:,:]"
      ],
      "execution_count": 19,
      "outputs": [
        {
          "output_type": "execute_result",
          "data": {
            "text/plain": [
              "array([[ 0,  1,  2,  3,  4,  5,  6,  7,  8,  9],\n",
              "       [10, 11, 12, 13, 14, 15, 16, 17, 18, 19],\n",
              "       [20, 21, 22, 23, 24, 25, 26, 27, 28, 29]])"
            ]
          },
          "metadata": {
            "tags": []
          },
          "execution_count": 19
        }
      ]
    },
    {
      "cell_type": "code",
      "metadata": {
        "id": "h30oIpR0kF3P",
        "colab": {
          "base_uri": "https://localhost:8080/"
        },
        "outputId": "9fa49b4d-0cdb-4452-ae59-3d054ccb3824"
      },
      "source": [
        "sampeData[::]"
      ],
      "execution_count": 20,
      "outputs": [
        {
          "output_type": "execute_result",
          "data": {
            "text/plain": [
              "array([[ 0,  1,  2,  3,  4,  5,  6,  7,  8,  9],\n",
              "       [10, 11, 12, 13, 14, 15, 16, 17, 18, 19],\n",
              "       [20, 21, 22, 23, 24, 25, 26, 27, 28, 29]])"
            ]
          },
          "metadata": {
            "tags": []
          },
          "execution_count": 20
        }
      ]
    },
    {
      "cell_type": "code",
      "metadata": {
        "id": "8_OUZUK1kF3P",
        "colab": {
          "base_uri": "https://localhost:8080/"
        },
        "outputId": "dc6e8b9e-366c-419e-8e9f-2dee33961406"
      },
      "source": [
        "sampeData[:2]"
      ],
      "execution_count": 21,
      "outputs": [
        {
          "output_type": "execute_result",
          "data": {
            "text/plain": [
              "array([[ 0,  1,  2,  3,  4,  5,  6,  7,  8,  9],\n",
              "       [10, 11, 12, 13, 14, 15, 16, 17, 18, 19]])"
            ]
          },
          "metadata": {
            "tags": []
          },
          "execution_count": 21
        }
      ]
    },
    {
      "cell_type": "code",
      "metadata": {
        "id": "lgsm1mrGkF3Q",
        "colab": {
          "base_uri": "https://localhost:8080/"
        },
        "outputId": "a873e318-6f28-4664-f362-1ea182fa0b6d"
      },
      "source": [
        "sampeData[1:,3:5]"
      ],
      "execution_count": 22,
      "outputs": [
        {
          "output_type": "execute_result",
          "data": {
            "text/plain": [
              "array([[13, 14],\n",
              "       [23, 24]])"
            ]
          },
          "metadata": {
            "tags": []
          },
          "execution_count": 22
        }
      ]
    },
    {
      "cell_type": "code",
      "metadata": {
        "id": "JiZ2SJslkF3Q",
        "colab": {
          "base_uri": "https://localhost:8080/"
        },
        "outputId": "2f040b2c-cf19-42d3-fec3-e559c3771d4f"
      },
      "source": [
        "sampeData[2][-1]"
      ],
      "execution_count": 23,
      "outputs": [
        {
          "output_type": "execute_result",
          "data": {
            "text/plain": [
              "29"
            ]
          },
          "metadata": {
            "tags": []
          },
          "execution_count": 23
        }
      ]
    },
    {
      "cell_type": "code",
      "metadata": {
        "id": "VhhIDYR6kF3Q",
        "colab": {
          "base_uri": "https://localhost:8080/"
        },
        "outputId": "540a21e4-c237-476b-fbf9-91e351aafa1a"
      },
      "source": [
        "sampeData"
      ],
      "execution_count": 24,
      "outputs": [
        {
          "output_type": "execute_result",
          "data": {
            "text/plain": [
              "array([[ 0,  1,  2,  3,  4,  5,  6,  7,  8,  9],\n",
              "       [10, 11, 12, 13, 14, 15, 16, 17, 18, 19],\n",
              "       [20, 21, 22, 23, 24, 25, 26, 27, 28, 29]])"
            ]
          },
          "metadata": {
            "tags": []
          },
          "execution_count": 24
        }
      ]
    },
    {
      "cell_type": "code",
      "metadata": {
        "id": "Xgw0keIukF3Q",
        "colab": {
          "base_uri": "https://localhost:8080/"
        },
        "outputId": "7422f6bc-3cba-4536-d836-795ec2577cdb"
      },
      "source": [
        "sampeData.flags"
      ],
      "execution_count": 25,
      "outputs": [
        {
          "output_type": "execute_result",
          "data": {
            "text/plain": [
              "  C_CONTIGUOUS : True\n",
              "  F_CONTIGUOUS : False\n",
              "  OWNDATA : True\n",
              "  WRITEABLE : True\n",
              "  ALIGNED : True\n",
              "  WRITEBACKIFCOPY : False\n",
              "  UPDATEIFCOPY : False"
            ]
          },
          "metadata": {
            "tags": []
          },
          "execution_count": 25
        }
      ]
    },
    {
      "cell_type": "code",
      "metadata": {
        "id": "jFQiNnv2kF3Q",
        "colab": {
          "base_uri": "https://localhost:8080/"
        },
        "outputId": "8639ef12-63e8-47a1-d75b-caf4cae003c3"
      },
      "source": [
        "sampeData[::2].flags"
      ],
      "execution_count": 26,
      "outputs": [
        {
          "output_type": "execute_result",
          "data": {
            "text/plain": [
              "  C_CONTIGUOUS : False\n",
              "  F_CONTIGUOUS : False\n",
              "  OWNDATA : False\n",
              "  WRITEABLE : True\n",
              "  ALIGNED : True\n",
              "  WRITEBACKIFCOPY : False\n",
              "  UPDATEIFCOPY : False"
            ]
          },
          "metadata": {
            "tags": []
          },
          "execution_count": 26
        }
      ]
    },
    {
      "cell_type": "code",
      "metadata": {
        "id": "qY8MqSQWkF3Q",
        "colab": {
          "base_uri": "https://localhost:8080/"
        },
        "outputId": "17f5cd60-0566-4243-ad1b-4795645839d5"
      },
      "source": [
        "sampeData.strides"
      ],
      "execution_count": 27,
      "outputs": [
        {
          "output_type": "execute_result",
          "data": {
            "text/plain": [
              "(80, 8)"
            ]
          },
          "metadata": {
            "tags": []
          },
          "execution_count": 27
        }
      ]
    },
    {
      "cell_type": "code",
      "metadata": {
        "colab": {
          "base_uri": "https://localhost:8080/"
        },
        "id": "GG0ySTk5pqZA",
        "outputId": "630f6cc6-6feb-4877-8cff-0941ab11f4b0"
      },
      "source": [
        "sampeData.dtype"
      ],
      "execution_count": 28,
      "outputs": [
        {
          "output_type": "execute_result",
          "data": {
            "text/plain": [
              "dtype('int64')"
            ]
          },
          "metadata": {
            "tags": []
          },
          "execution_count": 28
        }
      ]
    },
    {
      "cell_type": "code",
      "metadata": {
        "id": "0_bUT3iGpScu"
      },
      "source": [
        "sampeData = sampeData.astype(\"int32\")"
      ],
      "execution_count": 29,
      "outputs": []
    },
    {
      "cell_type": "code",
      "metadata": {
        "colab": {
          "base_uri": "https://localhost:8080/"
        },
        "id": "fnYMVRBapkzn",
        "outputId": "519ce7e1-3ab0-42ff-c41f-359c2e52ba79"
      },
      "source": [
        "sampeData.strides"
      ],
      "execution_count": 30,
      "outputs": [
        {
          "output_type": "execute_result",
          "data": {
            "text/plain": [
              "(40, 4)"
            ]
          },
          "metadata": {
            "tags": []
          },
          "execution_count": 30
        }
      ]
    },
    {
      "cell_type": "code",
      "metadata": {
        "colab": {
          "base_uri": "https://localhost:8080/"
        },
        "id": "mLZz8Ko4o2-l",
        "outputId": "9de92532-286c-4b41-b961-45e912d36428"
      },
      "source": [
        "sampeData.dtype"
      ],
      "execution_count": 31,
      "outputs": [
        {
          "output_type": "execute_result",
          "data": {
            "text/plain": [
              "dtype('int32')"
            ]
          },
          "metadata": {
            "tags": []
          },
          "execution_count": 31
        }
      ]
    },
    {
      "cell_type": "code",
      "metadata": {
        "id": "J7Q1goTdkF3R",
        "colab": {
          "base_uri": "https://localhost:8080/"
        },
        "outputId": "cb5d5922-2717-42c8-e2f3-45a456db4b56"
      },
      "source": [
        "sampeData"
      ],
      "execution_count": 32,
      "outputs": [
        {
          "output_type": "execute_result",
          "data": {
            "text/plain": [
              "array([[ 0,  1,  2,  3,  4,  5,  6,  7,  8,  9],\n",
              "       [10, 11, 12, 13, 14, 15, 16, 17, 18, 19],\n",
              "       [20, 21, 22, 23, 24, 25, 26, 27, 28, 29]], dtype=int32)"
            ]
          },
          "metadata": {
            "tags": []
          },
          "execution_count": 32
        }
      ]
    },
    {
      "cell_type": "code",
      "metadata": {
        "id": "5lTyCfNBkF3R",
        "colab": {
          "base_uri": "https://localhost:8080/"
        },
        "outputId": "acad137b-7897-463f-cd73-c6cebaf51ba0"
      },
      "source": [
        "sampeData[::2]"
      ],
      "execution_count": 33,
      "outputs": [
        {
          "output_type": "execute_result",
          "data": {
            "text/plain": [
              "array([[ 0,  1,  2,  3,  4,  5,  6,  7,  8,  9],\n",
              "       [20, 21, 22, 23, 24, 25, 26, 27, 28, 29]], dtype=int32)"
            ]
          },
          "metadata": {
            "tags": []
          },
          "execution_count": 33
        }
      ]
    },
    {
      "cell_type": "code",
      "metadata": {
        "id": "esI2WE6ekF3R",
        "colab": {
          "base_uri": "https://localhost:8080/"
        },
        "outputId": "f2281830-324e-47c1-ad41-5287b816ba9e"
      },
      "source": [
        "sampeData[::2].strides #because sampedata[1] is absent we must pass 80 bytes to access sampedate[:,0] "
      ],
      "execution_count": 34,
      "outputs": [
        {
          "output_type": "execute_result",
          "data": {
            "text/plain": [
              "(80, 4)"
            ]
          },
          "metadata": {
            "tags": []
          },
          "execution_count": 34
        }
      ]
    },
    {
      "cell_type": "code",
      "metadata": {
        "colab": {
          "base_uri": "https://localhost:8080/"
        },
        "id": "7iI2yODfqU8y",
        "outputId": "7a518bdb-8941-4223-a9b9-75e8f8f5000b"
      },
      "source": [
        "sampeData.strides"
      ],
      "execution_count": 35,
      "outputs": [
        {
          "output_type": "execute_result",
          "data": {
            "text/plain": [
              "(40, 4)"
            ]
          },
          "metadata": {
            "tags": []
          },
          "execution_count": 35
        }
      ]
    },
    {
      "cell_type": "markdown",
      "metadata": {
        "id": "n51O0TRckF3R"
      },
      "source": [
        "doubled the byte skips as now jumping 2 rows and hence also confirming its not copying the data using the same memory as the original data"
      ]
    },
    {
      "cell_type": "code",
      "metadata": {
        "id": "PG48Du8BkF3R",
        "colab": {
          "base_uri": "https://localhost:8080/"
        },
        "outputId": "95f17db0-5359-4af5-af07-75ec5fc6bbef"
      },
      "source": [
        "sampeData[::2]"
      ],
      "execution_count": 36,
      "outputs": [
        {
          "output_type": "execute_result",
          "data": {
            "text/plain": [
              "array([[ 0,  1,  2,  3,  4,  5,  6,  7,  8,  9],\n",
              "       [20, 21, 22, 23, 24, 25, 26, 27, 28, 29]], dtype=int32)"
            ]
          },
          "metadata": {
            "tags": []
          },
          "execution_count": 36
        }
      ]
    },
    {
      "cell_type": "code",
      "metadata": {
        "id": "K2CiU07vkF3R",
        "colab": {
          "base_uri": "https://localhost:8080/"
        },
        "outputId": "95a57c4e-0042-48ff-ba78-066960d35cc0"
      },
      "source": [
        "sampeData[:,:]"
      ],
      "execution_count": 37,
      "outputs": [
        {
          "output_type": "execute_result",
          "data": {
            "text/plain": [
              "array([[ 0,  1,  2,  3,  4,  5,  6,  7,  8,  9],\n",
              "       [10, 11, 12, 13, 14, 15, 16, 17, 18, 19],\n",
              "       [20, 21, 22, 23, 24, 25, 26, 27, 28, 29]], dtype=int32)"
            ]
          },
          "metadata": {
            "tags": []
          },
          "execution_count": 37
        }
      ]
    },
    {
      "cell_type": "code",
      "metadata": {
        "id": "oYbzrVcZkF3S",
        "colab": {
          "base_uri": "https://localhost:8080/"
        },
        "outputId": "25c05585-50b9-4695-fa87-11a05b6dc581"
      },
      "source": [
        "sampeData.strides"
      ],
      "execution_count": 38,
      "outputs": [
        {
          "output_type": "execute_result",
          "data": {
            "text/plain": [
              "(40, 4)"
            ]
          },
          "metadata": {
            "tags": []
          },
          "execution_count": 38
        }
      ]
    },
    {
      "cell_type": "code",
      "metadata": {
        "id": "iLgwEdVxkF3S",
        "colab": {
          "base_uri": "https://localhost:8080/"
        },
        "outputId": "3ec3fd52-bbf3-44fd-b5a9-93e96b0ba6ac"
      },
      "source": [
        "sampeData[:3,:3].strides"
      ],
      "execution_count": 39,
      "outputs": [
        {
          "output_type": "execute_result",
          "data": {
            "text/plain": [
              "(40, 4)"
            ]
          },
          "metadata": {
            "tags": []
          },
          "execution_count": 39
        }
      ]
    },
    {
      "cell_type": "code",
      "metadata": {
        "id": "1nlwvD7akF3S",
        "colab": {
          "base_uri": "https://localhost:8080/"
        },
        "outputId": "2d66befb-0367-4cfd-93bf-2cf7a64449b7"
      },
      "source": [
        "sampeData"
      ],
      "execution_count": 40,
      "outputs": [
        {
          "output_type": "execute_result",
          "data": {
            "text/plain": [
              "array([[ 0,  1,  2,  3,  4,  5,  6,  7,  8,  9],\n",
              "       [10, 11, 12, 13, 14, 15, 16, 17, 18, 19],\n",
              "       [20, 21, 22, 23, 24, 25, 26, 27, 28, 29]], dtype=int32)"
            ]
          },
          "metadata": {
            "tags": []
          },
          "execution_count": 40
        }
      ]
    },
    {
      "cell_type": "code",
      "metadata": {
        "id": "mvlcOdQ1kF3S",
        "colab": {
          "base_uri": "https://localhost:8080/"
        },
        "outputId": "a579858e-8852-45f7-aeb3-aba19ad0d1a9"
      },
      "source": [
        "sampeData[::2,::2]"
      ],
      "execution_count": 41,
      "outputs": [
        {
          "output_type": "execute_result",
          "data": {
            "text/plain": [
              "array([[ 0,  2,  4,  6,  8],\n",
              "       [20, 22, 24, 26, 28]], dtype=int32)"
            ]
          },
          "metadata": {
            "tags": []
          },
          "execution_count": 41
        }
      ]
    },
    {
      "cell_type": "code",
      "metadata": {
        "id": "VJPkTB0mkF3S",
        "colab": {
          "base_uri": "https://localhost:8080/"
        },
        "outputId": "54d841bd-2179-4763-bd64-1849b6fea16e"
      },
      "source": [
        "sampeData[::2,::2]"
      ],
      "execution_count": 42,
      "outputs": [
        {
          "output_type": "execute_result",
          "data": {
            "text/plain": [
              "array([[ 0,  2,  4,  6,  8],\n",
              "       [20, 22, 24, 26, 28]], dtype=int32)"
            ]
          },
          "metadata": {
            "tags": []
          },
          "execution_count": 42
        }
      ]
    },
    {
      "cell_type": "code",
      "metadata": {
        "id": "uGImCEYykF3S",
        "colab": {
          "base_uri": "https://localhost:8080/"
        },
        "outputId": "f79273e4-96d4-4569-8459-c40a99cc4d02"
      },
      "source": [
        "sampeData[::2,::2].strides"
      ],
      "execution_count": 43,
      "outputs": [
        {
          "output_type": "execute_result",
          "data": {
            "text/plain": [
              "(80, 8)"
            ]
          },
          "metadata": {
            "tags": []
          },
          "execution_count": 43
        }
      ]
    },
    {
      "cell_type": "code",
      "metadata": {
        "id": "RZtAJt8MkF3S",
        "colab": {
          "base_uri": "https://localhost:8080/"
        },
        "outputId": "d9704e37-f231-43a1-df55-3ab3dfec3a88"
      },
      "source": [
        "sampeData[::2,::2].flags"
      ],
      "execution_count": 44,
      "outputs": [
        {
          "output_type": "execute_result",
          "data": {
            "text/plain": [
              "  C_CONTIGUOUS : False\n",
              "  F_CONTIGUOUS : False\n",
              "  OWNDATA : False\n",
              "  WRITEABLE : True\n",
              "  ALIGNED : True\n",
              "  WRITEBACKIFCOPY : False\n",
              "  UPDATEIFCOPY : False"
            ]
          },
          "metadata": {
            "tags": []
          },
          "execution_count": 44
        }
      ]
    },
    {
      "cell_type": "markdown",
      "metadata": {
        "id": "J7c263uVkF3T"
      },
      "source": [
        "## Copy the data"
      ]
    },
    {
      "cell_type": "code",
      "metadata": {
        "id": "rDRRsCPGkF3T"
      },
      "source": [
        "sampeCopyData=sampeData"
      ],
      "execution_count": 45,
      "outputs": []
    },
    {
      "cell_type": "code",
      "metadata": {
        "id": "4Iq4rZCCkF3T",
        "colab": {
          "base_uri": "https://localhost:8080/"
        },
        "outputId": "8f8b710a-ffa7-4bcc-f91a-a823dc55ea16"
      },
      "source": [
        "sampeCopyData"
      ],
      "execution_count": 46,
      "outputs": [
        {
          "output_type": "execute_result",
          "data": {
            "text/plain": [
              "array([[ 0,  1,  2,  3,  4,  5,  6,  7,  8,  9],\n",
              "       [10, 11, 12, 13, 14, 15, 16, 17, 18, 19],\n",
              "       [20, 21, 22, 23, 24, 25, 26, 27, 28, 29]], dtype=int32)"
            ]
          },
          "metadata": {
            "tags": []
          },
          "execution_count": 46
        }
      ]
    },
    {
      "cell_type": "code",
      "metadata": {
        "id": "qgVsJ9WjkF3T"
      },
      "source": [
        "sampeData[1][3]=15"
      ],
      "execution_count": 47,
      "outputs": []
    },
    {
      "cell_type": "code",
      "metadata": {
        "id": "593anjDHkF3T",
        "colab": {
          "base_uri": "https://localhost:8080/"
        },
        "outputId": "a488c1ec-8e36-4134-aae5-8579340e7531"
      },
      "source": [
        "sampeData"
      ],
      "execution_count": 48,
      "outputs": [
        {
          "output_type": "execute_result",
          "data": {
            "text/plain": [
              "array([[ 0,  1,  2,  3,  4,  5,  6,  7,  8,  9],\n",
              "       [10, 11, 12, 15, 14, 15, 16, 17, 18, 19],\n",
              "       [20, 21, 22, 23, 24, 25, 26, 27, 28, 29]], dtype=int32)"
            ]
          },
          "metadata": {
            "tags": []
          },
          "execution_count": 48
        }
      ]
    },
    {
      "cell_type": "code",
      "metadata": {
        "id": "UzAZAEtKkF3T",
        "colab": {
          "base_uri": "https://localhost:8080/"
        },
        "outputId": "d16837f2-3063-4a46-e1b6-b8739669ad8c"
      },
      "source": [
        "sampeCopyData"
      ],
      "execution_count": 49,
      "outputs": [
        {
          "output_type": "execute_result",
          "data": {
            "text/plain": [
              "array([[ 0,  1,  2,  3,  4,  5,  6,  7,  8,  9],\n",
              "       [10, 11, 12, 15, 14, 15, 16, 17, 18, 19],\n",
              "       [20, 21, 22, 23, 24, 25, 26, 27, 28, 29]], dtype=int32)"
            ]
          },
          "metadata": {
            "tags": []
          },
          "execution_count": 49
        }
      ]
    },
    {
      "cell_type": "markdown",
      "metadata": {
        "id": "BQ0z9VI2kF3T"
      },
      "source": [
        "the above operation just referred to the same location, to make a true copy we use .copy()"
      ]
    },
    {
      "cell_type": "code",
      "metadata": {
        "id": "X5YCfF0lkF3U"
      },
      "source": [
        "sampetrueCopy=sampeData.copy()"
      ],
      "execution_count": 50,
      "outputs": []
    },
    {
      "cell_type": "code",
      "metadata": {
        "id": "PmVnqAXskF3U"
      },
      "source": [
        "sampetrueCopy[1][3]=1000"
      ],
      "execution_count": 51,
      "outputs": []
    },
    {
      "cell_type": "code",
      "metadata": {
        "id": "BtX3bNROkF3U",
        "colab": {
          "base_uri": "https://localhost:8080/"
        },
        "outputId": "3f581a1e-adce-402b-b87b-f232f98f1ac9"
      },
      "source": [
        "sampetrueCopy"
      ],
      "execution_count": 52,
      "outputs": [
        {
          "output_type": "execute_result",
          "data": {
            "text/plain": [
              "array([[   0,    1,    2,    3,    4,    5,    6,    7,    8,    9],\n",
              "       [  10,   11,   12, 1000,   14,   15,   16,   17,   18,   19],\n",
              "       [  20,   21,   22,   23,   24,   25,   26,   27,   28,   29]],\n",
              "      dtype=int32)"
            ]
          },
          "metadata": {
            "tags": []
          },
          "execution_count": 52
        }
      ]
    },
    {
      "cell_type": "code",
      "metadata": {
        "id": "3dG-y-2lkF3U",
        "colab": {
          "base_uri": "https://localhost:8080/"
        },
        "outputId": "f4010190-71f6-48c8-c725-c92bc987d898"
      },
      "source": [
        "sampeData"
      ],
      "execution_count": 53,
      "outputs": [
        {
          "output_type": "execute_result",
          "data": {
            "text/plain": [
              "array([[ 0,  1,  2,  3,  4,  5,  6,  7,  8,  9],\n",
              "       [10, 11, 12, 15, 14, 15, 16, 17, 18, 19],\n",
              "       [20, 21, 22, 23, 24, 25, 26, 27, 28, 29]], dtype=int32)"
            ]
          },
          "metadata": {
            "tags": []
          },
          "execution_count": 53
        }
      ]
    },
    {
      "cell_type": "markdown",
      "metadata": {
        "id": "OT8N9vdAkF3U"
      },
      "source": [
        "## Mathematical Operations (Axis Wise Evaluations)"
      ]
    },
    {
      "cell_type": "code",
      "metadata": {
        "id": "hxmdlA9gkF3U"
      },
      "source": [
        "varA_1=list(range(0,2000))\n",
        "varA_2=list(range(2000,4000))\n",
        "varA_3=list(range(4000,6000))\n",
        "varACom=[varA_1,varA_2,varA_3]"
      ],
      "execution_count": 54,
      "outputs": []
    },
    {
      "cell_type": "code",
      "metadata": {
        "id": "V3xvluCAkF3U"
      },
      "source": [
        "data=np.array(varACom)"
      ],
      "execution_count": 55,
      "outputs": []
    },
    {
      "cell_type": "code",
      "metadata": {
        "id": "tYNIdMTBkF3V",
        "colab": {
          "base_uri": "https://localhost:8080/"
        },
        "outputId": "f5823674-fa8a-4887-a0c2-2dfc1687cd36"
      },
      "source": [
        "data"
      ],
      "execution_count": 56,
      "outputs": [
        {
          "output_type": "execute_result",
          "data": {
            "text/plain": [
              "array([[   0,    1,    2, ..., 1997, 1998, 1999],\n",
              "       [2000, 2001, 2002, ..., 3997, 3998, 3999],\n",
              "       [4000, 4001, 4002, ..., 5997, 5998, 5999]])"
            ]
          },
          "metadata": {
            "tags": []
          },
          "execution_count": 56
        }
      ]
    },
    {
      "cell_type": "code",
      "metadata": {
        "id": "MeWDyVRLkF3V",
        "colab": {
          "base_uri": "https://localhost:8080/"
        },
        "outputId": "a1c70ecb-fcc5-4254-b9af-771779c6c702"
      },
      "source": [
        "data.shape,data.size"
      ],
      "execution_count": 57,
      "outputs": [
        {
          "output_type": "execute_result",
          "data": {
            "text/plain": [
              "((3, 2000), 6000)"
            ]
          },
          "metadata": {
            "tags": []
          },
          "execution_count": 57
        }
      ]
    },
    {
      "cell_type": "code",
      "metadata": {
        "id": "MGwCWADzkF3V",
        "colab": {
          "base_uri": "https://localhost:8080/"
        },
        "outputId": "49861692-99d5-4084-8ef1-f266e4617976"
      },
      "source": [
        "np.sum(data)"
      ],
      "execution_count": 58,
      "outputs": [
        {
          "output_type": "execute_result",
          "data": {
            "text/plain": [
              "17997000"
            ]
          },
          "metadata": {
            "tags": []
          },
          "execution_count": 58
        }
      ]
    },
    {
      "cell_type": "code",
      "metadata": {
        "id": "OR4px4zQkF3V",
        "colab": {
          "base_uri": "https://localhost:8080/"
        },
        "outputId": "5a0e3ccd-70be-4e72-d578-f4a392b1caf3"
      },
      "source": [
        "np.sum(data,axis=0)"
      ],
      "execution_count": 59,
      "outputs": [
        {
          "output_type": "execute_result",
          "data": {
            "text/plain": [
              "array([ 6000,  6003,  6006, ..., 11991, 11994, 11997])"
            ]
          },
          "metadata": {
            "tags": []
          },
          "execution_count": 59
        }
      ]
    },
    {
      "cell_type": "code",
      "metadata": {
        "id": "dEf_VWiCkF3V",
        "colab": {
          "base_uri": "https://localhost:8080/"
        },
        "outputId": "f0aa422f-f16a-4cdd-c4f2-7acf270c0e24"
      },
      "source": [
        "np.sum(data,axis=1)"
      ],
      "execution_count": 60,
      "outputs": [
        {
          "output_type": "execute_result",
          "data": {
            "text/plain": [
              "array([1999000, 5999000, 9999000])"
            ]
          },
          "metadata": {
            "tags": []
          },
          "execution_count": 60
        }
      ]
    },
    {
      "cell_type": "markdown",
      "metadata": {
        "id": "ZP-hr5GNkF3V"
      },
      "source": [
        "## 1 for rows 0 for columns"
      ]
    },
    {
      "cell_type": "code",
      "metadata": {
        "id": "P1aOEzo_kF3V",
        "colab": {
          "base_uri": "https://localhost:8080/"
        },
        "outputId": "b9888196-97b3-441a-98f5-4f2ba1c6dfe8"
      },
      "source": [
        "np.max(data)"
      ],
      "execution_count": 61,
      "outputs": [
        {
          "output_type": "execute_result",
          "data": {
            "text/plain": [
              "5999"
            ]
          },
          "metadata": {
            "tags": []
          },
          "execution_count": 61
        }
      ]
    },
    {
      "cell_type": "code",
      "metadata": {
        "id": "99jwGjqSkF3W",
        "colab": {
          "base_uri": "https://localhost:8080/"
        },
        "outputId": "068debae-9ea2-4e7e-ce21-e37bdad6b66d"
      },
      "source": [
        "np.max(data,axis=0)"
      ],
      "execution_count": 62,
      "outputs": [
        {
          "output_type": "execute_result",
          "data": {
            "text/plain": [
              "array([4000, 4001, 4002, ..., 5997, 5998, 5999])"
            ]
          },
          "metadata": {
            "tags": []
          },
          "execution_count": 62
        }
      ]
    },
    {
      "cell_type": "code",
      "metadata": {
        "id": "6zWsBEnOkF3W",
        "colab": {
          "base_uri": "https://localhost:8080/"
        },
        "outputId": "f40d5add-c17a-422d-ecb8-64a1093f6571"
      },
      "source": [
        "np.max(data,axis=1)"
      ],
      "execution_count": 63,
      "outputs": [
        {
          "output_type": "execute_result",
          "data": {
            "text/plain": [
              "array([1999, 3999, 5999])"
            ]
          },
          "metadata": {
            "tags": []
          },
          "execution_count": 63
        }
      ]
    },
    {
      "cell_type": "markdown",
      "metadata": {
        "id": "dHR5WiuukF3W"
      },
      "source": [
        "## Random numbers / Reshape"
      ]
    },
    {
      "cell_type": "code",
      "metadata": {
        "id": "qad6UHFzkF3W"
      },
      "source": [
        "randSamData=np.random.random(6000)"
      ],
      "execution_count": 64,
      "outputs": []
    },
    {
      "cell_type": "code",
      "metadata": {
        "id": "VqZekVeikF3W",
        "colab": {
          "base_uri": "https://localhost:8080/"
        },
        "outputId": "772760b7-9dad-4c66-e259-02363b75bca8"
      },
      "source": [
        "randSamData"
      ],
      "execution_count": 65,
      "outputs": [
        {
          "output_type": "execute_result",
          "data": {
            "text/plain": [
              "array([0.82572898, 0.53660424, 0.4040614 , ..., 0.97608721, 0.02833829,\n",
              "       0.24790488])"
            ]
          },
          "metadata": {
            "tags": []
          },
          "execution_count": 65
        }
      ]
    },
    {
      "cell_type": "code",
      "metadata": {
        "id": "1ekfyr63kF3W",
        "colab": {
          "base_uri": "https://localhost:8080/"
        },
        "outputId": "4b4a8d11-5cd1-4f68-c040-b4833a61ed38"
      },
      "source": [
        "randSamData.size"
      ],
      "execution_count": 66,
      "outputs": [
        {
          "output_type": "execute_result",
          "data": {
            "text/plain": [
              "6000"
            ]
          },
          "metadata": {
            "tags": []
          },
          "execution_count": 66
        }
      ]
    },
    {
      "cell_type": "code",
      "metadata": {
        "id": "uT47gO-pkF3W",
        "colab": {
          "base_uri": "https://localhost:8080/"
        },
        "outputId": "b0621944-35cf-437c-c396-13f6786e821f"
      },
      "source": [
        "randSamData.shape"
      ],
      "execution_count": 67,
      "outputs": [
        {
          "output_type": "execute_result",
          "data": {
            "text/plain": [
              "(6000,)"
            ]
          },
          "metadata": {
            "tags": []
          },
          "execution_count": 67
        }
      ]
    },
    {
      "cell_type": "code",
      "metadata": {
        "id": "nwJxgp0DkF3X"
      },
      "source": [
        "matrixFromRandom=randSamData.reshape(200,30)"
      ],
      "execution_count": 68,
      "outputs": []
    },
    {
      "cell_type": "code",
      "metadata": {
        "id": "m-4WnQo6kF3X",
        "colab": {
          "base_uri": "https://localhost:8080/"
        },
        "outputId": "61fe396e-4862-4299-ee13-4201a357fc55"
      },
      "source": [
        "matrixFromRandom.shape"
      ],
      "execution_count": 69,
      "outputs": [
        {
          "output_type": "execute_result",
          "data": {
            "text/plain": [
              "(200, 30)"
            ]
          },
          "metadata": {
            "tags": []
          },
          "execution_count": 69
        }
      ]
    },
    {
      "cell_type": "code",
      "metadata": {
        "id": "SK_KB8fQkF3X",
        "colab": {
          "base_uri": "https://localhost:8080/"
        },
        "outputId": "ccf006e8-e37a-43b8-e7a1-06c6c993e15b"
      },
      "source": [
        "matrixFromRandom.sum()"
      ],
      "execution_count": 70,
      "outputs": [
        {
          "output_type": "execute_result",
          "data": {
            "text/plain": [
              "2983.80520554816"
            ]
          },
          "metadata": {
            "tags": []
          },
          "execution_count": 70
        }
      ]
    },
    {
      "cell_type": "code",
      "metadata": {
        "id": "LSmBCIm7kF3X",
        "colab": {
          "base_uri": "https://localhost:8080/"
        },
        "outputId": "4bfcc681-326b-4ebe-bf15-88c5d73c0b0f"
      },
      "source": [
        "np.sum(matrixFromRandom)"
      ],
      "execution_count": 71,
      "outputs": [
        {
          "output_type": "execute_result",
          "data": {
            "text/plain": [
              "2983.80520554816"
            ]
          },
          "metadata": {
            "tags": []
          },
          "execution_count": 71
        }
      ]
    },
    {
      "cell_type": "code",
      "metadata": {
        "id": "6S7ggj7tkF3X",
        "colab": {
          "base_uri": "https://localhost:8080/"
        },
        "outputId": "25581660-7b95-4adc-aff7-ffddb21f0248"
      },
      "source": [
        "np.sum(matrixFromRandom,axis=1).size"
      ],
      "execution_count": 72,
      "outputs": [
        {
          "output_type": "execute_result",
          "data": {
            "text/plain": [
              "200"
            ]
          },
          "metadata": {
            "tags": []
          },
          "execution_count": 72
        }
      ]
    },
    {
      "cell_type": "code",
      "metadata": {
        "id": "38Jiums9kF3Y",
        "colab": {
          "base_uri": "https://localhost:8080/"
        },
        "outputId": "83ed97f8-6122-4ace-976f-1d38bbe07567"
      },
      "source": [
        "np.sum(matrixFromRandom,axis=0).size"
      ],
      "execution_count": 73,
      "outputs": [
        {
          "output_type": "execute_result",
          "data": {
            "text/plain": [
              "30"
            ]
          },
          "metadata": {
            "tags": []
          },
          "execution_count": 73
        }
      ]
    },
    {
      "cell_type": "code",
      "metadata": {
        "id": "ZDpaRwf_kF3Y",
        "colab": {
          "base_uri": "https://localhost:8080/"
        },
        "outputId": "d26a4fcf-75a9-46ba-f4ed-eaf10d339f71"
      },
      "source": [
        "matrixFromRandom.sum(axis=1).shape"
      ],
      "execution_count": 74,
      "outputs": [
        {
          "output_type": "execute_result",
          "data": {
            "text/plain": [
              "(200,)"
            ]
          },
          "metadata": {
            "tags": []
          },
          "execution_count": 74
        }
      ]
    },
    {
      "cell_type": "markdown",
      "metadata": {
        "id": "b_zp9o8qkF3Y"
      },
      "source": [
        "## Example 1"
      ]
    },
    {
      "cell_type": "markdown",
      "metadata": {
        "id": "Qgru17uRkF3Y"
      },
      "source": [
        "create a numpy array with random numbers and get the numbers closest to .50 "
      ]
    },
    {
      "cell_type": "code",
      "metadata": {
        "id": "CfC_lpVGkF3Y"
      },
      "source": [
        "sampData=np.random.random(25)"
      ],
      "execution_count": 75,
      "outputs": []
    },
    {
      "cell_type": "code",
      "metadata": {
        "id": "R--mIapKkF3Y"
      },
      "source": [
        "sampData=sampData.reshape(5,5)"
      ],
      "execution_count": 76,
      "outputs": []
    },
    {
      "cell_type": "code",
      "metadata": {
        "id": "2aokwDV8kF3Y"
      },
      "source": [
        "sampData=abs(sampData-.5)"
      ],
      "execution_count": 77,
      "outputs": []
    },
    {
      "cell_type": "code",
      "metadata": {
        "id": "hnhDQQ3BkF3Y",
        "colab": {
          "base_uri": "https://localhost:8080/"
        },
        "outputId": "58b4a6ef-a89f-4984-da19-7d968a5e41bc"
      },
      "source": [
        "np.argmin(sampData,axis=0)"
      ],
      "execution_count": 78,
      "outputs": [
        {
          "output_type": "execute_result",
          "data": {
            "text/plain": [
              "array([2, 0, 3, 3, 4])"
            ]
          },
          "metadata": {
            "tags": []
          },
          "execution_count": 78
        }
      ]
    },
    {
      "cell_type": "code",
      "metadata": {
        "id": "bhBaLCtWkF3Z",
        "colab": {
          "base_uri": "https://localhost:8080/"
        },
        "outputId": "af705789-0207-4602-aa85-49a7a0d61e3c"
      },
      "source": [
        "sampData"
      ],
      "execution_count": 79,
      "outputs": [
        {
          "output_type": "execute_result",
          "data": {
            "text/plain": [
              "array([[0.39823509, 0.00560765, 0.17527356, 0.20473762, 0.03430552],\n",
              "       [0.15170688, 0.04398605, 0.16322243, 0.26525802, 0.36079733],\n",
              "       [0.02405334, 0.01966013, 0.4577941 , 0.1825316 , 0.09880768],\n",
              "       [0.27417647, 0.09269578, 0.06259093, 0.18222322, 0.47722139],\n",
              "       [0.04752044, 0.45463553, 0.10366636, 0.19500759, 0.00986937]])"
            ]
          },
          "metadata": {
            "tags": []
          },
          "execution_count": 79
        }
      ]
    },
    {
      "cell_type": "code",
      "metadata": {
        "id": "GrHq05InkF3Z",
        "colab": {
          "base_uri": "https://localhost:8080/"
        },
        "outputId": "220e39c7-36d0-4997-d1db-3200300be583"
      },
      "source": [
        "np.argmin(sampData,axis=1)"
      ],
      "execution_count": 80,
      "outputs": [
        {
          "output_type": "execute_result",
          "data": {
            "text/plain": [
              "array([1, 1, 1, 2, 4])"
            ]
          },
          "metadata": {
            "tags": []
          },
          "execution_count": 80
        }
      ]
    },
    {
      "cell_type": "code",
      "metadata": {
        "id": "EV-rcRxekF3Z"
      },
      "source": [],
      "execution_count": 80,
      "outputs": []
    },
    {
      "cell_type": "code",
      "metadata": {
        "id": "aZPuka1AkF3Z"
      },
      "source": [],
      "execution_count": 80,
      "outputs": []
    },
    {
      "cell_type": "code",
      "metadata": {
        "id": "_DDSvoowkF3Z"
      },
      "source": [
        "#np.argmin(abs(matrixFromRandom-.50),axis=1)"
      ],
      "execution_count": 81,
      "outputs": []
    },
    {
      "cell_type": "code",
      "metadata": {
        "id": "7qVdr1F6kF3Z"
      },
      "source": [
        "#np.argmin(abs(matrixFromRandom[0]-.50))"
      ],
      "execution_count": 82,
      "outputs": []
    },
    {
      "cell_type": "code",
      "metadata": {
        "id": "OgEO3yQKkF3Z",
        "colab": {
          "base_uri": "https://localhost:8080/"
        },
        "outputId": "ccfa1566-e14b-4e18-b0d0-d8da9eea391f"
      },
      "source": [
        "matrixFromRandom[0]"
      ],
      "execution_count": 83,
      "outputs": [
        {
          "output_type": "execute_result",
          "data": {
            "text/plain": [
              "array([0.82572898, 0.53660424, 0.4040614 , 0.59174816, 0.60899906,\n",
              "       0.30276393, 0.4338271 , 0.18639595, 0.06933189, 0.69292074,\n",
              "       0.46412117, 0.26034365, 0.36384388, 0.49077924, 0.77932979,\n",
              "       0.56482016, 0.70517588, 0.34155363, 0.30494889, 0.07312372,\n",
              "       0.18859826, 0.21531343, 0.29030035, 0.00485094, 0.06698516,\n",
              "       0.20324938, 0.56114453, 0.18206705, 0.41602418, 0.10526804])"
            ]
          },
          "metadata": {
            "tags": []
          },
          "execution_count": 83
        }
      ]
    },
    {
      "cell_type": "markdown",
      "metadata": {
        "id": "IEjdhyp8kF3a"
      },
      "source": [
        "## Example 2"
      ]
    },
    {
      "cell_type": "markdown",
      "metadata": {
        "id": "LnVBEl3HkF3a"
      },
      "source": [
        "##### select the top 5 columns on order of highest variance"
      ]
    },
    {
      "cell_type": "code",
      "metadata": {
        "id": "u-us3URokF3a"
      },
      "source": [
        "sampData2=np.random.random(6000)"
      ],
      "execution_count": 84,
      "outputs": []
    },
    {
      "cell_type": "code",
      "metadata": {
        "id": "jFffx1HGkF3a"
      },
      "source": [
        "sampData2=sampData2.reshape(100,60)"
      ],
      "execution_count": 85,
      "outputs": []
    },
    {
      "cell_type": "code",
      "metadata": {
        "id": "zLMcd16OkF3a"
      },
      "source": [
        "varInfo=np.var(sampData2,axis=0)"
      ],
      "execution_count": 86,
      "outputs": []
    },
    {
      "cell_type": "code",
      "metadata": {
        "colab": {
          "base_uri": "https://localhost:8080/"
        },
        "id": "I0Y0UfqBsCat",
        "outputId": "5cc737cb-ecff-47bf-c10a-01bdf00293c3"
      },
      "source": [
        "varInfo"
      ],
      "execution_count": 87,
      "outputs": [
        {
          "output_type": "execute_result",
          "data": {
            "text/plain": [
              "array([0.08855563, 0.07867347, 0.09135612, 0.09125   , 0.0816446 ,\n",
              "       0.09270102, 0.08452573, 0.07322098, 0.07930801, 0.07469763,\n",
              "       0.06972668, 0.08401985, 0.07011578, 0.07596773, 0.08778371,\n",
              "       0.09111618, 0.07440067, 0.07408599, 0.09477131, 0.08821468,\n",
              "       0.08112578, 0.0726896 , 0.08814488, 0.08131774, 0.07936664,\n",
              "       0.08136125, 0.08656931, 0.07846416, 0.0819849 , 0.06577238,\n",
              "       0.08306621, 0.08625741, 0.07079062, 0.08580291, 0.07993636,\n",
              "       0.0924897 , 0.08943308, 0.08995811, 0.08206755, 0.0832003 ,\n",
              "       0.09380986, 0.08809525, 0.08223657, 0.08702499, 0.08346123,\n",
              "       0.08314001, 0.08754624, 0.08411141, 0.09101148, 0.08549934,\n",
              "       0.08410199, 0.09431237, 0.0876723 , 0.07091267, 0.08442426,\n",
              "       0.08986065, 0.08775663, 0.09117069, 0.08161488, 0.09065804])"
            ]
          },
          "metadata": {
            "tags": []
          },
          "execution_count": 87
        }
      ]
    },
    {
      "cell_type": "code",
      "metadata": {
        "id": "U2HAGrW2kF3a"
      },
      "source": [
        "incOrder=np.argsort(varInfo)"
      ],
      "execution_count": 88,
      "outputs": []
    },
    {
      "cell_type": "code",
      "metadata": {
        "id": "HCgF_iaakF3a",
        "colab": {
          "base_uri": "https://localhost:8080/"
        },
        "outputId": "1e42407b-96cf-4ce7-a278-0cd62aba7e45"
      },
      "source": [
        "incOrder[-5:]"
      ],
      "execution_count": 89,
      "outputs": [
        {
          "output_type": "execute_result",
          "data": {
            "text/plain": [
              "array([35,  5, 40, 51, 18])"
            ]
          },
          "metadata": {
            "tags": []
          },
          "execution_count": 89
        }
      ]
    },
    {
      "cell_type": "code",
      "metadata": {
        "scrolled": true,
        "id": "sKYlswX9kF3a",
        "colab": {
          "base_uri": "https://localhost:8080/"
        },
        "outputId": "c730c6bc-4407-47bf-e917-2ac84aea253e"
      },
      "source": [
        "sampData2[:,incOrder[-5:]]"
      ],
      "execution_count": 90,
      "outputs": [
        {
          "output_type": "execute_result",
          "data": {
            "text/plain": [
              "array([[0.94756539, 0.9171215 , 0.62118558, 0.40498072, 0.49955732],\n",
              "       [0.63444729, 0.00322051, 0.98922906, 0.99176488, 0.95174702],\n",
              "       [0.91244781, 0.7921247 , 0.04191832, 0.03413293, 0.79888859],\n",
              "       [0.02995028, 0.98096122, 0.01086874, 0.50886999, 0.23214908],\n",
              "       [0.4300224 , 0.32957921, 0.81877168, 0.85242317, 0.75473377],\n",
              "       [0.89747057, 0.67906147, 0.51455513, 0.25372238, 0.46211523],\n",
              "       [0.91244929, 0.75904893, 0.76096479, 0.49621734, 0.90737192],\n",
              "       [0.297296  , 0.3121376 , 0.55136698, 0.91794095, 0.77612411],\n",
              "       [0.39987985, 0.25886438, 0.49104999, 0.73546774, 0.94855793],\n",
              "       [0.8596767 , 0.41188923, 0.79223248, 0.08446089, 0.96698508],\n",
              "       [0.69693628, 0.2771864 , 0.76930164, 0.13455697, 0.25612551],\n",
              "       [0.90738793, 0.68777174, 0.99551089, 0.5283829 , 0.76978589],\n",
              "       [0.67890836, 0.72880613, 0.73058585, 0.25178726, 0.11168895],\n",
              "       [0.99027847, 0.0770703 , 0.51739493, 0.56413565, 0.65628022],\n",
              "       [0.20528775, 0.56064745, 0.69262844, 0.97303548, 0.0443031 ],\n",
              "       [0.87911985, 0.53758872, 0.66359172, 0.45278496, 0.5984499 ],\n",
              "       [0.04862307, 0.52215638, 0.42743282, 0.73409018, 0.02290697],\n",
              "       [0.01097355, 0.402365  , 0.40084647, 0.09105918, 0.5576722 ],\n",
              "       [0.18571072, 0.0573982 , 0.21108993, 0.77850682, 0.46515162],\n",
              "       [0.44683065, 0.41680002, 0.23840017, 0.01849155, 0.08307216],\n",
              "       [0.16196983, 0.82266773, 0.90763455, 0.54511769, 0.16038286],\n",
              "       [0.10677733, 0.42133809, 0.21133207, 0.75531013, 0.53381179],\n",
              "       [0.90631972, 0.1523437 , 0.48306995, 0.76364219, 0.4000276 ],\n",
              "       [0.87495971, 0.47584854, 0.48678012, 0.93395606, 0.15895222],\n",
              "       [0.04805277, 0.89049906, 0.63385846, 0.89539059, 0.47720934],\n",
              "       [0.44756766, 0.95101643, 0.10307592, 0.16309192, 0.61473349],\n",
              "       [0.52195599, 0.81598219, 0.15140299, 0.70113991, 0.53019602],\n",
              "       [0.80046274, 0.37631336, 0.35947732, 0.8097318 , 0.00704182],\n",
              "       [0.31308836, 0.711364  , 0.12854265, 0.00543099, 0.29026293],\n",
              "       [0.93907208, 0.56390212, 0.16062779, 0.12039037, 0.18412644],\n",
              "       [0.31813006, 0.26224393, 0.76505811, 0.14822172, 0.81923743],\n",
              "       [0.91780939, 0.11412307, 0.48165814, 0.9021924 , 0.58168302],\n",
              "       [0.43223665, 0.86331968, 0.67439539, 0.33212896, 0.93743636],\n",
              "       [0.89583516, 0.4017262 , 0.84650028, 0.45628291, 0.88222304],\n",
              "       [0.08628181, 0.13311251, 0.91149826, 0.90328809, 0.50880607],\n",
              "       [0.18653777, 0.87597408, 0.34606927, 0.94569517, 0.28218929],\n",
              "       [0.05985115, 0.15241483, 0.07064566, 0.99301176, 0.94806444],\n",
              "       [0.4952944 , 0.15773305, 0.91549852, 0.24657709, 0.51687785],\n",
              "       [0.77615099, 0.81451815, 0.90471333, 0.29686538, 0.87043676],\n",
              "       [0.62901561, 0.3721195 , 0.49123052, 0.43748482, 0.98864726],\n",
              "       [0.88866368, 0.16996384, 0.0347599 , 0.43666724, 0.8152043 ],\n",
              "       [0.27713702, 0.85843808, 0.17493366, 0.46358038, 0.9101541 ],\n",
              "       [0.80732897, 0.62677096, 0.27379381, 0.21341047, 0.1715205 ],\n",
              "       [0.05105639, 0.36530954, 0.05194098, 0.36013466, 0.6107434 ],\n",
              "       [0.02806046, 0.10145306, 0.88167977, 0.13629476, 0.84230249],\n",
              "       [0.81478885, 0.95039302, 0.80407591, 0.96079075, 0.4811884 ],\n",
              "       [0.05964691, 0.71452978, 0.58392221, 0.80511789, 0.22206084],\n",
              "       [0.89258418, 0.01382725, 0.36138286, 0.00742482, 0.48023581],\n",
              "       [0.31052712, 0.65052234, 0.10401328, 0.627262  , 0.82721583],\n",
              "       [0.46075377, 0.24275748, 0.63454063, 0.45342037, 0.5069114 ],\n",
              "       [0.1647927 , 0.02096705, 0.18958198, 0.65797185, 0.99800431],\n",
              "       [0.78456593, 0.60423662, 0.2874324 , 0.91418667, 0.20710314],\n",
              "       [0.1694718 , 0.89010142, 0.21539921, 0.65684448, 0.32524754],\n",
              "       [0.8849755 , 0.40877417, 0.36851207, 0.09243923, 0.50971478],\n",
              "       [0.2526335 , 0.97080354, 0.9815546 , 0.91111148, 0.67194485],\n",
              "       [0.01799604, 0.43663107, 0.10538097, 0.33693443, 0.3000619 ],\n",
              "       [0.57232917, 0.52394559, 0.98515717, 0.42286861, 0.81245588],\n",
              "       [0.54995229, 0.13611976, 0.72225839, 0.56476836, 0.46299444],\n",
              "       [0.68668989, 0.0731426 , 0.13803125, 0.24958896, 0.349495  ],\n",
              "       [0.76753065, 0.34754075, 0.05270588, 0.0889179 , 0.01775566],\n",
              "       [0.08239457, 0.16161584, 0.39099409, 0.9261252 , 0.92872517],\n",
              "       [0.74891849, 0.16578217, 0.90011047, 0.68255624, 0.93202127],\n",
              "       [0.49816296, 0.6842339 , 0.73632045, 0.73571634, 0.0130259 ],\n",
              "       [0.62177246, 0.88746909, 0.87340164, 0.26419356, 0.03172449],\n",
              "       [0.74748126, 0.67857391, 0.68994607, 0.00445007, 0.13186306],\n",
              "       [0.91151807, 0.31272265, 0.33938491, 0.09195437, 0.87472737],\n",
              "       [0.26689111, 0.51168348, 0.33919521, 0.10171372, 0.12852926],\n",
              "       [0.71730453, 0.09399623, 0.83590975, 0.03638259, 0.80914094],\n",
              "       [0.58144337, 0.46703941, 0.05318723, 0.83198639, 0.65742713],\n",
              "       [0.64958202, 0.91867501, 0.15370121, 0.75768373, 0.01001664],\n",
              "       [0.62879572, 0.6864532 , 0.54288362, 0.02333837, 0.55675517],\n",
              "       [0.01014329, 0.81911104, 0.98512555, 0.77196479, 0.26894446],\n",
              "       [0.88044815, 0.74259489, 0.59684354, 0.14813425, 0.15195356],\n",
              "       [0.40874223, 0.57132748, 0.92376389, 0.67875747, 0.85445555],\n",
              "       [0.68303548, 0.94367118, 0.8391153 , 0.07461951, 0.8867204 ],\n",
              "       [0.25634402, 0.30351603, 0.98311081, 0.26202989, 0.35392297],\n",
              "       [0.26515701, 0.96459057, 0.71165279, 0.36688701, 0.03097698],\n",
              "       [0.51933756, 0.20908806, 0.34392782, 0.44905658, 0.64900276],\n",
              "       [0.65509605, 0.11165969, 0.04699078, 0.1189008 , 0.43672456],\n",
              "       [0.96217264, 0.11396061, 0.23671926, 0.28264558, 0.69014502],\n",
              "       [0.77438391, 0.86037409, 0.55554919, 0.68802313, 0.36626938],\n",
              "       [0.64900587, 0.85588605, 0.12704063, 0.56258718, 0.5390618 ],\n",
              "       [0.28312624, 0.97309768, 0.08126868, 0.38713387, 0.43436013],\n",
              "       [0.07688755, 0.00764827, 0.2455948 , 0.49057202, 0.23271919],\n",
              "       [0.51359031, 0.9426194 , 0.98213947, 0.19409262, 0.48457225],\n",
              "       [0.08315163, 0.45556876, 0.73453177, 0.14714311, 0.53584759],\n",
              "       [0.40460166, 0.33979254, 0.26095768, 0.75283147, 0.97609661],\n",
              "       [0.75782648, 0.19740617, 0.91345572, 0.84284315, 0.71143989],\n",
              "       [0.98221035, 0.87807175, 0.97490026, 0.47883796, 0.83510854],\n",
              "       [0.35165301, 0.09923878, 0.10811555, 0.0689176 , 0.77226515],\n",
              "       [0.27774079, 0.54156706, 0.40870108, 0.21414253, 0.92406341],\n",
              "       [0.65288857, 0.17146843, 0.71253264, 0.39064927, 0.03303198],\n",
              "       [0.5469747 , 0.47657344, 0.73881845, 0.56166806, 0.98093302],\n",
              "       [0.62794429, 0.84149382, 0.06416795, 0.14887049, 0.25418692],\n",
              "       [0.45260282, 0.10665787, 0.34021404, 0.92203287, 0.93228141],\n",
              "       [0.68462301, 0.66552717, 0.73899195, 0.35906769, 0.06742256],\n",
              "       [0.66298906, 0.70532321, 0.50633786, 0.08122625, 0.67342716],\n",
              "       [0.07206646, 0.95456734, 0.30477992, 0.7722353 , 0.29638844],\n",
              "       [0.91436602, 0.96531345, 0.17976167, 0.41422459, 0.96395334],\n",
              "       [0.2266581 , 0.62091595, 0.49119962, 0.00615064, 0.82815229]])"
            ]
          },
          "metadata": {
            "tags": []
          },
          "execution_count": 90
        }
      ]
    },
    {
      "cell_type": "code",
      "metadata": {
        "colab": {
          "base_uri": "https://localhost:8080/"
        },
        "id": "uj34mHFPsVW4",
        "outputId": "d8a7dfcf-1148-4bfd-da6b-418a1ad7d787"
      },
      "source": [
        "sampData\n"
      ],
      "execution_count": 91,
      "outputs": [
        {
          "output_type": "execute_result",
          "data": {
            "text/plain": [
              "array([[0.39823509, 0.00560765, 0.17527356, 0.20473762, 0.03430552],\n",
              "       [0.15170688, 0.04398605, 0.16322243, 0.26525802, 0.36079733],\n",
              "       [0.02405334, 0.01966013, 0.4577941 , 0.1825316 , 0.09880768],\n",
              "       [0.27417647, 0.09269578, 0.06259093, 0.18222322, 0.47722139],\n",
              "       [0.04752044, 0.45463553, 0.10366636, 0.19500759, 0.00986937]])"
            ]
          },
          "metadata": {
            "tags": []
          },
          "execution_count": 91
        }
      ]
    },
    {
      "cell_type": "code",
      "metadata": {
        "id": "HbgF7i-dkF3b",
        "colab": {
          "base_uri": "https://localhost:8080/"
        },
        "outputId": "9201bbc6-b615-4a6d-e1d5-e92df9e54ab5"
      },
      "source": [
        "np.var(sampData,axis=0)"
      ],
      "execution_count": 92,
      "outputs": [
        {
          "output_type": "execute_result",
          "data": {
            "text/plain": [
              "array([0.01983255, 0.02832065, 0.01926053, 0.00095001, 0.0352959 ])"
            ]
          },
          "metadata": {
            "tags": []
          },
          "execution_count": 92
        }
      ]
    },
    {
      "cell_type": "code",
      "metadata": {
        "id": "8ccUlzrwkF3b"
      },
      "source": [
        "orderOfCol=np.argsort(np.var(sampData,axis=0))"
      ],
      "execution_count": 93,
      "outputs": []
    },
    {
      "cell_type": "code",
      "metadata": {
        "id": "2HjKYWIfkF3b",
        "colab": {
          "base_uri": "https://localhost:8080/"
        },
        "outputId": "e10a0bf5-d9e4-475d-a86b-56f2a6dfc9bc"
      },
      "source": [
        "orderOfCol[-5:]"
      ],
      "execution_count": 94,
      "outputs": [
        {
          "output_type": "execute_result",
          "data": {
            "text/plain": [
              "array([3, 2, 0, 1, 4])"
            ]
          },
          "metadata": {
            "tags": []
          },
          "execution_count": 94
        }
      ]
    },
    {
      "cell_type": "code",
      "metadata": {
        "id": "W17wPr2AkF3c",
        "colab": {
          "base_uri": "https://localhost:8080/"
        },
        "outputId": "e303e832-057d-46f8-86c2-6ada0e17ee8c"
      },
      "source": [
        "sampData.shape"
      ],
      "execution_count": 95,
      "outputs": [
        {
          "output_type": "execute_result",
          "data": {
            "text/plain": [
              "(5, 5)"
            ]
          },
          "metadata": {
            "tags": []
          },
          "execution_count": 95
        }
      ]
    },
    {
      "cell_type": "code",
      "metadata": {
        "id": "fmu4dn4ekF3c",
        "colab": {
          "base_uri": "https://localhost:8080/"
        },
        "outputId": "699dda1d-9871-4706-ed3f-dd2109f62e68"
      },
      "source": [
        "sampData[:,orderOfCol[-5:]].shape"
      ],
      "execution_count": 96,
      "outputs": [
        {
          "output_type": "execute_result",
          "data": {
            "text/plain": [
              "(5, 5)"
            ]
          },
          "metadata": {
            "tags": []
          },
          "execution_count": 96
        }
      ]
    },
    {
      "cell_type": "markdown",
      "metadata": {
        "id": "GXBw-Z5CkF3c"
      },
      "source": [
        "## Broadcasting"
      ]
    },
    {
      "cell_type": "code",
      "metadata": {
        "id": "OA1nYl6CkF3c"
      },
      "source": [
        "sampData4=np.random.random(28).reshape(7,4)"
      ],
      "execution_count": 97,
      "outputs": []
    },
    {
      "cell_type": "code",
      "metadata": {
        "id": "AXfj0d0skF3c",
        "colab": {
          "base_uri": "https://localhost:8080/"
        },
        "outputId": "c24766c3-3832-41b4-c2bb-1e40945fc84a"
      },
      "source": [
        "sampData4"
      ],
      "execution_count": 98,
      "outputs": [
        {
          "output_type": "execute_result",
          "data": {
            "text/plain": [
              "array([[0.89095438, 0.06044462, 0.23535078, 0.19284026],\n",
              "       [0.82815557, 0.85014023, 0.01167574, 0.22221126],\n",
              "       [0.50009866, 0.54303388, 0.37963508, 0.71894607],\n",
              "       [0.49083994, 0.03731297, 0.21782154, 0.70254232],\n",
              "       [0.33977684, 0.06997354, 0.64124542, 0.88090304],\n",
              "       [0.41876056, 0.32559608, 0.59865951, 0.12984081],\n",
              "       [0.36552007, 0.40325888, 0.08155984, 0.98448812]])"
            ]
          },
          "metadata": {
            "tags": []
          },
          "execution_count": 98
        }
      ]
    },
    {
      "cell_type": "code",
      "metadata": {
        "id": "GpV-kI1gkF3c",
        "colab": {
          "base_uri": "https://localhost:8080/"
        },
        "outputId": "b9f17069-47b1-4387-b8de-09fedc684cd1"
      },
      "source": [
        "sampData4+5"
      ],
      "execution_count": 99,
      "outputs": [
        {
          "output_type": "execute_result",
          "data": {
            "text/plain": [
              "array([[5.89095438, 5.06044462, 5.23535078, 5.19284026],\n",
              "       [5.82815557, 5.85014023, 5.01167574, 5.22221126],\n",
              "       [5.50009866, 5.54303388, 5.37963508, 5.71894607],\n",
              "       [5.49083994, 5.03731297, 5.21782154, 5.70254232],\n",
              "       [5.33977684, 5.06997354, 5.64124542, 5.88090304],\n",
              "       [5.41876056, 5.32559608, 5.59865951, 5.12984081],\n",
              "       [5.36552007, 5.40325888, 5.08155984, 5.98448812]])"
            ]
          },
          "metadata": {
            "tags": []
          },
          "execution_count": 99
        }
      ]
    },
    {
      "cell_type": "code",
      "metadata": {
        "id": "T7nsRzr2kF3c",
        "colab": {
          "base_uri": "https://localhost:8080/"
        },
        "outputId": "f8df910a-8000-4280-e144-a6d2515d469c"
      },
      "source": [
        "sampData4+np.array([1,2,3,4])"
      ],
      "execution_count": 100,
      "outputs": [
        {
          "output_type": "execute_result",
          "data": {
            "text/plain": [
              "array([[1.89095438, 2.06044462, 3.23535078, 4.19284026],\n",
              "       [1.82815557, 2.85014023, 3.01167574, 4.22221126],\n",
              "       [1.50009866, 2.54303388, 3.37963508, 4.71894607],\n",
              "       [1.49083994, 2.03731297, 3.21782154, 4.70254232],\n",
              "       [1.33977684, 2.06997354, 3.64124542, 4.88090304],\n",
              "       [1.41876056, 2.32559608, 3.59865951, 4.12984081],\n",
              "       [1.36552007, 2.40325888, 3.08155984, 4.98448812]])"
            ]
          },
          "metadata": {
            "tags": []
          },
          "execution_count": 100
        }
      ]
    },
    {
      "cell_type": "code",
      "metadata": {
        "id": "kHI7H1yekF3d",
        "colab": {
          "base_uri": "https://localhost:8080/",
          "height": 163
        },
        "outputId": "32c9e2c4-0883-4bec-d6c2-aa9bb6f26bf3"
      },
      "source": [
        "# it will give an error\n",
        "# sampData4+np.array([1,2,3])"
      ],
      "execution_count": 101,
      "outputs": [
        {
          "output_type": "error",
          "ename": "ValueError",
          "evalue": "ignored",
          "traceback": [
            "\u001b[0;31m---------------------------------------------------------------------------\u001b[0m",
            "\u001b[0;31mValueError\u001b[0m                                Traceback (most recent call last)",
            "\u001b[0;32m<ipython-input-101-113b47c4a8fb>\u001b[0m in \u001b[0;36m<module>\u001b[0;34m()\u001b[0m\n\u001b[0;32m----> 1\u001b[0;31m \u001b[0msampData4\u001b[0m\u001b[0;34m+\u001b[0m\u001b[0mnp\u001b[0m\u001b[0;34m.\u001b[0m\u001b[0marray\u001b[0m\u001b[0;34m(\u001b[0m\u001b[0;34m[\u001b[0m\u001b[0;36m1\u001b[0m\u001b[0;34m,\u001b[0m\u001b[0;36m2\u001b[0m\u001b[0;34m,\u001b[0m\u001b[0;36m3\u001b[0m\u001b[0;34m]\u001b[0m\u001b[0;34m)\u001b[0m\u001b[0;34m\u001b[0m\u001b[0;34m\u001b[0m\u001b[0m\n\u001b[0m",
            "\u001b[0;31mValueError\u001b[0m: operands could not be broadcast together with shapes (7,4) (3,) "
          ]
        }
      ]
    },
    {
      "cell_type": "code",
      "metadata": {
        "id": "8Hk6XVdVkF3d"
      },
      "source": [
        "sampData4+np.array([1,2,3,4,5,6,7])"
      ],
      "execution_count": null,
      "outputs": []
    },
    {
      "cell_type": "code",
      "metadata": {
        "id": "Vhn_zwkguIHv"
      },
      "source": [
        "sampData4+np.array([1,2,3,4,5,6,7]).reshape(7,1)"
      ],
      "execution_count": null,
      "outputs": []
    },
    {
      "cell_type": "code",
      "metadata": {
        "id": "4uZi_VIIs5hx"
      },
      "source": [
        "np.array([1,2,3,4,5,6,7]).reshape(7,1)"
      ],
      "execution_count": null,
      "outputs": []
    },
    {
      "cell_type": "code",
      "metadata": {
        "id": "UMOAz19LkF3d"
      },
      "source": [
        "np.array([[1],[2],[3],[4],[5],[6],[7]]).shape"
      ],
      "execution_count": null,
      "outputs": []
    },
    {
      "cell_type": "code",
      "metadata": {
        "id": "kMzc36nIkF3d"
      },
      "source": [
        "sampData4+np.array([[1],[2],[3],[4],[5],[6],[7]])"
      ],
      "execution_count": null,
      "outputs": []
    },
    {
      "cell_type": "markdown",
      "metadata": {
        "id": "OqhYK4XNkF3d"
      },
      "source": [
        "##  Many matrix languages"
      ]
    },
    {
      "cell_type": "code",
      "metadata": {
        "id": "M7Zak8bJkF3d"
      },
      "source": [
        "aMatrix = np.array( [[1,1],[0,1]] )\n",
        "bMatrix = np.array( [[2,0],[3,4]] )"
      ],
      "execution_count": 102,
      "outputs": []
    },
    {
      "cell_type": "code",
      "metadata": {
        "id": "c9afhtJUkF3d",
        "colab": {
          "base_uri": "https://localhost:8080/"
        },
        "outputId": "60a94037-755f-4888-a7cd-89a37541b648"
      },
      "source": [
        "aMatrix"
      ],
      "execution_count": 103,
      "outputs": [
        {
          "output_type": "execute_result",
          "data": {
            "text/plain": [
              "array([[1, 1],\n",
              "       [0, 1]])"
            ]
          },
          "metadata": {
            "tags": []
          },
          "execution_count": 103
        }
      ]
    },
    {
      "cell_type": "code",
      "metadata": {
        "id": "YjmQsMDXkF3e",
        "colab": {
          "base_uri": "https://localhost:8080/"
        },
        "outputId": "6c0b038f-ea3f-44ec-d70a-363ffed2da5b"
      },
      "source": [
        "bMatrix"
      ],
      "execution_count": 104,
      "outputs": [
        {
          "output_type": "execute_result",
          "data": {
            "text/plain": [
              "array([[2, 0],\n",
              "       [3, 4]])"
            ]
          },
          "metadata": {
            "tags": []
          },
          "execution_count": 104
        }
      ]
    },
    {
      "cell_type": "code",
      "metadata": {
        "id": "Vp1KXvazkF3e",
        "colab": {
          "base_uri": "https://localhost:8080/"
        },
        "outputId": "0733e6d5-d2da-49ab-c367-614d15a84911"
      },
      "source": [
        "aMatrix * bMatrix  #elementwise  multiplication"
      ],
      "execution_count": 105,
      "outputs": [
        {
          "output_type": "execute_result",
          "data": {
            "text/plain": [
              "array([[2, 0],\n",
              "       [0, 4]])"
            ]
          },
          "metadata": {
            "tags": []
          },
          "execution_count": 105
        }
      ]
    },
    {
      "cell_type": "code",
      "metadata": {
        "id": "k80ClK7kkF3e",
        "colab": {
          "base_uri": "https://localhost:8080/"
        },
        "outputId": "c1bc0eea-704e-47aa-a703-882fd85f3926"
      },
      "source": [
        "aMatrix.dot(bMatrix) # matrix product"
      ],
      "execution_count": 106,
      "outputs": [
        {
          "output_type": "execute_result",
          "data": {
            "text/plain": [
              "array([[5, 4],\n",
              "       [3, 4]])"
            ]
          },
          "metadata": {
            "tags": []
          },
          "execution_count": 106
        }
      ]
    },
    {
      "cell_type": "code",
      "metadata": {
        "id": "3GY7kUgTkF3e",
        "colab": {
          "base_uri": "https://localhost:8080/"
        },
        "outputId": "d368488c-9101-42ed-a930-e291e487f192"
      },
      "source": [
        "np.dot(aMatrix,bMatrix)"
      ],
      "execution_count": 107,
      "outputs": [
        {
          "output_type": "execute_result",
          "data": {
            "text/plain": [
              "array([[5, 4],\n",
              "       [3, 4]])"
            ]
          },
          "metadata": {
            "tags": []
          },
          "execution_count": 107
        }
      ]
    },
    {
      "cell_type": "code",
      "metadata": {
        "id": "ctHg45odkF3e",
        "colab": {
          "base_uri": "https://localhost:8080/"
        },
        "outputId": "cf4a8040-acb1-4a74-c71b-f531f86201a4"
      },
      "source": [
        "aMatrix @ bMatrix  # matrix product"
      ],
      "execution_count": 108,
      "outputs": [
        {
          "output_type": "execute_result",
          "data": {
            "text/plain": [
              "array([[5, 4],\n",
              "       [3, 4]])"
            ]
          },
          "metadata": {
            "tags": []
          },
          "execution_count": 108
        }
      ]
    },
    {
      "cell_type": "markdown",
      "metadata": {
        "id": "omtZQ9wwkF3e"
      },
      "source": [
        "## Handy functions"
      ]
    },
    {
      "cell_type": "code",
      "metadata": {
        "id": "QeKLghIbkF3f",
        "colab": {
          "base_uri": "https://localhost:8080/"
        },
        "outputId": "cb434ae9-48ff-4298-99dd-2443275c090f"
      },
      "source": [
        "np.ones((5,5))"
      ],
      "execution_count": 109,
      "outputs": [
        {
          "output_type": "execute_result",
          "data": {
            "text/plain": [
              "array([[1., 1., 1., 1., 1.],\n",
              "       [1., 1., 1., 1., 1.],\n",
              "       [1., 1., 1., 1., 1.],\n",
              "       [1., 1., 1., 1., 1.],\n",
              "       [1., 1., 1., 1., 1.]])"
            ]
          },
          "metadata": {
            "tags": []
          },
          "execution_count": 109
        }
      ]
    },
    {
      "cell_type": "code",
      "metadata": {
        "id": "F68IQB6hkF3f",
        "colab": {
          "base_uri": "https://localhost:8080/"
        },
        "outputId": "ca6c0a2c-9047-478d-89b4-e58f8ca9525a"
      },
      "source": [
        "type(np.ones((5,5)))"
      ],
      "execution_count": 110,
      "outputs": [
        {
          "output_type": "execute_result",
          "data": {
            "text/plain": [
              "numpy.ndarray"
            ]
          },
          "metadata": {
            "tags": []
          },
          "execution_count": 110
        }
      ]
    },
    {
      "cell_type": "code",
      "metadata": {
        "id": "3PTiIVeAkF3f"
      },
      "source": [
        "arrayOf1s=np.ones((5,5))"
      ],
      "execution_count": 111,
      "outputs": []
    },
    {
      "cell_type": "code",
      "metadata": {
        "id": "2C-mo4fykF3f",
        "colab": {
          "base_uri": "https://localhost:8080/"
        },
        "outputId": "6710c422-071f-4d6f-c6a5-ebab5535bba3"
      },
      "source": [
        "arrayOf1s.dtype"
      ],
      "execution_count": 112,
      "outputs": [
        {
          "output_type": "execute_result",
          "data": {
            "text/plain": [
              "dtype('float64')"
            ]
          },
          "metadata": {
            "tags": []
          },
          "execution_count": 112
        }
      ]
    },
    {
      "cell_type": "code",
      "metadata": {
        "id": "L394zwZakF3f",
        "colab": {
          "base_uri": "https://localhost:8080/"
        },
        "outputId": "070c5418-0666-4269-9bc8-8a2b5e959854"
      },
      "source": [
        "np.ones((5,5),dtype='int32')"
      ],
      "execution_count": 113,
      "outputs": [
        {
          "output_type": "execute_result",
          "data": {
            "text/plain": [
              "array([[1, 1, 1, 1, 1],\n",
              "       [1, 1, 1, 1, 1],\n",
              "       [1, 1, 1, 1, 1],\n",
              "       [1, 1, 1, 1, 1],\n",
              "       [1, 1, 1, 1, 1]], dtype=int32)"
            ]
          },
          "metadata": {
            "tags": []
          },
          "execution_count": 113
        }
      ]
    },
    {
      "cell_type": "code",
      "metadata": {
        "id": "kSTcIi-PkF3f"
      },
      "source": [
        "exqualSpacedArray = np.linspace(0,10,30)"
      ],
      "execution_count": 114,
      "outputs": []
    },
    {
      "cell_type": "code",
      "metadata": {
        "id": "tU2tW2TakF3f",
        "colab": {
          "base_uri": "https://localhost:8080/"
        },
        "outputId": "d47ec5aa-39b6-451f-d7e5-fe8a7462d243"
      },
      "source": [
        "exqualSpacedArray"
      ],
      "execution_count": 115,
      "outputs": [
        {
          "output_type": "execute_result",
          "data": {
            "text/plain": [
              "array([ 0.        ,  0.34482759,  0.68965517,  1.03448276,  1.37931034,\n",
              "        1.72413793,  2.06896552,  2.4137931 ,  2.75862069,  3.10344828,\n",
              "        3.44827586,  3.79310345,  4.13793103,  4.48275862,  4.82758621,\n",
              "        5.17241379,  5.51724138,  5.86206897,  6.20689655,  6.55172414,\n",
              "        6.89655172,  7.24137931,  7.5862069 ,  7.93103448,  8.27586207,\n",
              "        8.62068966,  8.96551724,  9.31034483,  9.65517241, 10.        ])"
            ]
          },
          "metadata": {
            "tags": []
          },
          "execution_count": 115
        }
      ]
    },
    {
      "cell_type": "code",
      "metadata": {
        "id": "Oq_acZLxkF3g",
        "colab": {
          "base_uri": "https://localhost:8080/"
        },
        "outputId": "544b5be9-8c77-4e7f-f259-8a85094fc53a"
      },
      "source": [
        "np.exp(exqualSpacedArray)  #e^x"
      ],
      "execution_count": 116,
      "outputs": [
        {
          "output_type": "execute_result",
          "data": {
            "text/plain": [
              "array([1.00000000e+00, 1.41174649e+00, 1.99302816e+00, 2.81365052e+00,\n",
              "       3.97216126e+00, 5.60768473e+00, 7.91662926e+00, 1.11762736e+01,\n",
              "       1.57780651e+01, 2.22746281e+01, 3.14461281e+01, 4.43939611e+01,\n",
              "       6.26730189e+01, 8.84784147e+01, 1.24909092e+02, 1.76339972e+02,\n",
              "       2.48947338e+02, 3.51450531e+02, 4.96159055e+02, 7.00450807e+02,\n",
              "       9.88858971e+02, 1.39601819e+03, 1.97082378e+03, 2.78230356e+03,\n",
              "       3.92790730e+03, 5.54520936e+03, 7.82842987e+03, 1.10517584e+04,\n",
              "       1.56022812e+04, 2.20264658e+04])"
            ]
          },
          "metadata": {
            "tags": []
          },
          "execution_count": 116
        }
      ]
    },
    {
      "cell_type": "markdown",
      "metadata": {
        "id": "wEwrMuxXkF3g"
      },
      "source": [
        "## np.arange"
      ]
    },
    {
      "cell_type": "code",
      "metadata": {
        "id": "0tIOv5s4kF3g",
        "colab": {
          "base_uri": "https://localhost:8080/"
        },
        "outputId": "3327a4b8-5435-4bfe-f4c3-f29310ab0b19"
      },
      "source": [
        "np.arange(12)"
      ],
      "execution_count": 117,
      "outputs": [
        {
          "output_type": "execute_result",
          "data": {
            "text/plain": [
              "array([ 0,  1,  2,  3,  4,  5,  6,  7,  8,  9, 10, 11])"
            ]
          },
          "metadata": {
            "tags": []
          },
          "execution_count": 117
        }
      ]
    },
    {
      "cell_type": "code",
      "metadata": {
        "id": "glLtXOXIkF3g",
        "colab": {
          "base_uri": "https://localhost:8080/"
        },
        "outputId": "c0e70a83-4274-407c-89e2-6d8ba1f9e564"
      },
      "source": [
        "np.arange(12).reshape(3,4)"
      ],
      "execution_count": 118,
      "outputs": [
        {
          "output_type": "execute_result",
          "data": {
            "text/plain": [
              "array([[ 0,  1,  2,  3],\n",
              "       [ 4,  5,  6,  7],\n",
              "       [ 8,  9, 10, 11]])"
            ]
          },
          "metadata": {
            "tags": []
          },
          "execution_count": 118
        }
      ]
    },
    {
      "cell_type": "markdown",
      "metadata": {
        "id": "axN3feFNkF3g"
      },
      "source": [
        "## Other useful functions"
      ]
    },
    {
      "cell_type": "code",
      "metadata": {
        "id": "0fFd9pCIkF3g"
      },
      "source": [
        "simpleArray=np.arange(0,16,2)"
      ],
      "execution_count": 119,
      "outputs": []
    },
    {
      "cell_type": "code",
      "metadata": {
        "id": "ZlM3tQ0_kF3g",
        "colab": {
          "base_uri": "https://localhost:8080/"
        },
        "outputId": "b98a2d71-4dcf-4e7c-c556-45da4ec345a3"
      },
      "source": [
        "np.exp(simpleArray)"
      ],
      "execution_count": 120,
      "outputs": [
        {
          "output_type": "execute_result",
          "data": {
            "text/plain": [
              "array([1.00000000e+00, 7.38905610e+00, 5.45981500e+01, 4.03428793e+02,\n",
              "       2.98095799e+03, 2.20264658e+04, 1.62754791e+05, 1.20260428e+06])"
            ]
          },
          "metadata": {
            "tags": []
          },
          "execution_count": 120
        }
      ]
    },
    {
      "cell_type": "code",
      "metadata": {
        "id": "LlBsHRrVkF3h",
        "colab": {
          "base_uri": "https://localhost:8080/"
        },
        "outputId": "4eed1fc2-d990-45cd-898a-6399e20337c4"
      },
      "source": [
        "np.sum(simpleArray)"
      ],
      "execution_count": 121,
      "outputs": [
        {
          "output_type": "execute_result",
          "data": {
            "text/plain": [
              "56"
            ]
          },
          "metadata": {
            "tags": []
          },
          "execution_count": 121
        }
      ]
    },
    {
      "cell_type": "code",
      "metadata": {
        "id": "9dwESk7mkF3h",
        "colab": {
          "base_uri": "https://localhost:8080/"
        },
        "outputId": "8c63b135-7598-4085-99e5-658e163af0ac"
      },
      "source": [
        "np.sqrt(simpleArray)"
      ],
      "execution_count": 122,
      "outputs": [
        {
          "output_type": "execute_result",
          "data": {
            "text/plain": [
              "array([0.        , 1.41421356, 2.        , 2.44948974, 2.82842712,\n",
              "       3.16227766, 3.46410162, 3.74165739])"
            ]
          },
          "metadata": {
            "tags": []
          },
          "execution_count": 122
        }
      ]
    },
    {
      "cell_type": "code",
      "metadata": {
        "id": "kDRR3ne7kF3h"
      },
      "source": [
        "simpleArraySq=np.sqrt(simpleArray)"
      ],
      "execution_count": 123,
      "outputs": []
    },
    {
      "cell_type": "code",
      "metadata": {
        "colab": {
          "base_uri": "https://localhost:8080/"
        },
        "id": "ga_X1sLfvydW",
        "outputId": "d13319f0-a638-4350-a749-781c7d4595e2"
      },
      "source": [
        "simpleArraySq"
      ],
      "execution_count": 124,
      "outputs": [
        {
          "output_type": "execute_result",
          "data": {
            "text/plain": [
              "array([0.        , 1.41421356, 2.        , 2.44948974, 2.82842712,\n",
              "       3.16227766, 3.46410162, 3.74165739])"
            ]
          },
          "metadata": {
            "tags": []
          },
          "execution_count": 124
        }
      ]
    },
    {
      "cell_type": "code",
      "metadata": {
        "id": "_LS0ZJoMkF3h",
        "colab": {
          "base_uri": "https://localhost:8080/"
        },
        "outputId": "d9f645a9-355d-45b6-aaea-43899df5bf9c"
      },
      "source": [
        "np.add(simpleArray,simpleArraySq)"
      ],
      "execution_count": 125,
      "outputs": [
        {
          "output_type": "execute_result",
          "data": {
            "text/plain": [
              "array([ 0.        ,  3.41421356,  6.        ,  8.44948974, 10.82842712,\n",
              "       13.16227766, 15.46410162, 17.74165739])"
            ]
          },
          "metadata": {
            "tags": []
          },
          "execution_count": 125
        }
      ]
    },
    {
      "cell_type": "markdown",
      "metadata": {
        "id": "92HumxAbkF3h"
      },
      "source": [
        "## What if some non supported operations"
      ]
    },
    {
      "cell_type": "code",
      "metadata": {
        "id": "HIw2KHkKkF3h"
      },
      "source": [
        "import numpy as np"
      ],
      "execution_count": 126,
      "outputs": []
    },
    {
      "cell_type": "code",
      "metadata": {
        "id": "zQu9SNK2wOYq",
        "colab": {
          "base_uri": "https://localhost:8080/",
          "height": 163
        },
        "outputId": "da63116a-3ece-4cf1-e157-e1eecaa7b716"
      },
      "source": [
        "np.fromfunction(  )"
      ],
      "execution_count": 127,
      "outputs": [
        {
          "output_type": "error",
          "ename": "TypeError",
          "evalue": "ignored",
          "traceback": [
            "\u001b[0;31m---------------------------------------------------------------------------\u001b[0m",
            "\u001b[0;31mTypeError\u001b[0m                                 Traceback (most recent call last)",
            "\u001b[0;32m<ipython-input-127-c956bd2f6d61>\u001b[0m in \u001b[0;36m<module>\u001b[0;34m()\u001b[0m\n\u001b[0;32m----> 1\u001b[0;31m \u001b[0mnp\u001b[0m\u001b[0;34m.\u001b[0m\u001b[0mfromfunction\u001b[0m\u001b[0;34m(\u001b[0m  \u001b[0;34m)\u001b[0m\u001b[0;34m\u001b[0m\u001b[0;34m\u001b[0m\u001b[0m\n\u001b[0m",
            "\u001b[0;31mTypeError\u001b[0m: fromfunction() missing 2 required positional arguments: 'function' and 'shape'"
          ]
        }
      ]
    },
    {
      "cell_type": "code",
      "metadata": {
        "id": "I3DkYYT8kF3h",
        "colab": {
          "base_uri": "https://localhost:8080/"
        },
        "outputId": "2bf917ba-b114-4ef7-a674-b53b018236f2"
      },
      "source": [
        "def funcArray(x,y):\n",
        "    return 3*x+2*y\n",
        "\n",
        "functionCreatedArray = np.fromfunction(funcArray,(15,4),dtype=int)\n",
        "functionCreatedArray"
      ],
      "execution_count": 128,
      "outputs": [
        {
          "output_type": "execute_result",
          "data": {
            "text/plain": [
              "array([[ 0,  2,  4,  6],\n",
              "       [ 3,  5,  7,  9],\n",
              "       [ 6,  8, 10, 12],\n",
              "       [ 9, 11, 13, 15],\n",
              "       [12, 14, 16, 18],\n",
              "       [15, 17, 19, 21],\n",
              "       [18, 20, 22, 24],\n",
              "       [21, 23, 25, 27],\n",
              "       [24, 26, 28, 30],\n",
              "       [27, 29, 31, 33],\n",
              "       [30, 32, 34, 36],\n",
              "       [33, 35, 37, 39],\n",
              "       [36, 38, 40, 42],\n",
              "       [39, 41, 43, 45],\n",
              "       [42, 44, 46, 48]])"
            ]
          },
          "metadata": {
            "tags": []
          },
          "execution_count": 128
        }
      ]
    },
    {
      "cell_type": "markdown",
      "metadata": {
        "id": "fnAGYipPkF3i"
      },
      "source": [
        "### Flat the array"
      ]
    },
    {
      "cell_type": "code",
      "metadata": {
        "id": "zX74qnHfkF3i",
        "colab": {
          "base_uri": "https://localhost:8080/"
        },
        "outputId": "22b611e8-76e9-4370-968b-500e0238e1d7"
      },
      "source": [
        "functionCreatedArray.ravel()"
      ],
      "execution_count": 129,
      "outputs": [
        {
          "output_type": "execute_result",
          "data": {
            "text/plain": [
              "array([ 0,  2,  4,  6,  3,  5,  7,  9,  6,  8, 10, 12,  9, 11, 13, 15, 12,\n",
              "       14, 16, 18, 15, 17, 19, 21, 18, 20, 22, 24, 21, 23, 25, 27, 24, 26,\n",
              "       28, 30, 27, 29, 31, 33, 30, 32, 34, 36, 33, 35, 37, 39, 36, 38, 40,\n",
              "       42, 39, 41, 43, 45, 42, 44, 46, 48])"
            ]
          },
          "metadata": {
            "tags": []
          },
          "execution_count": 129
        }
      ]
    },
    {
      "cell_type": "code",
      "metadata": {
        "id": "uLje5BVVkF3i",
        "colab": {
          "base_uri": "https://localhost:8080/"
        },
        "outputId": "eeead4a9-36a0-48f3-ea0c-bda57778c582"
      },
      "source": [
        "functionCreatedArray.shape"
      ],
      "execution_count": 130,
      "outputs": [
        {
          "output_type": "execute_result",
          "data": {
            "text/plain": [
              "(15, 4)"
            ]
          },
          "metadata": {
            "tags": []
          },
          "execution_count": 130
        }
      ]
    },
    {
      "cell_type": "code",
      "metadata": {
        "id": "UNccHCjYkF3i"
      },
      "source": [
        "reshapedArray=functionCreatedArray.reshape((15,4,1))"
      ],
      "execution_count": 131,
      "outputs": []
    },
    {
      "cell_type": "code",
      "metadata": {
        "id": "Z4V4F3zRkF3i",
        "colab": {
          "base_uri": "https://localhost:8080/"
        },
        "outputId": "6bc2f350-1422-48d0-84e6-352a64edcb6a"
      },
      "source": [
        "reshapedArray"
      ],
      "execution_count": 132,
      "outputs": [
        {
          "output_type": "execute_result",
          "data": {
            "text/plain": [
              "array([[[ 0],\n",
              "        [ 2],\n",
              "        [ 4],\n",
              "        [ 6]],\n",
              "\n",
              "       [[ 3],\n",
              "        [ 5],\n",
              "        [ 7],\n",
              "        [ 9]],\n",
              "\n",
              "       [[ 6],\n",
              "        [ 8],\n",
              "        [10],\n",
              "        [12]],\n",
              "\n",
              "       [[ 9],\n",
              "        [11],\n",
              "        [13],\n",
              "        [15]],\n",
              "\n",
              "       [[12],\n",
              "        [14],\n",
              "        [16],\n",
              "        [18]],\n",
              "\n",
              "       [[15],\n",
              "        [17],\n",
              "        [19],\n",
              "        [21]],\n",
              "\n",
              "       [[18],\n",
              "        [20],\n",
              "        [22],\n",
              "        [24]],\n",
              "\n",
              "       [[21],\n",
              "        [23],\n",
              "        [25],\n",
              "        [27]],\n",
              "\n",
              "       [[24],\n",
              "        [26],\n",
              "        [28],\n",
              "        [30]],\n",
              "\n",
              "       [[27],\n",
              "        [29],\n",
              "        [31],\n",
              "        [33]],\n",
              "\n",
              "       [[30],\n",
              "        [32],\n",
              "        [34],\n",
              "        [36]],\n",
              "\n",
              "       [[33],\n",
              "        [35],\n",
              "        [37],\n",
              "        [39]],\n",
              "\n",
              "       [[36],\n",
              "        [38],\n",
              "        [40],\n",
              "        [42]],\n",
              "\n",
              "       [[39],\n",
              "        [41],\n",
              "        [43],\n",
              "        [45]],\n",
              "\n",
              "       [[42],\n",
              "        [44],\n",
              "        [46],\n",
              "        [48]]])"
            ]
          },
          "metadata": {
            "tags": []
          },
          "execution_count": 132
        }
      ]
    },
    {
      "cell_type": "code",
      "metadata": {
        "colab": {
          "base_uri": "https://localhost:8080/"
        },
        "id": "PMUKOWJiyJ_A",
        "outputId": "d2a9ec63-ae2a-45a9-a7cb-c018a7397da7"
      },
      "source": [
        "reshapedArray.shape"
      ],
      "execution_count": 133,
      "outputs": [
        {
          "output_type": "execute_result",
          "data": {
            "text/plain": [
              "(15, 4, 1)"
            ]
          },
          "metadata": {
            "tags": []
          },
          "execution_count": 133
        }
      ]
    },
    {
      "cell_type": "code",
      "metadata": {
        "id": "1_Qx5DKXkF3i",
        "colab": {
          "base_uri": "https://localhost:8080/"
        },
        "outputId": "316e43d2-50dd-4b28-ac71-b3fe8fc73c33"
      },
      "source": [
        "reshapedArray.ravel()"
      ],
      "execution_count": 134,
      "outputs": [
        {
          "output_type": "execute_result",
          "data": {
            "text/plain": [
              "array([ 0,  2,  4,  6,  3,  5,  7,  9,  6,  8, 10, 12,  9, 11, 13, 15, 12,\n",
              "       14, 16, 18, 15, 17, 19, 21, 18, 20, 22, 24, 21, 23, 25, 27, 24, 26,\n",
              "       28, 30, 27, 29, 31, 33, 30, 32, 34, 36, 33, 35, 37, 39, 36, 38, 40,\n",
              "       42, 39, 41, 43, 45, 42, 44, 46, 48])"
            ]
          },
          "metadata": {
            "tags": []
          },
          "execution_count": 134
        }
      ]
    },
    {
      "cell_type": "markdown",
      "metadata": {
        "id": "P0Nq6oQCkF3i"
      },
      "source": [
        "## Reshape in new form"
      ]
    },
    {
      "cell_type": "code",
      "metadata": {
        "id": "-RBJKwkqkF3j"
      },
      "source": [
        "newArr=np.arange(640)"
      ],
      "execution_count": 135,
      "outputs": []
    },
    {
      "cell_type": "code",
      "metadata": {
        "id": "Ab8mqsL4kF3j"
      },
      "source": [
        "multiDimArr=newArr.reshape(40,4,4)"
      ],
      "execution_count": 136,
      "outputs": []
    },
    {
      "cell_type": "code",
      "metadata": {
        "id": "5NpcIkHnkF3j",
        "colab": {
          "base_uri": "https://localhost:8080/"
        },
        "outputId": "29df3bf0-14ae-4f78-aac4-ee4cddc6e884"
      },
      "source": [
        "newArr.shape"
      ],
      "execution_count": 137,
      "outputs": [
        {
          "output_type": "execute_result",
          "data": {
            "text/plain": [
              "(640,)"
            ]
          },
          "metadata": {
            "tags": []
          },
          "execution_count": 137
        }
      ]
    },
    {
      "cell_type": "code",
      "metadata": {
        "id": "8n8dWBEakF3j",
        "colab": {
          "base_uri": "https://localhost:8080/"
        },
        "outputId": "446056bd-d038-4a5a-b8fa-eba7dd7172d8"
      },
      "source": [
        "multiDimArr.shape"
      ],
      "execution_count": 138,
      "outputs": [
        {
          "output_type": "execute_result",
          "data": {
            "text/plain": [
              "(40, 4, 4)"
            ]
          },
          "metadata": {
            "tags": []
          },
          "execution_count": 138
        }
      ]
    },
    {
      "cell_type": "code",
      "metadata": {
        "id": "BwZrUgsWkF3j",
        "colab": {
          "base_uri": "https://localhost:8080/"
        },
        "outputId": "9c2ea356-d2dd-4ad4-f69a-b873c1071dd9"
      },
      "source": [
        "multiDimArr[0]"
      ],
      "execution_count": 139,
      "outputs": [
        {
          "output_type": "execute_result",
          "data": {
            "text/plain": [
              "array([[ 0,  1,  2,  3],\n",
              "       [ 4,  5,  6,  7],\n",
              "       [ 8,  9, 10, 11],\n",
              "       [12, 13, 14, 15]])"
            ]
          },
          "metadata": {
            "tags": []
          },
          "execution_count": 139
        }
      ]
    },
    {
      "cell_type": "markdown",
      "metadata": {
        "id": "qiwzD5yCkF3j"
      },
      "source": [
        "#### make it as row vector by inserting an axis along first dimension"
      ]
    },
    {
      "cell_type": "code",
      "metadata": {
        "id": "5gPvG6q0kF3j",
        "colab": {
          "base_uri": "https://localhost:8080/"
        },
        "outputId": "d9b3b7ce-ca37-4a60-8025-342ac04b2f81"
      },
      "source": [
        "newArr"
      ],
      "execution_count": 140,
      "outputs": [
        {
          "output_type": "execute_result",
          "data": {
            "text/plain": [
              "array([  0,   1,   2,   3,   4,   5,   6,   7,   8,   9,  10,  11,  12,\n",
              "        13,  14,  15,  16,  17,  18,  19,  20,  21,  22,  23,  24,  25,\n",
              "        26,  27,  28,  29,  30,  31,  32,  33,  34,  35,  36,  37,  38,\n",
              "        39,  40,  41,  42,  43,  44,  45,  46,  47,  48,  49,  50,  51,\n",
              "        52,  53,  54,  55,  56,  57,  58,  59,  60,  61,  62,  63,  64,\n",
              "        65,  66,  67,  68,  69,  70,  71,  72,  73,  74,  75,  76,  77,\n",
              "        78,  79,  80,  81,  82,  83,  84,  85,  86,  87,  88,  89,  90,\n",
              "        91,  92,  93,  94,  95,  96,  97,  98,  99, 100, 101, 102, 103,\n",
              "       104, 105, 106, 107, 108, 109, 110, 111, 112, 113, 114, 115, 116,\n",
              "       117, 118, 119, 120, 121, 122, 123, 124, 125, 126, 127, 128, 129,\n",
              "       130, 131, 132, 133, 134, 135, 136, 137, 138, 139, 140, 141, 142,\n",
              "       143, 144, 145, 146, 147, 148, 149, 150, 151, 152, 153, 154, 155,\n",
              "       156, 157, 158, 159, 160, 161, 162, 163, 164, 165, 166, 167, 168,\n",
              "       169, 170, 171, 172, 173, 174, 175, 176, 177, 178, 179, 180, 181,\n",
              "       182, 183, 184, 185, 186, 187, 188, 189, 190, 191, 192, 193, 194,\n",
              "       195, 196, 197, 198, 199, 200, 201, 202, 203, 204, 205, 206, 207,\n",
              "       208, 209, 210, 211, 212, 213, 214, 215, 216, 217, 218, 219, 220,\n",
              "       221, 222, 223, 224, 225, 226, 227, 228, 229, 230, 231, 232, 233,\n",
              "       234, 235, 236, 237, 238, 239, 240, 241, 242, 243, 244, 245, 246,\n",
              "       247, 248, 249, 250, 251, 252, 253, 254, 255, 256, 257, 258, 259,\n",
              "       260, 261, 262, 263, 264, 265, 266, 267, 268, 269, 270, 271, 272,\n",
              "       273, 274, 275, 276, 277, 278, 279, 280, 281, 282, 283, 284, 285,\n",
              "       286, 287, 288, 289, 290, 291, 292, 293, 294, 295, 296, 297, 298,\n",
              "       299, 300, 301, 302, 303, 304, 305, 306, 307, 308, 309, 310, 311,\n",
              "       312, 313, 314, 315, 316, 317, 318, 319, 320, 321, 322, 323, 324,\n",
              "       325, 326, 327, 328, 329, 330, 331, 332, 333, 334, 335, 336, 337,\n",
              "       338, 339, 340, 341, 342, 343, 344, 345, 346, 347, 348, 349, 350,\n",
              "       351, 352, 353, 354, 355, 356, 357, 358, 359, 360, 361, 362, 363,\n",
              "       364, 365, 366, 367, 368, 369, 370, 371, 372, 373, 374, 375, 376,\n",
              "       377, 378, 379, 380, 381, 382, 383, 384, 385, 386, 387, 388, 389,\n",
              "       390, 391, 392, 393, 394, 395, 396, 397, 398, 399, 400, 401, 402,\n",
              "       403, 404, 405, 406, 407, 408, 409, 410, 411, 412, 413, 414, 415,\n",
              "       416, 417, 418, 419, 420, 421, 422, 423, 424, 425, 426, 427, 428,\n",
              "       429, 430, 431, 432, 433, 434, 435, 436, 437, 438, 439, 440, 441,\n",
              "       442, 443, 444, 445, 446, 447, 448, 449, 450, 451, 452, 453, 454,\n",
              "       455, 456, 457, 458, 459, 460, 461, 462, 463, 464, 465, 466, 467,\n",
              "       468, 469, 470, 471, 472, 473, 474, 475, 476, 477, 478, 479, 480,\n",
              "       481, 482, 483, 484, 485, 486, 487, 488, 489, 490, 491, 492, 493,\n",
              "       494, 495, 496, 497, 498, 499, 500, 501, 502, 503, 504, 505, 506,\n",
              "       507, 508, 509, 510, 511, 512, 513, 514, 515, 516, 517, 518, 519,\n",
              "       520, 521, 522, 523, 524, 525, 526, 527, 528, 529, 530, 531, 532,\n",
              "       533, 534, 535, 536, 537, 538, 539, 540, 541, 542, 543, 544, 545,\n",
              "       546, 547, 548, 549, 550, 551, 552, 553, 554, 555, 556, 557, 558,\n",
              "       559, 560, 561, 562, 563, 564, 565, 566, 567, 568, 569, 570, 571,\n",
              "       572, 573, 574, 575, 576, 577, 578, 579, 580, 581, 582, 583, 584,\n",
              "       585, 586, 587, 588, 589, 590, 591, 592, 593, 594, 595, 596, 597,\n",
              "       598, 599, 600, 601, 602, 603, 604, 605, 606, 607, 608, 609, 610,\n",
              "       611, 612, 613, 614, 615, 616, 617, 618, 619, 620, 621, 622, 623,\n",
              "       624, 625, 626, 627, 628, 629, 630, 631, 632, 633, 634, 635, 636,\n",
              "       637, 638, 639])"
            ]
          },
          "metadata": {
            "tags": []
          },
          "execution_count": 140
        }
      ]
    },
    {
      "cell_type": "code",
      "metadata": {
        "scrolled": true,
        "id": "le4GJUhCkF3k",
        "colab": {
          "base_uri": "https://localhost:8080/"
        },
        "outputId": "2336823f-5146-4d7f-ca08-678678f85565"
      },
      "source": [
        "newArr[np.newaxis,:]"
      ],
      "execution_count": 141,
      "outputs": [
        {
          "output_type": "execute_result",
          "data": {
            "text/plain": [
              "array([[  0,   1,   2,   3,   4,   5,   6,   7,   8,   9,  10,  11,  12,\n",
              "         13,  14,  15,  16,  17,  18,  19,  20,  21,  22,  23,  24,  25,\n",
              "         26,  27,  28,  29,  30,  31,  32,  33,  34,  35,  36,  37,  38,\n",
              "         39,  40,  41,  42,  43,  44,  45,  46,  47,  48,  49,  50,  51,\n",
              "         52,  53,  54,  55,  56,  57,  58,  59,  60,  61,  62,  63,  64,\n",
              "         65,  66,  67,  68,  69,  70,  71,  72,  73,  74,  75,  76,  77,\n",
              "         78,  79,  80,  81,  82,  83,  84,  85,  86,  87,  88,  89,  90,\n",
              "         91,  92,  93,  94,  95,  96,  97,  98,  99, 100, 101, 102, 103,\n",
              "        104, 105, 106, 107, 108, 109, 110, 111, 112, 113, 114, 115, 116,\n",
              "        117, 118, 119, 120, 121, 122, 123, 124, 125, 126, 127, 128, 129,\n",
              "        130, 131, 132, 133, 134, 135, 136, 137, 138, 139, 140, 141, 142,\n",
              "        143, 144, 145, 146, 147, 148, 149, 150, 151, 152, 153, 154, 155,\n",
              "        156, 157, 158, 159, 160, 161, 162, 163, 164, 165, 166, 167, 168,\n",
              "        169, 170, 171, 172, 173, 174, 175, 176, 177, 178, 179, 180, 181,\n",
              "        182, 183, 184, 185, 186, 187, 188, 189, 190, 191, 192, 193, 194,\n",
              "        195, 196, 197, 198, 199, 200, 201, 202, 203, 204, 205, 206, 207,\n",
              "        208, 209, 210, 211, 212, 213, 214, 215, 216, 217, 218, 219, 220,\n",
              "        221, 222, 223, 224, 225, 226, 227, 228, 229, 230, 231, 232, 233,\n",
              "        234, 235, 236, 237, 238, 239, 240, 241, 242, 243, 244, 245, 246,\n",
              "        247, 248, 249, 250, 251, 252, 253, 254, 255, 256, 257, 258, 259,\n",
              "        260, 261, 262, 263, 264, 265, 266, 267, 268, 269, 270, 271, 272,\n",
              "        273, 274, 275, 276, 277, 278, 279, 280, 281, 282, 283, 284, 285,\n",
              "        286, 287, 288, 289, 290, 291, 292, 293, 294, 295, 296, 297, 298,\n",
              "        299, 300, 301, 302, 303, 304, 305, 306, 307, 308, 309, 310, 311,\n",
              "        312, 313, 314, 315, 316, 317, 318, 319, 320, 321, 322, 323, 324,\n",
              "        325, 326, 327, 328, 329, 330, 331, 332, 333, 334, 335, 336, 337,\n",
              "        338, 339, 340, 341, 342, 343, 344, 345, 346, 347, 348, 349, 350,\n",
              "        351, 352, 353, 354, 355, 356, 357, 358, 359, 360, 361, 362, 363,\n",
              "        364, 365, 366, 367, 368, 369, 370, 371, 372, 373, 374, 375, 376,\n",
              "        377, 378, 379, 380, 381, 382, 383, 384, 385, 386, 387, 388, 389,\n",
              "        390, 391, 392, 393, 394, 395, 396, 397, 398, 399, 400, 401, 402,\n",
              "        403, 404, 405, 406, 407, 408, 409, 410, 411, 412, 413, 414, 415,\n",
              "        416, 417, 418, 419, 420, 421, 422, 423, 424, 425, 426, 427, 428,\n",
              "        429, 430, 431, 432, 433, 434, 435, 436, 437, 438, 439, 440, 441,\n",
              "        442, 443, 444, 445, 446, 447, 448, 449, 450, 451, 452, 453, 454,\n",
              "        455, 456, 457, 458, 459, 460, 461, 462, 463, 464, 465, 466, 467,\n",
              "        468, 469, 470, 471, 472, 473, 474, 475, 476, 477, 478, 479, 480,\n",
              "        481, 482, 483, 484, 485, 486, 487, 488, 489, 490, 491, 492, 493,\n",
              "        494, 495, 496, 497, 498, 499, 500, 501, 502, 503, 504, 505, 506,\n",
              "        507, 508, 509, 510, 511, 512, 513, 514, 515, 516, 517, 518, 519,\n",
              "        520, 521, 522, 523, 524, 525, 526, 527, 528, 529, 530, 531, 532,\n",
              "        533, 534, 535, 536, 537, 538, 539, 540, 541, 542, 543, 544, 545,\n",
              "        546, 547, 548, 549, 550, 551, 552, 553, 554, 555, 556, 557, 558,\n",
              "        559, 560, 561, 562, 563, 564, 565, 566, 567, 568, 569, 570, 571,\n",
              "        572, 573, 574, 575, 576, 577, 578, 579, 580, 581, 582, 583, 584,\n",
              "        585, 586, 587, 588, 589, 590, 591, 592, 593, 594, 595, 596, 597,\n",
              "        598, 599, 600, 601, 602, 603, 604, 605, 606, 607, 608, 609, 610,\n",
              "        611, 612, 613, 614, 615, 616, 617, 618, 619, 620, 621, 622, 623,\n",
              "        624, 625, 626, 627, 628, 629, 630, 631, 632, 633, 634, 635, 636,\n",
              "        637, 638, 639]])"
            ]
          },
          "metadata": {
            "tags": []
          },
          "execution_count": 141
        }
      ]
    },
    {
      "cell_type": "code",
      "metadata": {
        "id": "Q7wqS9hwkF3k",
        "colab": {
          "base_uri": "https://localhost:8080/"
        },
        "outputId": "5e3d2079-92b2-4d13-a07c-fddab346040c"
      },
      "source": [
        "newArr[np.newaxis,:].shape"
      ],
      "execution_count": 142,
      "outputs": [
        {
          "output_type": "execute_result",
          "data": {
            "text/plain": [
              "(1, 640)"
            ]
          },
          "metadata": {
            "tags": []
          },
          "execution_count": 142
        }
      ]
    },
    {
      "cell_type": "code",
      "metadata": {
        "id": "qTtsVotykF3k",
        "colab": {
          "base_uri": "https://localhost:8080/"
        },
        "outputId": "af0b3562-38c7-463a-83e5-e21a46e8afcd"
      },
      "source": [
        "newArr[:,np.newaxis]"
      ],
      "execution_count": 143,
      "outputs": [
        {
          "output_type": "execute_result",
          "data": {
            "text/plain": [
              "array([[  0],\n",
              "       [  1],\n",
              "       [  2],\n",
              "       [  3],\n",
              "       [  4],\n",
              "       [  5],\n",
              "       [  6],\n",
              "       [  7],\n",
              "       [  8],\n",
              "       [  9],\n",
              "       [ 10],\n",
              "       [ 11],\n",
              "       [ 12],\n",
              "       [ 13],\n",
              "       [ 14],\n",
              "       [ 15],\n",
              "       [ 16],\n",
              "       [ 17],\n",
              "       [ 18],\n",
              "       [ 19],\n",
              "       [ 20],\n",
              "       [ 21],\n",
              "       [ 22],\n",
              "       [ 23],\n",
              "       [ 24],\n",
              "       [ 25],\n",
              "       [ 26],\n",
              "       [ 27],\n",
              "       [ 28],\n",
              "       [ 29],\n",
              "       [ 30],\n",
              "       [ 31],\n",
              "       [ 32],\n",
              "       [ 33],\n",
              "       [ 34],\n",
              "       [ 35],\n",
              "       [ 36],\n",
              "       [ 37],\n",
              "       [ 38],\n",
              "       [ 39],\n",
              "       [ 40],\n",
              "       [ 41],\n",
              "       [ 42],\n",
              "       [ 43],\n",
              "       [ 44],\n",
              "       [ 45],\n",
              "       [ 46],\n",
              "       [ 47],\n",
              "       [ 48],\n",
              "       [ 49],\n",
              "       [ 50],\n",
              "       [ 51],\n",
              "       [ 52],\n",
              "       [ 53],\n",
              "       [ 54],\n",
              "       [ 55],\n",
              "       [ 56],\n",
              "       [ 57],\n",
              "       [ 58],\n",
              "       [ 59],\n",
              "       [ 60],\n",
              "       [ 61],\n",
              "       [ 62],\n",
              "       [ 63],\n",
              "       [ 64],\n",
              "       [ 65],\n",
              "       [ 66],\n",
              "       [ 67],\n",
              "       [ 68],\n",
              "       [ 69],\n",
              "       [ 70],\n",
              "       [ 71],\n",
              "       [ 72],\n",
              "       [ 73],\n",
              "       [ 74],\n",
              "       [ 75],\n",
              "       [ 76],\n",
              "       [ 77],\n",
              "       [ 78],\n",
              "       [ 79],\n",
              "       [ 80],\n",
              "       [ 81],\n",
              "       [ 82],\n",
              "       [ 83],\n",
              "       [ 84],\n",
              "       [ 85],\n",
              "       [ 86],\n",
              "       [ 87],\n",
              "       [ 88],\n",
              "       [ 89],\n",
              "       [ 90],\n",
              "       [ 91],\n",
              "       [ 92],\n",
              "       [ 93],\n",
              "       [ 94],\n",
              "       [ 95],\n",
              "       [ 96],\n",
              "       [ 97],\n",
              "       [ 98],\n",
              "       [ 99],\n",
              "       [100],\n",
              "       [101],\n",
              "       [102],\n",
              "       [103],\n",
              "       [104],\n",
              "       [105],\n",
              "       [106],\n",
              "       [107],\n",
              "       [108],\n",
              "       [109],\n",
              "       [110],\n",
              "       [111],\n",
              "       [112],\n",
              "       [113],\n",
              "       [114],\n",
              "       [115],\n",
              "       [116],\n",
              "       [117],\n",
              "       [118],\n",
              "       [119],\n",
              "       [120],\n",
              "       [121],\n",
              "       [122],\n",
              "       [123],\n",
              "       [124],\n",
              "       [125],\n",
              "       [126],\n",
              "       [127],\n",
              "       [128],\n",
              "       [129],\n",
              "       [130],\n",
              "       [131],\n",
              "       [132],\n",
              "       [133],\n",
              "       [134],\n",
              "       [135],\n",
              "       [136],\n",
              "       [137],\n",
              "       [138],\n",
              "       [139],\n",
              "       [140],\n",
              "       [141],\n",
              "       [142],\n",
              "       [143],\n",
              "       [144],\n",
              "       [145],\n",
              "       [146],\n",
              "       [147],\n",
              "       [148],\n",
              "       [149],\n",
              "       [150],\n",
              "       [151],\n",
              "       [152],\n",
              "       [153],\n",
              "       [154],\n",
              "       [155],\n",
              "       [156],\n",
              "       [157],\n",
              "       [158],\n",
              "       [159],\n",
              "       [160],\n",
              "       [161],\n",
              "       [162],\n",
              "       [163],\n",
              "       [164],\n",
              "       [165],\n",
              "       [166],\n",
              "       [167],\n",
              "       [168],\n",
              "       [169],\n",
              "       [170],\n",
              "       [171],\n",
              "       [172],\n",
              "       [173],\n",
              "       [174],\n",
              "       [175],\n",
              "       [176],\n",
              "       [177],\n",
              "       [178],\n",
              "       [179],\n",
              "       [180],\n",
              "       [181],\n",
              "       [182],\n",
              "       [183],\n",
              "       [184],\n",
              "       [185],\n",
              "       [186],\n",
              "       [187],\n",
              "       [188],\n",
              "       [189],\n",
              "       [190],\n",
              "       [191],\n",
              "       [192],\n",
              "       [193],\n",
              "       [194],\n",
              "       [195],\n",
              "       [196],\n",
              "       [197],\n",
              "       [198],\n",
              "       [199],\n",
              "       [200],\n",
              "       [201],\n",
              "       [202],\n",
              "       [203],\n",
              "       [204],\n",
              "       [205],\n",
              "       [206],\n",
              "       [207],\n",
              "       [208],\n",
              "       [209],\n",
              "       [210],\n",
              "       [211],\n",
              "       [212],\n",
              "       [213],\n",
              "       [214],\n",
              "       [215],\n",
              "       [216],\n",
              "       [217],\n",
              "       [218],\n",
              "       [219],\n",
              "       [220],\n",
              "       [221],\n",
              "       [222],\n",
              "       [223],\n",
              "       [224],\n",
              "       [225],\n",
              "       [226],\n",
              "       [227],\n",
              "       [228],\n",
              "       [229],\n",
              "       [230],\n",
              "       [231],\n",
              "       [232],\n",
              "       [233],\n",
              "       [234],\n",
              "       [235],\n",
              "       [236],\n",
              "       [237],\n",
              "       [238],\n",
              "       [239],\n",
              "       [240],\n",
              "       [241],\n",
              "       [242],\n",
              "       [243],\n",
              "       [244],\n",
              "       [245],\n",
              "       [246],\n",
              "       [247],\n",
              "       [248],\n",
              "       [249],\n",
              "       [250],\n",
              "       [251],\n",
              "       [252],\n",
              "       [253],\n",
              "       [254],\n",
              "       [255],\n",
              "       [256],\n",
              "       [257],\n",
              "       [258],\n",
              "       [259],\n",
              "       [260],\n",
              "       [261],\n",
              "       [262],\n",
              "       [263],\n",
              "       [264],\n",
              "       [265],\n",
              "       [266],\n",
              "       [267],\n",
              "       [268],\n",
              "       [269],\n",
              "       [270],\n",
              "       [271],\n",
              "       [272],\n",
              "       [273],\n",
              "       [274],\n",
              "       [275],\n",
              "       [276],\n",
              "       [277],\n",
              "       [278],\n",
              "       [279],\n",
              "       [280],\n",
              "       [281],\n",
              "       [282],\n",
              "       [283],\n",
              "       [284],\n",
              "       [285],\n",
              "       [286],\n",
              "       [287],\n",
              "       [288],\n",
              "       [289],\n",
              "       [290],\n",
              "       [291],\n",
              "       [292],\n",
              "       [293],\n",
              "       [294],\n",
              "       [295],\n",
              "       [296],\n",
              "       [297],\n",
              "       [298],\n",
              "       [299],\n",
              "       [300],\n",
              "       [301],\n",
              "       [302],\n",
              "       [303],\n",
              "       [304],\n",
              "       [305],\n",
              "       [306],\n",
              "       [307],\n",
              "       [308],\n",
              "       [309],\n",
              "       [310],\n",
              "       [311],\n",
              "       [312],\n",
              "       [313],\n",
              "       [314],\n",
              "       [315],\n",
              "       [316],\n",
              "       [317],\n",
              "       [318],\n",
              "       [319],\n",
              "       [320],\n",
              "       [321],\n",
              "       [322],\n",
              "       [323],\n",
              "       [324],\n",
              "       [325],\n",
              "       [326],\n",
              "       [327],\n",
              "       [328],\n",
              "       [329],\n",
              "       [330],\n",
              "       [331],\n",
              "       [332],\n",
              "       [333],\n",
              "       [334],\n",
              "       [335],\n",
              "       [336],\n",
              "       [337],\n",
              "       [338],\n",
              "       [339],\n",
              "       [340],\n",
              "       [341],\n",
              "       [342],\n",
              "       [343],\n",
              "       [344],\n",
              "       [345],\n",
              "       [346],\n",
              "       [347],\n",
              "       [348],\n",
              "       [349],\n",
              "       [350],\n",
              "       [351],\n",
              "       [352],\n",
              "       [353],\n",
              "       [354],\n",
              "       [355],\n",
              "       [356],\n",
              "       [357],\n",
              "       [358],\n",
              "       [359],\n",
              "       [360],\n",
              "       [361],\n",
              "       [362],\n",
              "       [363],\n",
              "       [364],\n",
              "       [365],\n",
              "       [366],\n",
              "       [367],\n",
              "       [368],\n",
              "       [369],\n",
              "       [370],\n",
              "       [371],\n",
              "       [372],\n",
              "       [373],\n",
              "       [374],\n",
              "       [375],\n",
              "       [376],\n",
              "       [377],\n",
              "       [378],\n",
              "       [379],\n",
              "       [380],\n",
              "       [381],\n",
              "       [382],\n",
              "       [383],\n",
              "       [384],\n",
              "       [385],\n",
              "       [386],\n",
              "       [387],\n",
              "       [388],\n",
              "       [389],\n",
              "       [390],\n",
              "       [391],\n",
              "       [392],\n",
              "       [393],\n",
              "       [394],\n",
              "       [395],\n",
              "       [396],\n",
              "       [397],\n",
              "       [398],\n",
              "       [399],\n",
              "       [400],\n",
              "       [401],\n",
              "       [402],\n",
              "       [403],\n",
              "       [404],\n",
              "       [405],\n",
              "       [406],\n",
              "       [407],\n",
              "       [408],\n",
              "       [409],\n",
              "       [410],\n",
              "       [411],\n",
              "       [412],\n",
              "       [413],\n",
              "       [414],\n",
              "       [415],\n",
              "       [416],\n",
              "       [417],\n",
              "       [418],\n",
              "       [419],\n",
              "       [420],\n",
              "       [421],\n",
              "       [422],\n",
              "       [423],\n",
              "       [424],\n",
              "       [425],\n",
              "       [426],\n",
              "       [427],\n",
              "       [428],\n",
              "       [429],\n",
              "       [430],\n",
              "       [431],\n",
              "       [432],\n",
              "       [433],\n",
              "       [434],\n",
              "       [435],\n",
              "       [436],\n",
              "       [437],\n",
              "       [438],\n",
              "       [439],\n",
              "       [440],\n",
              "       [441],\n",
              "       [442],\n",
              "       [443],\n",
              "       [444],\n",
              "       [445],\n",
              "       [446],\n",
              "       [447],\n",
              "       [448],\n",
              "       [449],\n",
              "       [450],\n",
              "       [451],\n",
              "       [452],\n",
              "       [453],\n",
              "       [454],\n",
              "       [455],\n",
              "       [456],\n",
              "       [457],\n",
              "       [458],\n",
              "       [459],\n",
              "       [460],\n",
              "       [461],\n",
              "       [462],\n",
              "       [463],\n",
              "       [464],\n",
              "       [465],\n",
              "       [466],\n",
              "       [467],\n",
              "       [468],\n",
              "       [469],\n",
              "       [470],\n",
              "       [471],\n",
              "       [472],\n",
              "       [473],\n",
              "       [474],\n",
              "       [475],\n",
              "       [476],\n",
              "       [477],\n",
              "       [478],\n",
              "       [479],\n",
              "       [480],\n",
              "       [481],\n",
              "       [482],\n",
              "       [483],\n",
              "       [484],\n",
              "       [485],\n",
              "       [486],\n",
              "       [487],\n",
              "       [488],\n",
              "       [489],\n",
              "       [490],\n",
              "       [491],\n",
              "       [492],\n",
              "       [493],\n",
              "       [494],\n",
              "       [495],\n",
              "       [496],\n",
              "       [497],\n",
              "       [498],\n",
              "       [499],\n",
              "       [500],\n",
              "       [501],\n",
              "       [502],\n",
              "       [503],\n",
              "       [504],\n",
              "       [505],\n",
              "       [506],\n",
              "       [507],\n",
              "       [508],\n",
              "       [509],\n",
              "       [510],\n",
              "       [511],\n",
              "       [512],\n",
              "       [513],\n",
              "       [514],\n",
              "       [515],\n",
              "       [516],\n",
              "       [517],\n",
              "       [518],\n",
              "       [519],\n",
              "       [520],\n",
              "       [521],\n",
              "       [522],\n",
              "       [523],\n",
              "       [524],\n",
              "       [525],\n",
              "       [526],\n",
              "       [527],\n",
              "       [528],\n",
              "       [529],\n",
              "       [530],\n",
              "       [531],\n",
              "       [532],\n",
              "       [533],\n",
              "       [534],\n",
              "       [535],\n",
              "       [536],\n",
              "       [537],\n",
              "       [538],\n",
              "       [539],\n",
              "       [540],\n",
              "       [541],\n",
              "       [542],\n",
              "       [543],\n",
              "       [544],\n",
              "       [545],\n",
              "       [546],\n",
              "       [547],\n",
              "       [548],\n",
              "       [549],\n",
              "       [550],\n",
              "       [551],\n",
              "       [552],\n",
              "       [553],\n",
              "       [554],\n",
              "       [555],\n",
              "       [556],\n",
              "       [557],\n",
              "       [558],\n",
              "       [559],\n",
              "       [560],\n",
              "       [561],\n",
              "       [562],\n",
              "       [563],\n",
              "       [564],\n",
              "       [565],\n",
              "       [566],\n",
              "       [567],\n",
              "       [568],\n",
              "       [569],\n",
              "       [570],\n",
              "       [571],\n",
              "       [572],\n",
              "       [573],\n",
              "       [574],\n",
              "       [575],\n",
              "       [576],\n",
              "       [577],\n",
              "       [578],\n",
              "       [579],\n",
              "       [580],\n",
              "       [581],\n",
              "       [582],\n",
              "       [583],\n",
              "       [584],\n",
              "       [585],\n",
              "       [586],\n",
              "       [587],\n",
              "       [588],\n",
              "       [589],\n",
              "       [590],\n",
              "       [591],\n",
              "       [592],\n",
              "       [593],\n",
              "       [594],\n",
              "       [595],\n",
              "       [596],\n",
              "       [597],\n",
              "       [598],\n",
              "       [599],\n",
              "       [600],\n",
              "       [601],\n",
              "       [602],\n",
              "       [603],\n",
              "       [604],\n",
              "       [605],\n",
              "       [606],\n",
              "       [607],\n",
              "       [608],\n",
              "       [609],\n",
              "       [610],\n",
              "       [611],\n",
              "       [612],\n",
              "       [613],\n",
              "       [614],\n",
              "       [615],\n",
              "       [616],\n",
              "       [617],\n",
              "       [618],\n",
              "       [619],\n",
              "       [620],\n",
              "       [621],\n",
              "       [622],\n",
              "       [623],\n",
              "       [624],\n",
              "       [625],\n",
              "       [626],\n",
              "       [627],\n",
              "       [628],\n",
              "       [629],\n",
              "       [630],\n",
              "       [631],\n",
              "       [632],\n",
              "       [633],\n",
              "       [634],\n",
              "       [635],\n",
              "       [636],\n",
              "       [637],\n",
              "       [638],\n",
              "       [639]])"
            ]
          },
          "metadata": {
            "tags": []
          },
          "execution_count": 143
        }
      ]
    },
    {
      "cell_type": "code",
      "metadata": {
        "id": "BFl-2h5BkF3k",
        "colab": {
          "base_uri": "https://localhost:8080/"
        },
        "outputId": "9ebe24c2-9e58-4aee-d4f3-1708aa5d3dc6"
      },
      "source": [
        "newArr[:,np.newaxis].shape"
      ],
      "execution_count": 144,
      "outputs": [
        {
          "output_type": "execute_result",
          "data": {
            "text/plain": [
              "(640, 1)"
            ]
          },
          "metadata": {
            "tags": []
          },
          "execution_count": 144
        }
      ]
    },
    {
      "cell_type": "code",
      "metadata": {
        "id": "to9brbDdzWKm"
      },
      "source": [
        "newlist=np.arange(20)"
      ],
      "execution_count": 145,
      "outputs": []
    },
    {
      "cell_type": "markdown",
      "metadata": {
        "id": "sosPwi9IkF3k"
      },
      "source": [
        "Np.newaxis uses the slicing operator to recreate the array, while np.reshape reshapes the array to the desired layout (assuming that the dimensions match, this is must for a reshape to happen).\n",
        "\n",
        "Np.newaxis just add another dimension where it has been specified, but reshape changes the entire data in valid computation and rearrangement."
      ]
    },
    {
      "cell_type": "markdown",
      "metadata": {
        "id": "J-9nOFGVkF3k"
      },
      "source": [
        "## Numpy Where"
      ]
    },
    {
      "cell_type": "code",
      "metadata": {
        "id": "1LGrgxAnkF3l"
      },
      "source": [
        "cExampleData=np.arange(100,500,50)"
      ],
      "execution_count": 146,
      "outputs": []
    },
    {
      "cell_type": "code",
      "metadata": {
        "id": "UtHUU7KJkF3l",
        "colab": {
          "base_uri": "https://localhost:8080/"
        },
        "outputId": "19c53193-aaf8-4de2-94d0-56b63e9eade2"
      },
      "source": [
        "cExampleData"
      ],
      "execution_count": 147,
      "outputs": [
        {
          "output_type": "execute_result",
          "data": {
            "text/plain": [
              "array([100, 150, 200, 250, 300, 350, 400, 450])"
            ]
          },
          "metadata": {
            "tags": []
          },
          "execution_count": 147
        }
      ]
    },
    {
      "cell_type": "code",
      "metadata": {
        "id": "oDP8TohOkF3l",
        "colab": {
          "base_uri": "https://localhost:8080/"
        },
        "outputId": "fd6571ff-6ca2-4e4b-a24c-794f4c6fd5c5"
      },
      "source": [
        "np.where(cExampleData <300)"
      ],
      "execution_count": 148,
      "outputs": [
        {
          "output_type": "execute_result",
          "data": {
            "text/plain": [
              "(array([0, 1, 2, 3]),)"
            ]
          },
          "metadata": {
            "tags": []
          },
          "execution_count": 148
        }
      ]
    },
    {
      "cell_type": "code",
      "metadata": {
        "id": "32rl6UnbkF3l",
        "colab": {
          "base_uri": "https://localhost:8080/"
        },
        "outputId": "7cb00288-040f-4db9-9eb5-872828eb7b0a"
      },
      "source": [
        "cExampleData[np.where(cExampleData <300)]"
      ],
      "execution_count": 149,
      "outputs": [
        {
          "output_type": "execute_result",
          "data": {
            "text/plain": [
              "array([100, 150, 200, 250])"
            ]
          },
          "metadata": {
            "tags": []
          },
          "execution_count": 149
        }
      ]
    },
    {
      "cell_type": "markdown",
      "metadata": {
        "id": "5aC6IMxYkF3l"
      },
      "source": [
        "## Dense layer calculation using numpy"
      ]
    },
    {
      "cell_type": "code",
      "metadata": {
        "id": "4TREUzL1kF3l"
      },
      "source": [
        "import numpy as np"
      ],
      "execution_count": null,
      "outputs": []
    },
    {
      "cell_type": "code",
      "metadata": {
        "id": "ZIxGYD6WkF3l"
      },
      "source": [
        "inputLayer=np.random.random(20)"
      ],
      "execution_count": 155,
      "outputs": []
    },
    {
      "cell_type": "code",
      "metadata": {
        "id": "LJ_Sub0PkF3l",
        "colab": {
          "base_uri": "https://localhost:8080/"
        },
        "outputId": "a96b3f4e-283f-49a7-f9bd-97092d65fd30"
      },
      "source": [
        "inputLayer"
      ],
      "execution_count": 156,
      "outputs": [
        {
          "output_type": "execute_result",
          "data": {
            "text/plain": [
              "array([0.11063313, 0.31251765, 0.79811529, 0.94930949, 0.53243437,\n",
              "       0.53467538, 0.86625889, 0.2920519 , 0.82674939, 0.29913445,\n",
              "       0.14077846, 0.76907578, 0.02036023, 0.743692  , 0.90333526,\n",
              "       0.88677811, 0.53595117, 0.64214603, 0.00119373, 0.56375592])"
            ]
          },
          "metadata": {
            "tags": []
          },
          "execution_count": 156
        }
      ]
    },
    {
      "cell_type": "code",
      "metadata": {
        "id": "I11EWWbdkF3m"
      },
      "source": [
        "hiddenLayer=np.random.randn(500,20)"
      ],
      "execution_count": 157,
      "outputs": []
    },
    {
      "cell_type": "code",
      "metadata": {
        "id": "yBNsoMF6kF3m"
      },
      "source": [
        "biasLayer=np.random.random(500)"
      ],
      "execution_count": 158,
      "outputs": []
    },
    {
      "cell_type": "code",
      "metadata": {
        "id": "7Ulge-8IkF3m",
        "colab": {
          "base_uri": "https://localhost:8080/"
        },
        "outputId": "1ca0babe-1273-4f27-ceff-794c4ed93fb3"
      },
      "source": [
        "inputLayer.shape, hiddenLayer.shape,biasLayer.shape"
      ],
      "execution_count": 159,
      "outputs": [
        {
          "output_type": "execute_result",
          "data": {
            "text/plain": [
              "((20,), (500, 20), (500,))"
            ]
          },
          "metadata": {
            "tags": []
          },
          "execution_count": 159
        }
      ]
    },
    {
      "cell_type": "code",
      "metadata": {
        "id": "P8Jyaad-kF3m"
      },
      "source": [
        "outputL=np.dot(hiddenLayer,inputLayer)+biasLayer"
      ],
      "execution_count": 163,
      "outputs": []
    },
    {
      "cell_type": "code",
      "metadata": {
        "id": "yDfPqZiVkF3m",
        "colab": {
          "base_uri": "https://localhost:8080/"
        },
        "outputId": "6e9b6cb3-298b-4b62-9b3c-b7645d4c88db"
      },
      "source": [
        "outputL.shape"
      ],
      "execution_count": 161,
      "outputs": [
        {
          "output_type": "execute_result",
          "data": {
            "text/plain": [
              "(500,)"
            ]
          },
          "metadata": {
            "tags": []
          },
          "execution_count": 161
        }
      ]
    },
    {
      "cell_type": "code",
      "metadata": {
        "scrolled": true,
        "id": "i1iV65HXkF3m",
        "outputId": "2f41efce-9e5a-40bc-b894-a5dfa9943388"
      },
      "source": [
        "np.maximum(0,outputL)"
      ],
      "execution_count": null,
      "outputs": [
        {
          "output_type": "execute_result",
          "data": {
            "text/plain": [
              "array([0.00000000e+00, 4.09293249e+00, 0.00000000e+00, 0.00000000e+00,\n",
              "       4.81268902e+00, 2.76360385e+00, 0.00000000e+00, 2.72644382e+00,\n",
              "       0.00000000e+00, 0.00000000e+00, 0.00000000e+00, 1.65591123e+00,\n",
              "       0.00000000e+00, 2.00583890e+00, 0.00000000e+00, 0.00000000e+00,\n",
              "       1.29607326e+00, 0.00000000e+00, 0.00000000e+00, 2.45720653e+00,\n",
              "       4.40431500e+00, 0.00000000e+00, 2.80632553e+00, 0.00000000e+00,\n",
              "       0.00000000e+00, 3.54960351e+00, 6.57224915e+00, 4.85467633e-03,\n",
              "       0.00000000e+00, 2.57976916e+00, 7.03988148e+00, 3.01541599e+00,\n",
              "       0.00000000e+00, 0.00000000e+00, 0.00000000e+00, 0.00000000e+00,\n",
              "       6.50900448e-01, 0.00000000e+00, 1.15352058e+00, 2.74336706e+00,\n",
              "       3.80829779e+00, 6.53158701e+00, 0.00000000e+00, 0.00000000e+00,\n",
              "       0.00000000e+00, 1.71125197e+00, 0.00000000e+00, 7.51761770e-01,\n",
              "       0.00000000e+00, 2.32432261e+00, 3.66854252e+00, 3.81600965e-01,\n",
              "       7.99193511e+00, 0.00000000e+00, 0.00000000e+00, 0.00000000e+00,\n",
              "       3.43226831e+00, 4.43401666e-01, 2.36456545e+00, 2.58377241e+00,\n",
              "       0.00000000e+00, 8.30470318e-01, 5.50272220e-01, 0.00000000e+00,\n",
              "       8.53213050e-01, 1.24041124e+00, 5.45973414e-01, 2.29574230e+00,\n",
              "       0.00000000e+00, 0.00000000e+00, 0.00000000e+00, 0.00000000e+00,\n",
              "       0.00000000e+00, 4.62370867e-01, 1.62444478e+00, 1.48221665e+00,\n",
              "       3.46746838e+00, 1.65053184e+00, 0.00000000e+00, 0.00000000e+00,\n",
              "       0.00000000e+00, 0.00000000e+00, 1.89934585e+00, 5.25380584e-01,\n",
              "       0.00000000e+00, 0.00000000e+00, 2.70237360e+00, 2.12090244e-01,\n",
              "       5.01530563e+00, 0.00000000e+00, 5.07902020e+00, 0.00000000e+00,\n",
              "       0.00000000e+00, 9.56243617e-01, 0.00000000e+00, 0.00000000e+00,\n",
              "       2.11800180e+00, 2.60624162e+00, 0.00000000e+00, 1.14975714e-01,\n",
              "       2.71707903e+00, 0.00000000e+00, 2.45140631e+00, 0.00000000e+00,\n",
              "       3.76909595e+00, 2.03174601e+00, 0.00000000e+00, 3.34932211e+00,\n",
              "       0.00000000e+00, 0.00000000e+00, 0.00000000e+00, 3.41721263e-01,\n",
              "       7.56490867e-01, 0.00000000e+00, 0.00000000e+00, 0.00000000e+00,\n",
              "       3.13655862e+00, 0.00000000e+00, 9.90544948e-01, 5.86930066e-01,\n",
              "       0.00000000e+00, 8.39767773e-01, 4.17446327e-01, 0.00000000e+00,\n",
              "       2.37440477e+00, 2.40033857e+00, 4.91041197e+00, 3.81559225e+00,\n",
              "       0.00000000e+00, 1.92348386e+00, 9.01272736e-01, 0.00000000e+00,\n",
              "       2.96219486e+00, 1.70945742e+00, 1.47953580e+00, 0.00000000e+00,\n",
              "       1.84371788e+00, 0.00000000e+00, 0.00000000e+00, 1.92127198e+00,\n",
              "       0.00000000e+00, 0.00000000e+00, 2.45096516e+00, 2.92100866e+00,\n",
              "       1.92961561e+00, 0.00000000e+00, 1.22531500e+00, 0.00000000e+00,\n",
              "       0.00000000e+00, 8.10007516e-01, 7.38984463e+00, 5.34416063e-01,\n",
              "       1.75166462e+00, 1.92941847e+00, 5.00101643e-01, 0.00000000e+00,\n",
              "       0.00000000e+00, 1.19887664e+00, 2.57465316e+00, 1.35158379e+00,\n",
              "       0.00000000e+00, 0.00000000e+00, 3.28193522e+00, 0.00000000e+00,\n",
              "       0.00000000e+00, 2.26756511e+00, 0.00000000e+00, 3.76428904e+00,\n",
              "       0.00000000e+00, 1.26202147e+00, 2.00183601e+00, 0.00000000e+00,\n",
              "       1.87937288e+00, 1.51680444e+00, 0.00000000e+00, 2.91775129e+00,\n",
              "       5.54250001e+00, 2.33520257e+00, 3.09723360e-01, 1.62463492e+00,\n",
              "       1.70769278e+00, 8.08820105e-01, 3.50961022e+00, 7.27035512e+00,\n",
              "       1.58698602e+00, 0.00000000e+00, 4.70202854e+00, 9.94014857e-01,\n",
              "       3.57067417e+00, 1.62803998e+00, 0.00000000e+00, 2.08819995e+00,\n",
              "       4.20013600e+00, 7.22703750e-01, 2.95314580e+00, 3.60872305e+00,\n",
              "       1.28650530e+00, 2.19146635e+00, 0.00000000e+00, 1.45403516e+00,\n",
              "       0.00000000e+00, 0.00000000e+00, 3.67124579e+00, 1.75421768e+00,\n",
              "       2.73001688e+00, 7.93165945e-01, 0.00000000e+00, 3.84974092e+00,\n",
              "       2.13028713e+00, 3.50880550e+00, 2.34149198e+00, 4.02960771e+00,\n",
              "       1.08022384e+00, 2.06806926e+00, 0.00000000e+00, 3.40057738e+00,\n",
              "       0.00000000e+00, 2.12801839e+00, 2.65457403e+00, 0.00000000e+00,\n",
              "       0.00000000e+00, 0.00000000e+00, 2.34629096e+00, 0.00000000e+00,\n",
              "       4.59291197e+00, 0.00000000e+00, 4.56824924e+00, 7.27994869e+00,\n",
              "       1.13281214e+00, 0.00000000e+00, 0.00000000e+00, 1.87308884e+00,\n",
              "       0.00000000e+00, 1.40728172e+00, 8.94172879e-01, 0.00000000e+00,\n",
              "       6.32417755e-01, 0.00000000e+00, 4.55219877e+00, 0.00000000e+00,\n",
              "       1.73511847e+00, 3.51134681e+00, 4.05264160e+00, 0.00000000e+00,\n",
              "       0.00000000e+00, 1.92279022e+00, 1.05061386e+00, 2.38806669e-01,\n",
              "       0.00000000e+00, 7.82702247e-01, 0.00000000e+00, 0.00000000e+00,\n",
              "       1.48264698e+00, 0.00000000e+00, 0.00000000e+00, 5.09361340e+00,\n",
              "       3.21636435e+00, 1.02837559e+00, 0.00000000e+00, 0.00000000e+00,\n",
              "       3.46007761e+00, 4.61179527e+00, 4.63810965e+00, 0.00000000e+00,\n",
              "       0.00000000e+00, 7.44776645e-01, 0.00000000e+00, 0.00000000e+00,\n",
              "       6.23022164e+00, 1.33765329e+00, 2.82257469e+00, 5.95796759e+00,\n",
              "       2.88192599e+00, 0.00000000e+00, 0.00000000e+00, 5.69123853e+00,\n",
              "       4.34516129e-01, 3.13581701e+00, 1.56909836e+00, 3.24077719e+00,\n",
              "       4.06127683e-01, 0.00000000e+00, 8.44090162e-02, 0.00000000e+00,\n",
              "       2.43161417e+00, 5.04117359e+00, 9.45388143e-01, 3.05651302e+00,\n",
              "       0.00000000e+00, 3.33734774e+00, 0.00000000e+00, 2.35329193e+00,\n",
              "       0.00000000e+00, 4.06371423e+00, 2.45187412e+00, 2.40254559e+00,\n",
              "       6.13008919e+00, 0.00000000e+00, 4.61754928e+00, 0.00000000e+00,\n",
              "       0.00000000e+00, 0.00000000e+00, 1.28816173e+00, 7.27822492e-01,\n",
              "       0.00000000e+00, 0.00000000e+00, 2.60777517e+00, 5.01473689e+00,\n",
              "       6.03325913e-02, 3.05511872e+00, 0.00000000e+00, 1.76660629e+00,\n",
              "       0.00000000e+00, 5.45341415e+00, 0.00000000e+00, 0.00000000e+00,\n",
              "       1.92406306e+00, 1.80409344e+00, 5.55682378e+00, 0.00000000e+00,\n",
              "       5.80284450e-01, 3.17138907e+00, 6.68543818e+00, 6.62403662e-01,\n",
              "       2.97952506e-01, 0.00000000e+00, 0.00000000e+00, 3.90422175e+00,\n",
              "       7.58334647e-01, 0.00000000e+00, 0.00000000e+00, 3.70633003e+00,\n",
              "       1.32817179e+00, 1.45163957e+00, 3.10374224e+00, 2.41394889e+00,\n",
              "       0.00000000e+00, 0.00000000e+00, 0.00000000e+00, 2.39025002e+00,\n",
              "       6.47025044e-01, 1.83299666e+00, 9.55399059e-01, 4.90403826e+00,\n",
              "       0.00000000e+00, 0.00000000e+00, 1.75840639e+00, 8.78317534e-01,\n",
              "       0.00000000e+00, 0.00000000e+00, 0.00000000e+00, 4.81268916e+00,\n",
              "       0.00000000e+00, 8.62576661e-01, 4.47460472e+00, 0.00000000e+00,\n",
              "       0.00000000e+00, 5.52094310e+00, 0.00000000e+00, 0.00000000e+00,\n",
              "       0.00000000e+00, 7.41140524e-01, 2.19990241e+00, 0.00000000e+00,\n",
              "       1.41610929e+00, 0.00000000e+00, 3.18357750e+00, 4.27854961e-01,\n",
              "       0.00000000e+00, 0.00000000e+00, 3.85905372e-01, 6.18427532e-01,\n",
              "       4.74473160e+00, 0.00000000e+00, 0.00000000e+00, 2.99261777e+00,\n",
              "       2.58077673e+00, 0.00000000e+00, 2.63786929e+00, 1.94009500e+00,\n",
              "       1.30013813e+00, 2.18805759e+00, 0.00000000e+00, 0.00000000e+00,\n",
              "       0.00000000e+00, 0.00000000e+00, 0.00000000e+00, 2.99765842e-01,\n",
              "       0.00000000e+00, 0.00000000e+00, 0.00000000e+00, 9.19573667e-01,\n",
              "       1.96737071e+00, 0.00000000e+00, 0.00000000e+00, 2.70521320e+00,\n",
              "       0.00000000e+00, 1.97864841e+00, 1.14362237e+00, 5.93104694e-01,\n",
              "       2.78555778e+00, 1.92029791e+00, 2.21295719e+00, 2.07133279e+00,\n",
              "       3.00675880e+00, 0.00000000e+00, 1.62717007e-01, 8.14687402e-01,\n",
              "       1.25875154e+00, 2.89431322e+00, 0.00000000e+00, 3.57261478e+00,\n",
              "       6.55772859e-02, 0.00000000e+00, 7.57472797e-01, 0.00000000e+00,\n",
              "       3.84298717e+00, 3.85797883e+00, 5.65150137e+00, 1.84996342e+00,\n",
              "       1.27442031e+00, 4.76563567e-01, 0.00000000e+00, 0.00000000e+00,\n",
              "       0.00000000e+00, 5.00289207e+00, 1.99605657e-01, 0.00000000e+00,\n",
              "       1.64373547e+00, 1.61302686e+00, 2.93061655e+00, 0.00000000e+00,\n",
              "       2.74431137e+00, 0.00000000e+00, 3.35880448e+00, 2.02673601e+00,\n",
              "       0.00000000e+00, 1.26829111e+00, 0.00000000e+00, 3.02879770e+00,\n",
              "       3.86332724e-02, 0.00000000e+00, 5.70198888e+00, 5.37174116e+00,\n",
              "       2.42499400e+00, 0.00000000e+00, 9.86172373e-01, 3.28375171e-01,\n",
              "       0.00000000e+00, 0.00000000e+00, 0.00000000e+00, 0.00000000e+00,\n",
              "       0.00000000e+00, 1.59577932e+00, 0.00000000e+00, 0.00000000e+00,\n",
              "       0.00000000e+00, 0.00000000e+00, 3.26508063e-01, 5.62298652e-01,\n",
              "       0.00000000e+00, 0.00000000e+00, 4.27188082e+00, 3.71638928e+00,\n",
              "       0.00000000e+00, 0.00000000e+00, 8.72637868e-01, 5.04341646e+00,\n",
              "       0.00000000e+00, 1.48812458e+00, 1.90468562e+00, 3.77260806e+00,\n",
              "       0.00000000e+00, 0.00000000e+00, 6.60177095e-01, 0.00000000e+00,\n",
              "       1.15619025e+00, 1.45748621e+00, 7.41137922e-01, 2.08201303e+00,\n",
              "       3.74382907e+00, 0.00000000e+00, 7.79295176e-01, 1.65339946e+00,\n",
              "       1.44492050e+00, 0.00000000e+00, 0.00000000e+00, 9.33295577e-01,\n",
              "       5.19198789e+00, 3.96748267e+00, 2.48096718e+00, 0.00000000e+00,\n",
              "       0.00000000e+00, 1.18419306e+00, 0.00000000e+00, 8.82170098e-01,\n",
              "       2.00877025e+00, 2.28814451e+00, 3.72840226e+00, 0.00000000e+00])"
            ]
          },
          "metadata": {
            "tags": []
          },
          "execution_count": 201
        }
      ]
    },
    {
      "cell_type": "markdown",
      "metadata": {
        "id": "lA3Fe9mbkF3m"
      },
      "source": [
        "## Convolution layer using Numpy"
      ]
    },
    {
      "cell_type": "code",
      "metadata": {
        "id": "qu617Y92kF3n",
        "colab": {
          "base_uri": "https://localhost:8080/"
        },
        "outputId": "292071c7-7299-46e0-eee7-abaffed9a975"
      },
      "source": [
        "15*15*3"
      ],
      "execution_count": 165,
      "outputs": [
        {
          "output_type": "execute_result",
          "data": {
            "text/plain": [
              "675"
            ]
          },
          "metadata": {
            "tags": []
          },
          "execution_count": 165
        }
      ]
    },
    {
      "cell_type": "code",
      "metadata": {
        "id": "sdx1CpOSkF3n"
      },
      "source": [
        "imageData=np.random.rand(225).reshape(15,15)"
      ],
      "execution_count": 166,
      "outputs": []
    },
    {
      "cell_type": "code",
      "metadata": {
        "id": "n6loiGavkF3n",
        "colab": {
          "base_uri": "https://localhost:8080/"
        },
        "outputId": "b51d659e-1bd1-4c23-9ebe-3560fcda05e6"
      },
      "source": [
        "imageData.shape"
      ],
      "execution_count": 167,
      "outputs": [
        {
          "output_type": "execute_result",
          "data": {
            "text/plain": [
              "(15, 15)"
            ]
          },
          "metadata": {
            "tags": []
          },
          "execution_count": 167
        }
      ]
    },
    {
      "cell_type": "code",
      "metadata": {
        "id": "HymI5rMTkF3n",
        "colab": {
          "base_uri": "https://localhost:8080/"
        },
        "outputId": "73ab481a-3150-4d88-a5f4-4d5547886819"
      },
      "source": [
        "imageData[0:3,1:4]"
      ],
      "execution_count": 168,
      "outputs": [
        {
          "output_type": "execute_result",
          "data": {
            "text/plain": [
              "array([[0.52228651, 0.48377168, 0.32348478],\n",
              "       [0.35643262, 0.52019921, 0.03022237],\n",
              "       [0.57334889, 0.32301998, 0.5419057 ]])"
            ]
          },
          "metadata": {
            "tags": []
          },
          "execution_count": 168
        }
      ]
    },
    {
      "cell_type": "code",
      "metadata": {
        "id": "4IZQuvzGkF3n",
        "colab": {
          "base_uri": "https://localhost:8080/"
        },
        "outputId": "061251d0-4e86-456a-8ef1-11d55f3953ca"
      },
      "source": [
        "imageData[:5,:5]"
      ],
      "execution_count": 169,
      "outputs": [
        {
          "output_type": "execute_result",
          "data": {
            "text/plain": [
              "array([[0.21962223, 0.52228651, 0.48377168, 0.32348478, 0.80512529],\n",
              "       [0.10904302, 0.35643262, 0.52019921, 0.03022237, 0.0319561 ],\n",
              "       [0.22097577, 0.57334889, 0.32301998, 0.5419057 , 0.71017751],\n",
              "       [0.05496197, 0.08986714, 0.42158467, 0.46832448, 0.16937432],\n",
              "       [0.15108905, 0.17668317, 0.12162155, 0.96281115, 0.70438966]])"
            ]
          },
          "metadata": {
            "tags": []
          },
          "execution_count": 169
        }
      ]
    },
    {
      "cell_type": "code",
      "metadata": {
        "id": "rUriel0vkF3o"
      },
      "source": [
        "filterSize=np.array([[1,0,0],[0,1,0],[0,0,1]])"
      ],
      "execution_count": 170,
      "outputs": []
    },
    {
      "cell_type": "code",
      "metadata": {
        "id": "XdEYDXAqkF3o",
        "colab": {
          "base_uri": "https://localhost:8080/"
        },
        "outputId": "a2f3ddec-f267-48e2-97d3-dbef5fa2854c"
      },
      "source": [
        "filterSize.shape"
      ],
      "execution_count": 171,
      "outputs": [
        {
          "output_type": "execute_result",
          "data": {
            "text/plain": [
              "(3, 3)"
            ]
          },
          "metadata": {
            "tags": []
          },
          "execution_count": 171
        }
      ]
    },
    {
      "cell_type": "code",
      "metadata": {
        "id": "i7X1-f0hkF3o",
        "outputId": "904b6094-8802-4aa2-cefa-93c2f67cd6c3"
      },
      "source": [
        "for k in range(13):\n",
        "    for j in range(13):\n",
        "        print (k,'row ',(k,k+3),(j,j+3))"
      ],
      "execution_count": null,
      "outputs": [
        {
          "output_type": "stream",
          "text": [
            "0 row  (0, 3) (0, 3)\n",
            "0 row  (0, 3) (1, 4)\n",
            "0 row  (0, 3) (2, 5)\n",
            "0 row  (0, 3) (3, 6)\n",
            "0 row  (0, 3) (4, 7)\n",
            "0 row  (0, 3) (5, 8)\n",
            "0 row  (0, 3) (6, 9)\n",
            "0 row  (0, 3) (7, 10)\n",
            "0 row  (0, 3) (8, 11)\n",
            "0 row  (0, 3) (9, 12)\n",
            "0 row  (0, 3) (10, 13)\n",
            "0 row  (0, 3) (11, 14)\n",
            "0 row  (0, 3) (12, 15)\n",
            "1 row  (1, 4) (0, 3)\n",
            "1 row  (1, 4) (1, 4)\n",
            "1 row  (1, 4) (2, 5)\n",
            "1 row  (1, 4) (3, 6)\n",
            "1 row  (1, 4) (4, 7)\n",
            "1 row  (1, 4) (5, 8)\n",
            "1 row  (1, 4) (6, 9)\n",
            "1 row  (1, 4) (7, 10)\n",
            "1 row  (1, 4) (8, 11)\n",
            "1 row  (1, 4) (9, 12)\n",
            "1 row  (1, 4) (10, 13)\n",
            "1 row  (1, 4) (11, 14)\n",
            "1 row  (1, 4) (12, 15)\n",
            "2 row  (2, 5) (0, 3)\n",
            "2 row  (2, 5) (1, 4)\n",
            "2 row  (2, 5) (2, 5)\n",
            "2 row  (2, 5) (3, 6)\n",
            "2 row  (2, 5) (4, 7)\n",
            "2 row  (2, 5) (5, 8)\n",
            "2 row  (2, 5) (6, 9)\n",
            "2 row  (2, 5) (7, 10)\n",
            "2 row  (2, 5) (8, 11)\n",
            "2 row  (2, 5) (9, 12)\n",
            "2 row  (2, 5) (10, 13)\n",
            "2 row  (2, 5) (11, 14)\n",
            "2 row  (2, 5) (12, 15)\n",
            "3 row  (3, 6) (0, 3)\n",
            "3 row  (3, 6) (1, 4)\n",
            "3 row  (3, 6) (2, 5)\n",
            "3 row  (3, 6) (3, 6)\n",
            "3 row  (3, 6) (4, 7)\n",
            "3 row  (3, 6) (5, 8)\n",
            "3 row  (3, 6) (6, 9)\n",
            "3 row  (3, 6) (7, 10)\n",
            "3 row  (3, 6) (8, 11)\n",
            "3 row  (3, 6) (9, 12)\n",
            "3 row  (3, 6) (10, 13)\n",
            "3 row  (3, 6) (11, 14)\n",
            "3 row  (3, 6) (12, 15)\n",
            "4 row  (4, 7) (0, 3)\n",
            "4 row  (4, 7) (1, 4)\n",
            "4 row  (4, 7) (2, 5)\n",
            "4 row  (4, 7) (3, 6)\n",
            "4 row  (4, 7) (4, 7)\n",
            "4 row  (4, 7) (5, 8)\n",
            "4 row  (4, 7) (6, 9)\n",
            "4 row  (4, 7) (7, 10)\n",
            "4 row  (4, 7) (8, 11)\n",
            "4 row  (4, 7) (9, 12)\n",
            "4 row  (4, 7) (10, 13)\n",
            "4 row  (4, 7) (11, 14)\n",
            "4 row  (4, 7) (12, 15)\n",
            "5 row  (5, 8) (0, 3)\n",
            "5 row  (5, 8) (1, 4)\n",
            "5 row  (5, 8) (2, 5)\n",
            "5 row  (5, 8) (3, 6)\n",
            "5 row  (5, 8) (4, 7)\n",
            "5 row  (5, 8) (5, 8)\n",
            "5 row  (5, 8) (6, 9)\n",
            "5 row  (5, 8) (7, 10)\n",
            "5 row  (5, 8) (8, 11)\n",
            "5 row  (5, 8) (9, 12)\n",
            "5 row  (5, 8) (10, 13)\n",
            "5 row  (5, 8) (11, 14)\n",
            "5 row  (5, 8) (12, 15)\n",
            "6 row  (6, 9) (0, 3)\n",
            "6 row  (6, 9) (1, 4)\n",
            "6 row  (6, 9) (2, 5)\n",
            "6 row  (6, 9) (3, 6)\n",
            "6 row  (6, 9) (4, 7)\n",
            "6 row  (6, 9) (5, 8)\n",
            "6 row  (6, 9) (6, 9)\n",
            "6 row  (6, 9) (7, 10)\n",
            "6 row  (6, 9) (8, 11)\n",
            "6 row  (6, 9) (9, 12)\n",
            "6 row  (6, 9) (10, 13)\n",
            "6 row  (6, 9) (11, 14)\n",
            "6 row  (6, 9) (12, 15)\n",
            "7 row  (7, 10) (0, 3)\n",
            "7 row  (7, 10) (1, 4)\n",
            "7 row  (7, 10) (2, 5)\n",
            "7 row  (7, 10) (3, 6)\n",
            "7 row  (7, 10) (4, 7)\n",
            "7 row  (7, 10) (5, 8)\n",
            "7 row  (7, 10) (6, 9)\n",
            "7 row  (7, 10) (7, 10)\n",
            "7 row  (7, 10) (8, 11)\n",
            "7 row  (7, 10) (9, 12)\n",
            "7 row  (7, 10) (10, 13)\n",
            "7 row  (7, 10) (11, 14)\n",
            "7 row  (7, 10) (12, 15)\n",
            "8 row  (8, 11) (0, 3)\n",
            "8 row  (8, 11) (1, 4)\n",
            "8 row  (8, 11) (2, 5)\n",
            "8 row  (8, 11) (3, 6)\n",
            "8 row  (8, 11) (4, 7)\n",
            "8 row  (8, 11) (5, 8)\n",
            "8 row  (8, 11) (6, 9)\n",
            "8 row  (8, 11) (7, 10)\n",
            "8 row  (8, 11) (8, 11)\n",
            "8 row  (8, 11) (9, 12)\n",
            "8 row  (8, 11) (10, 13)\n",
            "8 row  (8, 11) (11, 14)\n",
            "8 row  (8, 11) (12, 15)\n",
            "9 row  (9, 12) (0, 3)\n",
            "9 row  (9, 12) (1, 4)\n",
            "9 row  (9, 12) (2, 5)\n",
            "9 row  (9, 12) (3, 6)\n",
            "9 row  (9, 12) (4, 7)\n",
            "9 row  (9, 12) (5, 8)\n",
            "9 row  (9, 12) (6, 9)\n",
            "9 row  (9, 12) (7, 10)\n",
            "9 row  (9, 12) (8, 11)\n",
            "9 row  (9, 12) (9, 12)\n",
            "9 row  (9, 12) (10, 13)\n",
            "9 row  (9, 12) (11, 14)\n",
            "9 row  (9, 12) (12, 15)\n",
            "10 row  (10, 13) (0, 3)\n",
            "10 row  (10, 13) (1, 4)\n",
            "10 row  (10, 13) (2, 5)\n",
            "10 row  (10, 13) (3, 6)\n",
            "10 row  (10, 13) (4, 7)\n",
            "10 row  (10, 13) (5, 8)\n",
            "10 row  (10, 13) (6, 9)\n",
            "10 row  (10, 13) (7, 10)\n",
            "10 row  (10, 13) (8, 11)\n",
            "10 row  (10, 13) (9, 12)\n",
            "10 row  (10, 13) (10, 13)\n",
            "10 row  (10, 13) (11, 14)\n",
            "10 row  (10, 13) (12, 15)\n",
            "11 row  (11, 14) (0, 3)\n",
            "11 row  (11, 14) (1, 4)\n",
            "11 row  (11, 14) (2, 5)\n",
            "11 row  (11, 14) (3, 6)\n",
            "11 row  (11, 14) (4, 7)\n",
            "11 row  (11, 14) (5, 8)\n",
            "11 row  (11, 14) (6, 9)\n",
            "11 row  (11, 14) (7, 10)\n",
            "11 row  (11, 14) (8, 11)\n",
            "11 row  (11, 14) (9, 12)\n",
            "11 row  (11, 14) (10, 13)\n",
            "11 row  (11, 14) (11, 14)\n",
            "11 row  (11, 14) (12, 15)\n",
            "12 row  (12, 15) (0, 3)\n",
            "12 row  (12, 15) (1, 4)\n",
            "12 row  (12, 15) (2, 5)\n",
            "12 row  (12, 15) (3, 6)\n",
            "12 row  (12, 15) (4, 7)\n",
            "12 row  (12, 15) (5, 8)\n",
            "12 row  (12, 15) (6, 9)\n",
            "12 row  (12, 15) (7, 10)\n",
            "12 row  (12, 15) (8, 11)\n",
            "12 row  (12, 15) (9, 12)\n",
            "12 row  (12, 15) (10, 13)\n",
            "12 row  (12, 15) (11, 14)\n",
            "12 row  (12, 15) (12, 15)\n"
          ],
          "name": "stdout"
        }
      ]
    },
    {
      "cell_type": "code",
      "metadata": {
        "id": "LOoiDSVfkF3o"
      },
      "source": [
        "filSize=3\n",
        "outputVal=[]\n",
        "for k in range(13):\n",
        "    for j in range(13):\n",
        "        sampD=imageData[k:k+filSize,j:j+filSize]\n",
        "        outputVal.append(np.sum(sampD*filterSize))\n",
        "#         print (k,'row ',(k,k+3),(j,j+3))"
      ],
      "execution_count": 172,
      "outputs": []
    },
    {
      "cell_type": "code",
      "metadata": {
        "id": "BnzThKgwkF3o",
        "outputId": "63f13ebf-c128-4be7-cb2b-6e95202d0aab"
      },
      "source": [
        "len(outputVal)"
      ],
      "execution_count": null,
      "outputs": [
        {
          "output_type": "execute_result",
          "data": {
            "text/plain": [
              "169"
            ]
          },
          "metadata": {
            "tags": []
          },
          "execution_count": 215
        }
      ]
    },
    {
      "cell_type": "code",
      "metadata": {
        "id": "ed2pOQZokF3p"
      },
      "source": [
        "outputFinal2=np.array(outputVal).reshape(13,13)"
      ],
      "execution_count": null,
      "outputs": []
    },
    {
      "cell_type": "code",
      "metadata": {
        "id": "CaZLxAgNkF3p",
        "outputId": "5e2e76ae-36f0-4a7c-86ee-981b76f316d9"
      },
      "source": [
        "outputFinal2"
      ],
      "execution_count": null,
      "outputs": [
        {
          "output_type": "execute_result",
          "data": {
            "text/plain": [
              "array([[1.0495371 , 1.62051323, 1.36326517, 0.91646237, 1.71875153,\n",
              "        1.67074834, 2.71697971, 1.6912632 , 1.13366638, 2.04604664,\n",
              "        1.43654909, 2.14876681, 1.878898  ],\n",
              "       [1.57153447, 0.76550287, 1.07396812, 2.31744917, 1.15597923,\n",
              "        1.51379036, 1.12099391, 2.5734717 , 1.24828424, 1.80346968,\n",
              "        1.78734261, 1.01922192, 1.73783694],\n",
              "       [1.64705099, 1.50713875, 0.38507759, 1.03620949, 1.67632773,\n",
              "        1.13629366, 1.11367707, 1.02898951, 2.62844197, 1.74430282,\n",
              "        1.94416258, 2.20916818, 1.07549053],\n",
              "       [1.33505349, 1.67551555, 1.50177349, 0.37326999, 1.54713535,\n",
              "        1.78851346, 1.01939233, 0.94988304, 1.60554458, 2.1981238 ,\n",
              "        1.05950386, 2.21927968, 1.54866125],\n",
              "       [1.34342432, 1.26388449, 1.68990795, 1.5040302 , 1.25616543,\n",
              "        1.88934888, 1.4596106 , 1.4678751 , 1.85893118, 2.52640345,\n",
              "        1.61745832, 1.02418836, 2.09583061],\n",
              "       [0.96374296, 1.32861408, 1.22439521, 1.09616967, 1.35444114,\n",
              "        1.32496959, 1.34372838, 1.40254098, 1.38106199, 2.10725613,\n",
              "        2.53895162, 1.49973399, 0.7061494 ],\n",
              "       [1.5592798 , 1.54436606, 0.949289  , 1.13743115, 0.58255944,\n",
              "        1.15290357, 1.40298179, 1.05938322, 1.44978567, 1.24922326,\n",
              "        1.51330505, 2.38082856, 1.60678634],\n",
              "       [1.67022182, 1.28287383, 1.33215947, 1.08651057, 1.46110882,\n",
              "        0.77350685, 1.41445899, 1.11787509, 0.84040404, 0.94392442,\n",
              "        1.25491768, 1.02011911, 1.87567917],\n",
              "       [2.35166902, 1.66150164, 2.08306   , 2.01610566, 1.75418041,\n",
              "        1.58959219, 1.00009041, 1.70732253, 1.00753756, 0.90959684,\n",
              "        1.67919507, 1.84058826, 0.59554229],\n",
              "       [1.91028463, 2.46636022, 1.03496276, 1.2086656 , 1.70468911,\n",
              "        1.75005146, 1.53598921, 0.98651313, 1.85133519, 1.56825358,\n",
              "        0.92812262, 1.26221165, 1.8080013 ],\n",
              "       [1.91080443, 1.01547658, 2.11445816, 1.27246074, 1.56814069,\n",
              "        1.55656663, 1.90407528, 1.204976  , 1.22542249, 1.82392662,\n",
              "        1.47021276, 1.23069867, 1.58968355],\n",
              "       [2.900379  , 2.33588037, 1.33346125, 2.2307078 , 1.58626793,\n",
              "        0.77703389, 1.38892089, 1.70556799, 1.36199063, 1.08902564,\n",
              "        1.67695746, 1.70087832, 1.65203799],\n",
              "       [1.94150387, 2.52945033, 1.79500024, 0.74947119, 1.65899736,\n",
              "        1.68540559, 1.06060962, 1.83381236, 2.3623148 , 1.34732407,\n",
              "        1.38982471, 1.87772104, 1.76584021]])"
            ]
          },
          "metadata": {
            "tags": []
          },
          "execution_count": 217
        }
      ]
    },
    {
      "cell_type": "code",
      "metadata": {
        "id": "H0XtoYn-kF3p"
      },
      "source": [
        "sampD=imageData[:3,:3]"
      ],
      "execution_count": 173,
      "outputs": []
    },
    {
      "cell_type": "code",
      "metadata": {
        "id": "DBO7TvX7kF3p"
      },
      "source": [
        "# ((N-f)/s)+1"
      ],
      "execution_count": null,
      "outputs": []
    },
    {
      "cell_type": "code",
      "metadata": {
        "id": "ORxHeDEUkF3p",
        "outputId": "bbc621b4-cc01-42e2-9641-f1236934553b"
      },
      "source": [
        "(15-3)+1"
      ],
      "execution_count": null,
      "outputs": [
        {
          "output_type": "execute_result",
          "data": {
            "text/plain": [
              "13"
            ]
          },
          "metadata": {
            "tags": []
          },
          "execution_count": 221
        }
      ]
    },
    {
      "cell_type": "code",
      "metadata": {
        "id": "V3U_PFo0kF3q"
      },
      "source": [],
      "execution_count": null,
      "outputs": []
    },
    {
      "cell_type": "markdown",
      "metadata": {
        "id": "rnXUAKf9kF3q"
      },
      "source": [
        "## Function to try in numpy"
      ]
    },
    {
      "cell_type": "markdown",
      "metadata": {
        "id": "B7cwvbRbkF3q"
      },
      "source": [
        " -  np.newaxis\n",
        " -  np.matrix\n",
        " -  np.tanh\tCompute hyperbolic tangent element-wise.\n",
        " -  np.arcsinh\tInverse hyperbolic sine element-wise.\n",
        " -  np.arccosh\tInverse hyperbolic cosine, element-wise.\n",
        " -  np.arctanh\tInverse hyperbolic tangent element-wise.\n",
        " -  np.expm1\tCalculate exp(x) – 1 for all elements in the array.\n",
        " -  np.exp2\tCalculate 2**p for all p in the input array.\n",
        " -  np.log10\tReturn the base 10 logarithm of the input array, element-wise.\n",
        " -  np.log2\tBase-2 logarithm of x.\n",
        " -  np.log1p\tReturn the natural logarithm of one plus the input array, element-wise.\n",
        " -  np.logaddexp\tLogarithm of the sum of exponentiations of the inputs.\n",
        " -  np.logaddexp2\tLogarithm of the sum of exponentiations of the inputs in base-2.\n",
        " -  np.add\tAdd arguments element-wise.\n",
        " -  np.positive\tNumerical positive, element-wise.\n",
        " -  np.negative\tNumerical negative, element-wise.\n",
        " -  np.multiply\tMultiply arguments element-wise.\n",
        " -  np.power\tFirst array elements raised to powers from second array, element-wise.\n",
        " -  np.subtract\tSubtract arguments, element-wise.\n",
        " -  np.true_divide\tReturns a true division of the inputs, element-wise.\n",
        " -  np.floor_divide\tReturn the largest integer smaller or equal to the division of the inputs.\n",
        " -  np.float_power\tFirst array elements raised to powers from second array, element-wise.\n",
        " -  np.mod\tReturn the element-wise remainder of division.\n",
        " -  np.remainder\tReturn element-wise remainder of division.\n",
        " -  np.divmod\tReturn element-wise quotient and remainder simultaneously."
      ]
    },
    {
      "cell_type": "markdown",
      "metadata": {
        "id": "dxkfeDKCkF3q"
      },
      "source": [
        "source:\n",
        " - https://www.youtube.com/watch?v=poD8ud4MxOY\n",
        " -      :https://numpy.org/\n",
        " -    :https://numpy.org/devdocs/user/quickstart.html"
      ]
    },
    {
      "cell_type": "code",
      "metadata": {
        "id": "QcSOSd9xkF3r"
      },
      "source": [],
      "execution_count": null,
      "outputs": []
    }
  ]
}